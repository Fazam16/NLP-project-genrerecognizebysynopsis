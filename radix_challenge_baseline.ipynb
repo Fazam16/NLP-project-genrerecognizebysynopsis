{
  "cells": [
    {
      "cell_type": "markdown",
      "metadata": {
        "colab_type": "text",
        "id": "view-in-github"
      },
      "source": [
        "<a href=\"https://colab.research.google.com/github/opsabarsec/NLP--film-genres-from-synopsis/blob/main/radix_challenge.ipynb\" target=\"_parent\"><img src=\"https://colab.research.google.com/assets/colab-badge.svg\" alt=\"Open In Colab\"/></a>"
      ]
    },
    {
      "cell_type": "markdown",
      "metadata": {
        "id": "d6kB19cOKYjr"
      },
      "source": [
        "# Automatic assignment of genres from movie synopsis using supervised machine learning"
      ]
    },
    {
      "cell_type": "markdown",
      "metadata": {
        "id": "rEXqk7gVKYjz"
      },
      "source": [
        "## 1. Import libraries and load data"
      ]
    },
    {
      "cell_type": "code",
      "execution_count": 1,
      "metadata": {
        "_cell_guid": "b1076dfc-b9ad-4769-8c92-a6c4dae69d19",
        "_uuid": "8f2839f25d086af736a60e9eeb907d3b93b6e0e5",
        "id": "ca4CabSbKYj1"
      },
      "outputs": [],
      "source": [
        "#packages to load\n",
        "\n",
        "import numpy as np # linear algebra\n",
        "import pandas as pd # data processing, CSV file I/O (e.g. pd.read_csv)\n",
        "\n",
        "# NLP libraries\n",
        "\n",
        "from textblob import TextBlob, Word\n",
        "import nltk\n",
        "import re\n",
        "import csv\n",
        "from sklearn.preprocessing import MultiLabelBinarizer\n",
        "from sklearn.model_selection import train_test_split\n",
        "from keras.preprocessing.text import Tokenizer\n",
        "from keras.preprocessing.sequence import pad_sequences\n",
        "from keras.models import Sequential\n",
        "from keras.layers import Embedding, LSTM, Dense\n",
        "\n",
        "# Deep learning libraries\n",
        "\n",
        "from keras.models import Model\n",
        "from keras_preprocessing.sequence import pad_sequences\n",
        "from keras.layers import Dense, Embedding, Input, LSTM, GlobalMaxPool1D, Dropout\n",
        "from keras.preprocessing.text import Tokenizer"
      ]
    },
    {
      "cell_type": "code",
      "execution_count": 2,
      "metadata": {
        "_cell_guid": "79c7e3d0-c299-4dcb-8224-4455121ee9b0",
        "_uuid": "d629ff2d2480ee46fbb7e2d37f6b5fab8052498a",
        "id": "7bBgajuqKYj2"
      },
      "outputs": [],
      "source": [
        "# load data\n",
        "train= pd.read_csv('./data/train.csv')\n",
        "test=pd.read_csv('./data/test.csv')"
      ]
    },
    {
      "cell_type": "markdown",
      "metadata": {
        "id": "LhjxQG-XKYj3"
      },
      "source": [
        "## 2. DATA PREPARATION "
      ]
    },
    {
      "cell_type": "code",
      "execution_count": 3,
      "metadata": {
        "id": "6VR0giutKYj4",
        "outputId": "eb98338a-d354-4362-8ad3-18ab6984eeaf"
      },
      "outputs": [
        {
          "name": "stderr",
          "output_type": "stream",
          "text": [
            "[nltk_data] Downloading package stopwords to\n",
            "[nltk_data]     C:\\Users\\ASUS\\AppData\\Roaming\\nltk_data...\n",
            "[nltk_data]   Package stopwords is already up-to-date!\n"
          ]
        }
      ],
      "source": [
        "nltk.download('stopwords')\n",
        "\n",
        "from nltk.corpus import stopwords\n",
        "stop_words = set(stopwords.words('english'))"
      ]
    },
    {
      "cell_type": "code",
      "execution_count": 4,
      "metadata": {
        "id": "gyCVQY5vKYj6"
      },
      "outputs": [],
      "source": [
        "# function for text cleaning \n",
        "def preprocess_text(text):\n",
        "    text = text.lower() # lowercase\n",
        "    text = re.sub(r\"what's\", \"what is \", text)\n",
        "    text = re.sub(r\"\\'s\", \" \", text)\n",
        "    text = re.sub(r\"\\'ve\", \" have \", text)\n",
        "    text = re.sub(r\"can't\", \"can not \", text)\n",
        "    text = re.sub(r\"n't\", \" not \", text)\n",
        "    text = re.sub(r\"i'm\", \"i am \", text)\n",
        "    text = re.sub(r\"\\'re\", \" are \", text)\n",
        "    text = re.sub(r\"\\'d\", \" would \", text)\n",
        "    text = re.sub(r\"\\'ll\", \" will \", text)\n",
        "    text = re.sub(r\"\\'scuse\", \" excuse \", text)\n",
        "    text = re.sub(r\"\\'\\n\", \" \", text) #line breaks\n",
        "    #text = re.sub(r\"\\'\\xa0\", \" \", text) # xa0 Unicode representing spaces\n",
        "    #text = re.sub('\\s+', ' ', text) # one or more whitespace characters\n",
        "    text = text.strip(' ') # spaces\n",
        "    # remove backslash-apostrophe \n",
        "    text = re.sub(\"\\'\", \"\", text) \n",
        "    # remove everything except alphabets \n",
        "    text = re.sub(\"[^a-zA-Z]\",\" \",text) \n",
        "    #lemmatize and remove stopwords\n",
        "    no_stopword_text = [w for w in text.split() if not w in stop_words]\n",
        "    text = ' '.join(no_stopword_text) \n",
        "        \n",
        "    return text\n",
        "\n",
        "train['clean_plot'] = train['synopsis'].apply(lambda x: preprocess_text(x))\n",
        "test['clean_plot'] = test['synopsis'].apply(lambda x: preprocess_text(x))"
      ]
    },
    {
      "cell_type": "code",
      "execution_count": 5,
      "metadata": {
        "id": "bVZgxGSvKYj7"
      },
      "outputs": [],
      "source": [
        "def lemma(text): # Lemmatization of cleaned body\n",
        "        sent = TextBlob(text)\n",
        "        tag_dict = {\"J\": 'a', \n",
        "                    \"N\": 'n', \n",
        "                    \"V\": 'v', \n",
        "                    \"R\": 'r'}\n",
        "        words_and_tags = [(w, tag_dict.get(pos[0], 'n')) for w, pos in sent.tags]    \n",
        "        lemmatized_list = [wd.lemmatize(tag) for wd, tag in words_and_tags]\n",
        "        seperator=' '\n",
        "        lemma = seperator.join(lemmatized_list) \n",
        "        return lemma"
      ]
    },
    {
      "cell_type": "code",
      "execution_count": 6,
      "metadata": {
        "id": "1WH56R_3KYj8"
      },
      "outputs": [],
      "source": [
        "train['lemma'] = train['clean_plot'].apply(lambda x: lemma(x))\n",
        "test['lemma'] = test['clean_plot'].apply(lambda x: lemma(x))"
      ]
    },
    {
      "cell_type": "markdown",
      "metadata": {
        "id": "xuQ9oPsdKYj8"
      },
      "source": [
        "## 3. Variables preparation "
      ]
    },
    {
      "cell_type": "code",
      "execution_count": 7,
      "metadata": {
        "id": "Gr7fpzedKYj-"
      },
      "outputs": [],
      "source": [
        "\n",
        "X = train['lemma']\n",
        "X_test = test['lemma']    "
      ]
    },
    {
      "cell_type": "markdown",
      "metadata": {
        "id": "D4CZNNpAKYj_"
      },
      "source": [
        "### 3.1 Target variable one hot encoding"
      ]
    },
    {
      "cell_type": "code",
      "execution_count": 8,
      "metadata": {
        "id": "dWWX0lWkKYj_"
      },
      "outputs": [],
      "source": [
        "#apply the onehot transformation for the genres vector\n",
        "y = train['genres']\n",
        "one_hot = MultiLabelBinarizer() # encoder for the  tags \n",
        "y_onehot = one_hot.fit_transform(y.str.split(' ')) \n",
        "y_bin = pd.DataFrame(y_onehot, columns=one_hot.classes_ ) # transform it to Pandas object"
      ]
    },
    {
      "cell_type": "code",
      "execution_count": 9,
      "metadata": {
        "id": "GXnL0mu5KYkA"
      },
      "outputs": [],
      "source": [
        "# tokenize\n",
        "max_features = 5000\n",
        "tokenizer = Tokenizer(num_words=max_features)\n",
        "tokenizer.fit_on_texts(list(X))\n",
        "list_tokenized_train = tokenizer.texts_to_sequences(X)\n",
        "list_tokenized_test = tokenizer.texts_to_sequences(X_test)"
      ]
    },
    {
      "cell_type": "code",
      "execution_count": 10,
      "metadata": {
        "id": "O2DFBo8tKYkA"
      },
      "outputs": [],
      "source": [
        "#fix max comment lenght\n",
        "maxlen = 100\n",
        "X_t = pad_sequences(list_tokenized_train, maxlen=maxlen)\n",
        "X_te = pad_sequences(list_tokenized_test, maxlen=maxlen)"
      ]
    },
    {
      "cell_type": "markdown",
      "metadata": {
        "id": "dIJrNQ9dKYkA"
      },
      "source": [
        "## 4.The Model"
      ]
    },
    {
      "cell_type": "code",
      "execution_count": 11,
      "metadata": {
        "id": "boheaXGPISCm"
      },
      "outputs": [],
      "source": [
        "#initialize parameters\n",
        "inp = Input(shape=(maxlen, )) #maxlen defined earlier\n",
        "embed_size = 128"
      ]
    },
    {
      "cell_type": "code",
      "execution_count": 12,
      "metadata": {
        "id": "BGz6T6XPKYkB"
      },
      "outputs": [],
      "source": [
        "# Neural network backbone\n",
        "x = Embedding(max_features, embed_size)(inp)\n",
        "\n",
        "x = LSTM(64, return_sequences=True,name='lstm_layer')(x)\n",
        "\n",
        "x = GlobalMaxPool1D()(x)\n",
        "x = Dropout(0.1)(x)\n",
        "x = Dense(50, activation=\"relu\")(x)\n",
        "x = Dropout(0.1)(x)\n",
        "x = Dense(len(y_bin.columns), activation=\"softmax\")(x)"
      ]
    },
    {
      "cell_type": "code",
      "execution_count": 13,
      "metadata": {
        "id": "BhHDmhNTKYkB"
      },
      "outputs": [],
      "source": [
        "# build the model\n",
        "model = Model(inputs=inp, outputs=x)\n",
        "model.compile(loss='binary_crossentropy',\n",
        "                  optimizer='adam',\n",
        "                  metrics=['accuracy'])"
      ]
    },
    {
      "cell_type": "code",
      "execution_count": 23,
      "metadata": {
        "id": "MImoilb7KYkB",
        "outputId": "48f5c3fd-6a8a-4c8d-8883-39a4875cb390"
      },
      "outputs": [
        {
          "name": "stdout",
          "output_type": "stream",
          "text": [
            "Epoch 1/3\n",
            "2055/2055 [==============================] - 74s 36ms/step - loss: 0.1526 - accuracy: 0.5809 - val_loss: 0.2178 - val_accuracy: 0.4614\n",
            "Epoch 2/3\n",
            "2055/2055 [==============================] - 61s 30ms/step - loss: 0.1446 - accuracy: 0.5962 - val_loss: 0.2208 - val_accuracy: 0.4587\n",
            "Epoch 3/3\n",
            "2055/2055 [==============================] - 81s 39ms/step - loss: 0.1374 - accuracy: 0.6071 - val_loss: 0.2267 - val_accuracy: 0.4518\n"
          ]
        }
      ],
      "source": [
        "# train the model\n",
        "batch_size = 16\n",
        "epochs = 3\n",
        "\n",
        "hist = model.fit(X_t,y_onehot, batch_size=batch_size, epochs=epochs, validation_split=0.1)\n"
      ]
    },
    {
      "cell_type": "markdown",
      "metadata": {
        "id": "b08G7DVcKYkB"
      },
      "source": [
        "## 5.The prediction"
      ]
    },
    {
      "cell_type": "code",
      "execution_count": 15,
      "metadata": {
        "id": "zNSUxqseKYkC",
        "outputId": "77627d9a-4bcf-4021-ff8b-53dea0daaba0"
      },
      "outputs": [
        {
          "name": "stdout",
          "output_type": "stream",
          "text": [
            "329/329 [==============================] - 4s 11ms/step\n",
            "(5250, 19)\n"
          ]
        }
      ],
      "source": [
        "y_pred = model.predict(X_te, batch_size=batch_size, verbose=1)\n",
        "print(y_pred.shape)"
      ]
    },
    {
      "cell_type": "code",
      "execution_count": 16,
      "metadata": {
        "id": "iv-d9wLIKYkC",
        "outputId": "7778c371-89ba-4740-8de7-8ea52db24572"
      },
      "outputs": [
        {
          "data": {
            "text/html": [
              "<div>\n",
              "<style scoped>\n",
              "    .dataframe tbody tr th:only-of-type {\n",
              "        vertical-align: middle;\n",
              "    }\n",
              "\n",
              "    .dataframe tbody tr th {\n",
              "        vertical-align: top;\n",
              "    }\n",
              "\n",
              "    .dataframe thead th {\n",
              "        text-align: right;\n",
              "    }\n",
              "</style>\n",
              "<table border=\"1\" class=\"dataframe\">\n",
              "  <thead>\n",
              "    <tr style=\"text-align: right;\">\n",
              "      <th></th>\n",
              "      <th>Action</th>\n",
              "      <th>Adventure</th>\n",
              "      <th>Animation</th>\n",
              "      <th>Children</th>\n",
              "      <th>Comedy</th>\n",
              "      <th>Crime</th>\n",
              "      <th>Documentary</th>\n",
              "      <th>Drama</th>\n",
              "      <th>Fantasy</th>\n",
              "      <th>Film-Noir</th>\n",
              "      <th>Horror</th>\n",
              "      <th>IMAX</th>\n",
              "      <th>Musical</th>\n",
              "      <th>Mystery</th>\n",
              "      <th>Romance</th>\n",
              "      <th>Sci-Fi</th>\n",
              "      <th>Thriller</th>\n",
              "      <th>War</th>\n",
              "      <th>Western</th>\n",
              "    </tr>\n",
              "  </thead>\n",
              "  <tbody>\n",
              "    <tr>\n",
              "      <th>0</th>\n",
              "      <td>0.153055</td>\n",
              "      <td>0.120783</td>\n",
              "      <td>0.063999</td>\n",
              "      <td>0.024218</td>\n",
              "      <td>0.044514</td>\n",
              "      <td>0.006373</td>\n",
              "      <td>0.025455</td>\n",
              "      <td>0.045988</td>\n",
              "      <td>0.066021</td>\n",
              "      <td>0.000368</td>\n",
              "      <td>0.071790</td>\n",
              "      <td>0.014119</td>\n",
              "      <td>0.002922</td>\n",
              "      <td>0.014618</td>\n",
              "      <td>0.007189</td>\n",
              "      <td>0.270556</td>\n",
              "      <td>0.048912</td>\n",
              "      <td>0.007685</td>\n",
              "      <td>0.011436</td>\n",
              "    </tr>\n",
              "    <tr>\n",
              "      <th>1</th>\n",
              "      <td>0.296934</td>\n",
              "      <td>0.080151</td>\n",
              "      <td>0.028525</td>\n",
              "      <td>0.006518</td>\n",
              "      <td>0.033059</td>\n",
              "      <td>0.011568</td>\n",
              "      <td>0.221694</td>\n",
              "      <td>0.041668</td>\n",
              "      <td>0.018811</td>\n",
              "      <td>0.000287</td>\n",
              "      <td>0.017067</td>\n",
              "      <td>0.013154</td>\n",
              "      <td>0.003310</td>\n",
              "      <td>0.008403</td>\n",
              "      <td>0.005361</td>\n",
              "      <td>0.142858</td>\n",
              "      <td>0.037881</td>\n",
              "      <td>0.022464</td>\n",
              "      <td>0.010285</td>\n",
              "    </tr>\n",
              "    <tr>\n",
              "      <th>2</th>\n",
              "      <td>0.000533</td>\n",
              "      <td>0.000298</td>\n",
              "      <td>0.000428</td>\n",
              "      <td>0.000230</td>\n",
              "      <td>0.003771</td>\n",
              "      <td>0.001269</td>\n",
              "      <td>0.962205</td>\n",
              "      <td>0.021533</td>\n",
              "      <td>0.000294</td>\n",
              "      <td>0.000025</td>\n",
              "      <td>0.000231</td>\n",
              "      <td>0.000244</td>\n",
              "      <td>0.003581</td>\n",
              "      <td>0.000646</td>\n",
              "      <td>0.001492</td>\n",
              "      <td>0.000237</td>\n",
              "      <td>0.000719</td>\n",
              "      <td>0.002181</td>\n",
              "      <td>0.000083</td>\n",
              "    </tr>\n",
              "    <tr>\n",
              "      <th>3</th>\n",
              "      <td>0.088475</td>\n",
              "      <td>0.039922</td>\n",
              "      <td>0.014833</td>\n",
              "      <td>0.005454</td>\n",
              "      <td>0.022711</td>\n",
              "      <td>0.002802</td>\n",
              "      <td>0.001868</td>\n",
              "      <td>0.029962</td>\n",
              "      <td>0.038622</td>\n",
              "      <td>0.000065</td>\n",
              "      <td>0.360627</td>\n",
              "      <td>0.002843</td>\n",
              "      <td>0.000127</td>\n",
              "      <td>0.013047</td>\n",
              "      <td>0.002047</td>\n",
              "      <td>0.291271</td>\n",
              "      <td>0.083592</td>\n",
              "      <td>0.000637</td>\n",
              "      <td>0.001094</td>\n",
              "    </tr>\n",
              "    <tr>\n",
              "      <th>4</th>\n",
              "      <td>0.060129</td>\n",
              "      <td>0.008724</td>\n",
              "      <td>0.001417</td>\n",
              "      <td>0.001615</td>\n",
              "      <td>0.077067</td>\n",
              "      <td>0.246958</td>\n",
              "      <td>0.005421</td>\n",
              "      <td>0.254630</td>\n",
              "      <td>0.003551</td>\n",
              "      <td>0.022893</td>\n",
              "      <td>0.022130</td>\n",
              "      <td>0.000629</td>\n",
              "      <td>0.001771</td>\n",
              "      <td>0.064526</td>\n",
              "      <td>0.023605</td>\n",
              "      <td>0.006738</td>\n",
              "      <td>0.188139</td>\n",
              "      <td>0.002471</td>\n",
              "      <td>0.007586</td>\n",
              "    </tr>\n",
              "  </tbody>\n",
              "</table>\n",
              "</div>"
            ],
            "text/plain": [
              "     Action  Adventure  Animation  Children    Comedy     Crime  Documentary  \\\n",
              "0  0.153055   0.120783   0.063999  0.024218  0.044514  0.006373     0.025455   \n",
              "1  0.296934   0.080151   0.028525  0.006518  0.033059  0.011568     0.221694   \n",
              "2  0.000533   0.000298   0.000428  0.000230  0.003771  0.001269     0.962205   \n",
              "3  0.088475   0.039922   0.014833  0.005454  0.022711  0.002802     0.001868   \n",
              "4  0.060129   0.008724   0.001417  0.001615  0.077067  0.246958     0.005421   \n",
              "\n",
              "      Drama   Fantasy  Film-Noir    Horror      IMAX   Musical   Mystery  \\\n",
              "0  0.045988  0.066021   0.000368  0.071790  0.014119  0.002922  0.014618   \n",
              "1  0.041668  0.018811   0.000287  0.017067  0.013154  0.003310  0.008403   \n",
              "2  0.021533  0.000294   0.000025  0.000231  0.000244  0.003581  0.000646   \n",
              "3  0.029962  0.038622   0.000065  0.360627  0.002843  0.000127  0.013047   \n",
              "4  0.254630  0.003551   0.022893  0.022130  0.000629  0.001771  0.064526   \n",
              "\n",
              "    Romance    Sci-Fi  Thriller       War   Western  \n",
              "0  0.007189  0.270556  0.048912  0.007685  0.011436  \n",
              "1  0.005361  0.142858  0.037881  0.022464  0.010285  \n",
              "2  0.001492  0.000237  0.000719  0.002181  0.000083  \n",
              "3  0.002047  0.291271  0.083592  0.000637  0.001094  \n",
              "4  0.023605  0.006738  0.188139  0.002471  0.007586  "
            ]
          },
          "execution_count": 16,
          "metadata": {},
          "output_type": "execute_result"
        }
      ],
      "source": [
        "df_probs_all = pd.DataFrame(y_pred,columns=y_bin.columns)\n",
        "\n",
        "df_probs_all.head()"
      ]
    },
    {
      "cell_type": "code",
      "execution_count": 17,
      "metadata": {
        "id": "9LUEKZY3KYkD"
      },
      "outputs": [],
      "source": [
        "def top_5_predictions(df):\n",
        "    N = 5\n",
        "    cols = df.columns[:-1].tolist()\n",
        "    a = df[cols].to_numpy().argsort()[:, :-N-1:-1]\n",
        "    c = np.array(cols)[a]\n",
        "    d = df[cols].to_numpy()[np.arange(a.shape[0])[:, None], a]\n",
        "    df1 = pd.DataFrame(c).rename(columns=lambda x : f'max_{x+1}_col')\n",
        "\n",
        "    predicted_genres = df1[\"max_1_col\"] + ' ' + df1[\"max_2_col\"]+ ' ' +df1[\"max_3_col\"]+ ' ' + df1[\"max_4_col\"]+ ' '+df1[\"max_5_col\"]\n",
        "    return predicted_genres"
      ]
    },
    {
      "cell_type": "code",
      "execution_count": 18,
      "metadata": {
        "id": "ZeMDdR3yKYkD"
      },
      "outputs": [],
      "source": [
        "pred_gen = top_5_predictions(df_probs_all)"
      ]
    },
    {
      "cell_type": "code",
      "execution_count": 19,
      "metadata": {
        "id": "-gUP_0SUKYkE"
      },
      "outputs": [],
      "source": [
        "submission = pd.DataFrame(data= {'movie_id':test.movie_id,'predicted_genres':pred_gen})"
      ]
    },
    {
      "cell_type": "code",
      "execution_count": 20,
      "metadata": {
        "id": "_CU0dBD6KYkE",
        "outputId": "832acb14-d0e0-48c5-ad61-4b9ac4e271c8"
      },
      "outputs": [
        {
          "data": {
            "text/html": [
              "<div>\n",
              "<style scoped>\n",
              "    .dataframe tbody tr th:only-of-type {\n",
              "        vertical-align: middle;\n",
              "    }\n",
              "\n",
              "    .dataframe tbody tr th {\n",
              "        vertical-align: top;\n",
              "    }\n",
              "\n",
              "    .dataframe thead th {\n",
              "        text-align: right;\n",
              "    }\n",
              "</style>\n",
              "<table border=\"1\" class=\"dataframe\">\n",
              "  <thead>\n",
              "    <tr style=\"text-align: right;\">\n",
              "      <th></th>\n",
              "      <th>movie_id</th>\n",
              "      <th>predicted_genres</th>\n",
              "    </tr>\n",
              "  </thead>\n",
              "  <tbody>\n",
              "    <tr>\n",
              "      <th>0</th>\n",
              "      <td>10827</td>\n",
              "      <td>Sci-Fi Action Adventure Horror Fantasy</td>\n",
              "    </tr>\n",
              "    <tr>\n",
              "      <th>1</th>\n",
              "      <td>51768</td>\n",
              "      <td>Action Documentary Sci-Fi Adventure Drama</td>\n",
              "    </tr>\n",
              "    <tr>\n",
              "      <th>2</th>\n",
              "      <td>36064</td>\n",
              "      <td>Documentary Drama Comedy Musical War</td>\n",
              "    </tr>\n",
              "    <tr>\n",
              "      <th>3</th>\n",
              "      <td>33763</td>\n",
              "      <td>Horror Sci-Fi Action Thriller Adventure</td>\n",
              "    </tr>\n",
              "    <tr>\n",
              "      <th>4</th>\n",
              "      <td>1146</td>\n",
              "      <td>Drama Crime Thriller Comedy Mystery</td>\n",
              "    </tr>\n",
              "  </tbody>\n",
              "</table>\n",
              "</div>"
            ],
            "text/plain": [
              "   movie_id                           predicted_genres\n",
              "0     10827     Sci-Fi Action Adventure Horror Fantasy\n",
              "1     51768  Action Documentary Sci-Fi Adventure Drama\n",
              "2     36064       Documentary Drama Comedy Musical War\n",
              "3     33763    Horror Sci-Fi Action Thriller Adventure\n",
              "4      1146        Drama Crime Thriller Comedy Mystery"
            ]
          },
          "execution_count": 20,
          "metadata": {},
          "output_type": "execute_result"
        }
      ],
      "source": [
        "submission.head()"
      ]
    },
    {
      "cell_type": "code",
      "execution_count": 21,
      "metadata": {
        "id": "1-qDXoryKYkE"
      },
      "outputs": [],
      "source": [
        "submission.to_csv('submission.csv',index=False)"
      ]
    }
  ],
  "metadata": {
    "colab": {
      "include_colab_link": true,
      "name": "radix_challenge.ipynb",
      "provenance": []
    },
    "kernelspec": {
      "display_name": "Python 3",
      "language": "python",
      "name": "python3"
    },
    "language_info": {
      "codemirror_mode": {
        "name": "ipython",
        "version": 3
      },
      "file_extension": ".py",
      "mimetype": "text/x-python",
      "name": "python",
      "nbconvert_exporter": "python",
      "pygments_lexer": "ipython3",
      "version": "3.9.1"
    }
  },
  "nbformat": 4,
  "nbformat_minor": 0
}
