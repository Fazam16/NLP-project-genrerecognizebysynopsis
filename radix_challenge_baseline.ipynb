{
  "cells": [
    {
      "cell_type": "markdown",
      "metadata": {
        "colab_type": "text",
        "id": "view-in-github"
      },
      "source": [
        "<a href=\"https://colab.research.google.com/github/opsabarsec/NLP--film-genres-from-synopsis/blob/main/radix_challenge.ipynb\" target=\"_parent\"><img src=\"https://colab.research.google.com/assets/colab-badge.svg\" alt=\"Open In Colab\"/></a>"
      ]
    },
    {
      "cell_type": "markdown",
      "metadata": {
        "id": "d6kB19cOKYjr"
      },
      "source": [
        "# Automatic assignment of genres from movie synopsis using supervised machine learning"
      ]
    },
    {
      "cell_type": "markdown",
      "metadata": {
        "id": "rEXqk7gVKYjz"
      },
      "source": [
        "## 1. Import libraries and load data"
      ]
    },
    {
      "cell_type": "code",
      "execution_count": 5,
      "metadata": {
        "_cell_guid": "b1076dfc-b9ad-4769-8c92-a6c4dae69d19",
        "_uuid": "8f2839f25d086af736a60e9eeb907d3b93b6e0e5",
        "id": "ca4CabSbKYj1"
      },
      "outputs": [],
      "source": [
        "#packages to load\n",
        "\n",
        "import numpy as np # linear algebra\n",
        "import pandas as pd # data processing, CSV file I/O (e.g. pd.read_csv)\n",
        "\n",
        "# NLP libraries\n",
        "\n",
        "from textblob import TextBlob, Word\n",
        "import nltk\n",
        "import re\n",
        "import csv\n",
        "from sklearn.preprocessing import MultiLabelBinarizer\n",
        "from sklearn.model_selection import train_test_split\n",
        "from tensorflow.keras.preprocessing.text import Tokenizer\n",
        "from tensorflow.keras.preprocessing.sequence import pad_sequences\n",
        "from tensorflow.keras.models import Sequential\n",
        "from tensorflow.keras.layers import Embedding, LSTM, Dense\n",
        "\n",
        "# Deep learning libraries\n",
        "\n",
        "from keras.models import Model\n",
        "from keras_preprocessing.sequence import pad_sequences\n",
        "from keras.layers import Dense, Embedding, Input, LSTM, GlobalMaxPool1D, Dropout\n",
        "from keras.preprocessing.text import Tokenizer"
      ]
    },
    {
      "cell_type": "code",
      "execution_count": 6,
      "metadata": {
        "_cell_guid": "79c7e3d0-c299-4dcb-8224-4455121ee9b0",
        "_uuid": "d629ff2d2480ee46fbb7e2d37f6b5fab8052498a",
        "id": "7bBgajuqKYj2"
      },
      "outputs": [],
      "source": [
        "# load data\n",
        "train= pd.read_csv('./data/train.csv')\n",
        "test=pd.read_csv('./data/test.csv')"
      ]
    },
    {
      "cell_type": "markdown",
      "metadata": {
        "id": "LhjxQG-XKYj3"
      },
      "source": [
        "## 2. DATA PREPARATION "
      ]
    },
    {
      "cell_type": "code",
      "execution_count": 7,
      "metadata": {
        "id": "6VR0giutKYj4",
        "outputId": "eb98338a-d354-4362-8ad3-18ab6984eeaf"
      },
      "outputs": [
        {
          "name": "stderr",
          "output_type": "stream",
          "text": [
            "[nltk_data] Downloading package stopwords to\n",
            "[nltk_data]     C:\\Users\\ASUS\\AppData\\Roaming\\nltk_data...\n",
            "[nltk_data]   Package stopwords is already up-to-date!\n"
          ]
        }
      ],
      "source": [
        "nltk.download('stopwords')\n",
        "\n",
        "from nltk.corpus import stopwords\n",
        "stop_words = set(stopwords.words('english'))"
      ]
    },
    {
      "cell_type": "code",
      "execution_count": 8,
      "metadata": {
        "id": "gyCVQY5vKYj6"
      },
      "outputs": [],
      "source": [
        "# function for text cleaning \n",
        "def preprocess_text(text):\n",
        "    text = text.lower() # lowercase\n",
        "    text = re.sub(r\"what's\", \"what is \", text)\n",
        "    text = re.sub(r\"\\'s\", \" \", text)\n",
        "    text = re.sub(r\"\\'ve\", \" have \", text)\n",
        "    text = re.sub(r\"can't\", \"can not \", text)\n",
        "    text = re.sub(r\"n't\", \" not \", text)\n",
        "    text = re.sub(r\"i'm\", \"i am \", text)\n",
        "    text = re.sub(r\"\\'re\", \" are \", text)\n",
        "    text = re.sub(r\"\\'d\", \" would \", text)\n",
        "    text = re.sub(r\"\\'ll\", \" will \", text)\n",
        "    text = re.sub(r\"\\'scuse\", \" excuse \", text)\n",
        "    text = re.sub(r\"\\'\\n\", \" \", text) #line breaks\n",
        "    #text = re.sub(r\"\\'\\xa0\", \" \", text) # xa0 Unicode representing spaces\n",
        "    #text = re.sub('\\s+', ' ', text) # one or more whitespace characters\n",
        "    text = text.strip(' ') # spaces\n",
        "    # remove backslash-apostrophe \n",
        "    text = re.sub(\"\\'\", \"\", text) \n",
        "    # remove everything except alphabets \n",
        "    text = re.sub(\"[^a-zA-Z]\",\" \",text) \n",
        "    #lemmatize and remove stopwords\n",
        "    no_stopword_text = [w for w in text.split() if not w in stop_words]\n",
        "    text = ' '.join(no_stopword_text) \n",
        "        \n",
        "    return text\n",
        "\n",
        "train['clean_plot'] = train['synopsis'].apply(lambda x: preprocess_text(x))\n",
        "test['clean_plot'] = test['synopsis'].apply(lambda x: preprocess_text(x))"
      ]
    },
    {
      "cell_type": "code",
      "execution_count": 9,
      "metadata": {
        "id": "bVZgxGSvKYj7"
      },
      "outputs": [],
      "source": [
        "def lemma(text): # Lemmatization of cleaned body\n",
        "        sent = TextBlob(text)\n",
        "        tag_dict = {\"J\": 'a', \n",
        "                    \"N\": 'n', \n",
        "                    \"V\": 'v', \n",
        "                    \"R\": 'r'}\n",
        "        words_and_tags = [(w, tag_dict.get(pos[0], 'n')) for w, pos in sent.tags]    \n",
        "        lemmatized_list = [wd.lemmatize(tag) for wd, tag in words_and_tags]\n",
        "        seperator=' '\n",
        "        lemma = seperator.join(lemmatized_list) \n",
        "        return lemma"
      ]
    },
    {
      "cell_type": "code",
      "execution_count": 10,
      "metadata": {
        "id": "1WH56R_3KYj8"
      },
      "outputs": [],
      "source": [
        "train['lemma'] = train['clean_plot'].apply(lambda x: lemma(x))\n",
        "test['lemma'] = test['clean_plot'].apply(lambda x: lemma(x))"
      ]
    },
    {
      "cell_type": "markdown",
      "metadata": {
        "id": "xuQ9oPsdKYj8"
      },
      "source": [
        "## 3. Variables preparation "
      ]
    },
    {
      "cell_type": "code",
      "execution_count": 11,
      "metadata": {
        "id": "Gr7fpzedKYj-"
      },
      "outputs": [],
      "source": [
        "\n",
        "X = train['lemma']\n",
        "X_test = test['lemma']    "
      ]
    },
    {
      "cell_type": "markdown",
      "metadata": {
        "id": "D4CZNNpAKYj_"
      },
      "source": [
        "### 3.1 Target variable one hot encoding"
      ]
    },
    {
      "cell_type": "code",
      "execution_count": 12,
      "metadata": {
        "id": "dWWX0lWkKYj_"
      },
      "outputs": [],
      "source": [
        "#apply the onehot transformation for the genres vector\n",
        "y = train['genres']\n",
        "one_hot = MultiLabelBinarizer() # encoder for the  tags \n",
        "y_onehot = one_hot.fit_transform(y.str.split(' ')) \n",
        "y_bin = pd.DataFrame(y_onehot, columns=one_hot.classes_ ) # transform it to Pandas object"
      ]
    },
    {
      "cell_type": "code",
      "execution_count": 13,
      "metadata": {
        "id": "GXnL0mu5KYkA"
      },
      "outputs": [],
      "source": [
        "# tokenize\n",
        "max_features = 5000\n",
        "tokenizer = Tokenizer(num_words=max_features)\n",
        "tokenizer.fit_on_texts(list(X))\n",
        "list_tokenized_train = tokenizer.texts_to_sequences(X)\n",
        "list_tokenized_test = tokenizer.texts_to_sequences(X_test)"
      ]
    },
    {
      "cell_type": "code",
      "execution_count": 14,
      "metadata": {
        "id": "O2DFBo8tKYkA"
      },
      "outputs": [],
      "source": [
        "#fix max comment lenght\n",
        "maxlen = 100\n",
        "X_t = pad_sequences(list_tokenized_train, maxlen=maxlen)\n",
        "X_te = pad_sequences(list_tokenized_test, maxlen=maxlen)"
      ]
    },
    {
      "cell_type": "markdown",
      "metadata": {
        "id": "dIJrNQ9dKYkA"
      },
      "source": [
        "## 4.The Model"
      ]
    },
    {
      "cell_type": "code",
      "execution_count": 15,
      "metadata": {
        "id": "boheaXGPISCm"
      },
      "outputs": [],
      "source": [
        "#initialize parameters\n",
        "inp = Input(shape=(maxlen, )) #maxlen defined earlier\n",
        "embed_size = 128"
      ]
    },
    {
      "cell_type": "code",
      "execution_count": 16,
      "metadata": {
        "id": "BGz6T6XPKYkB"
      },
      "outputs": [],
      "source": [
        "# Neural network backbone\n",
        "x = Embedding(max_features, embed_size)(inp)\n",
        "\n",
        "x = LSTM(64, return_sequences=True,name='lstm_layer')(x)\n",
        "\n",
        "x = GlobalMaxPool1D()(x)\n",
        "x = Dropout(0.1)(x)\n",
        "x = Dense(50, activation=\"relu\")(x)\n",
        "x = Dropout(0.1)(x)\n",
        "x = Dense(len(y_bin.columns), activation=\"softmax\")(x)"
      ]
    },
    {
      "cell_type": "code",
      "execution_count": 17,
      "metadata": {
        "id": "BhHDmhNTKYkB"
      },
      "outputs": [],
      "source": [
        "# build the model\n",
        "model = Model(inputs=inp, outputs=x)\n",
        "model.compile(loss='binary_crossentropy',\n",
        "                  optimizer='adam',\n",
        "                  metrics=['accuracy'])"
      ]
    },
    {
      "cell_type": "code",
      "execution_count": 18,
      "metadata": {
        "id": "MImoilb7KYkB",
        "outputId": "48f5c3fd-6a8a-4c8d-8883-39a4875cb390"
      },
      "outputs": [
        {
          "name": "stdout",
          "output_type": "stream",
          "text": [
            "Epoch 1/3\n",
            "2055/2055 [==============================] - 88s 41ms/step - loss: 0.2701 - accuracy: 0.2916 - val_loss: 0.2375 - val_accuracy: 0.3727\n",
            "Epoch 2/3\n",
            "2055/2055 [==============================] - 82s 40ms/step - loss: 0.2229 - accuracy: 0.4109 - val_loss: 0.2099 - val_accuracy: 0.4515\n",
            "Epoch 3/3\n",
            "2055/2055 [==============================] - 80s 39ms/step - loss: 0.2000 - accuracy: 0.4817 - val_loss: 0.2045 - val_accuracy: 0.4806\n"
          ]
        }
      ],
      "source": [
        "# train the model\n",
        "batch_size = 16\n",
        "epochs = 3\n",
        "\n",
        "hist = model.fit(X_t,y_onehot, batch_size=batch_size, epochs=epochs, validation_split=0.1)\n"
      ]
    },
    {
      "cell_type": "markdown",
      "metadata": {
        "id": "b08G7DVcKYkB"
      },
      "source": [
        "## 5.The prediction"
      ]
    },
    {
      "cell_type": "code",
      "execution_count": 19,
      "metadata": {
        "id": "zNSUxqseKYkC",
        "outputId": "77627d9a-4bcf-4021-ff8b-53dea0daaba0"
      },
      "outputs": [
        {
          "name": "stdout",
          "output_type": "stream",
          "text": [
            "329/329 [==============================] - 5s 13ms/step\n",
            "(5250, 19)\n"
          ]
        }
      ],
      "source": [
        "y_pred = model.predict(X_te, batch_size=batch_size, verbose=1)\n",
        "print(y_pred.shape)"
      ]
    },
    {
      "cell_type": "code",
      "execution_count": 20,
      "metadata": {
        "id": "iv-d9wLIKYkC",
        "outputId": "7778c371-89ba-4740-8de7-8ea52db24572"
      },
      "outputs": [
        {
          "data": {
            "text/html": [
              "<div>\n",
              "<style scoped>\n",
              "    .dataframe tbody tr th:only-of-type {\n",
              "        vertical-align: middle;\n",
              "    }\n",
              "\n",
              "    .dataframe tbody tr th {\n",
              "        vertical-align: top;\n",
              "    }\n",
              "\n",
              "    .dataframe thead th {\n",
              "        text-align: right;\n",
              "    }\n",
              "</style>\n",
              "<table border=\"1\" class=\"dataframe\">\n",
              "  <thead>\n",
              "    <tr style=\"text-align: right;\">\n",
              "      <th></th>\n",
              "      <th>Action</th>\n",
              "      <th>Adventure</th>\n",
              "      <th>Animation</th>\n",
              "      <th>Children</th>\n",
              "      <th>Comedy</th>\n",
              "      <th>Crime</th>\n",
              "      <th>Documentary</th>\n",
              "      <th>Drama</th>\n",
              "      <th>Fantasy</th>\n",
              "      <th>Film-Noir</th>\n",
              "      <th>Horror</th>\n",
              "      <th>IMAX</th>\n",
              "      <th>Musical</th>\n",
              "      <th>Mystery</th>\n",
              "      <th>Romance</th>\n",
              "      <th>Sci-Fi</th>\n",
              "      <th>Thriller</th>\n",
              "      <th>War</th>\n",
              "      <th>Western</th>\n",
              "    </tr>\n",
              "  </thead>\n",
              "  <tbody>\n",
              "    <tr>\n",
              "      <th>0</th>\n",
              "      <td>0.303940</td>\n",
              "      <td>0.170865</td>\n",
              "      <td>0.075160</td>\n",
              "      <td>0.029464</td>\n",
              "      <td>0.034091</td>\n",
              "      <td>0.004147</td>\n",
              "      <td>0.003006</td>\n",
              "      <td>0.027387</td>\n",
              "      <td>0.053119</td>\n",
              "      <td>1.176459e-04</td>\n",
              "      <td>0.021796</td>\n",
              "      <td>0.009377</td>\n",
              "      <td>0.001316</td>\n",
              "      <td>0.004451</td>\n",
              "      <td>0.005488</td>\n",
              "      <td>0.214212</td>\n",
              "      <td>0.032693</td>\n",
              "      <td>0.003265</td>\n",
              "      <td>0.006104</td>\n",
              "    </tr>\n",
              "    <tr>\n",
              "      <th>1</th>\n",
              "      <td>0.249033</td>\n",
              "      <td>0.075040</td>\n",
              "      <td>0.023714</td>\n",
              "      <td>0.008969</td>\n",
              "      <td>0.052143</td>\n",
              "      <td>0.012742</td>\n",
              "      <td>0.189909</td>\n",
              "      <td>0.157685</td>\n",
              "      <td>0.015774</td>\n",
              "      <td>2.169265e-04</td>\n",
              "      <td>0.003828</td>\n",
              "      <td>0.005781</td>\n",
              "      <td>0.006944</td>\n",
              "      <td>0.003986</td>\n",
              "      <td>0.007329</td>\n",
              "      <td>0.113913</td>\n",
              "      <td>0.040018</td>\n",
              "      <td>0.023611</td>\n",
              "      <td>0.009365</td>\n",
              "    </tr>\n",
              "    <tr>\n",
              "      <th>2</th>\n",
              "      <td>0.000371</td>\n",
              "      <td>0.000557</td>\n",
              "      <td>0.000362</td>\n",
              "      <td>0.000319</td>\n",
              "      <td>0.008084</td>\n",
              "      <td>0.000078</td>\n",
              "      <td>0.962359</td>\n",
              "      <td>0.022596</td>\n",
              "      <td>0.000258</td>\n",
              "      <td>4.416469e-07</td>\n",
              "      <td>0.000141</td>\n",
              "      <td>0.000038</td>\n",
              "      <td>0.002380</td>\n",
              "      <td>0.000092</td>\n",
              "      <td>0.000750</td>\n",
              "      <td>0.000193</td>\n",
              "      <td>0.000276</td>\n",
              "      <td>0.001140</td>\n",
              "      <td>0.000007</td>\n",
              "    </tr>\n",
              "    <tr>\n",
              "      <th>3</th>\n",
              "      <td>0.046851</td>\n",
              "      <td>0.076450</td>\n",
              "      <td>0.096233</td>\n",
              "      <td>0.047471</td>\n",
              "      <td>0.058890</td>\n",
              "      <td>0.001128</td>\n",
              "      <td>0.003898</td>\n",
              "      <td>0.023676</td>\n",
              "      <td>0.104039</td>\n",
              "      <td>5.013559e-05</td>\n",
              "      <td>0.337939</td>\n",
              "      <td>0.005439</td>\n",
              "      <td>0.001081</td>\n",
              "      <td>0.010169</td>\n",
              "      <td>0.005177</td>\n",
              "      <td>0.150504</td>\n",
              "      <td>0.030142</td>\n",
              "      <td>0.000398</td>\n",
              "      <td>0.000464</td>\n",
              "    </tr>\n",
              "    <tr>\n",
              "      <th>4</th>\n",
              "      <td>0.059372</td>\n",
              "      <td>0.003363</td>\n",
              "      <td>0.000421</td>\n",
              "      <td>0.000739</td>\n",
              "      <td>0.054022</td>\n",
              "      <td>0.278707</td>\n",
              "      <td>0.000960</td>\n",
              "      <td>0.215334</td>\n",
              "      <td>0.001670</td>\n",
              "      <td>1.190958e-02</td>\n",
              "      <td>0.020068</td>\n",
              "      <td>0.000109</td>\n",
              "      <td>0.000517</td>\n",
              "      <td>0.052654</td>\n",
              "      <td>0.011007</td>\n",
              "      <td>0.002513</td>\n",
              "      <td>0.282059</td>\n",
              "      <td>0.000651</td>\n",
              "      <td>0.003924</td>\n",
              "    </tr>\n",
              "  </tbody>\n",
              "</table>\n",
              "</div>"
            ],
            "text/plain": [
              "     Action  Adventure  Animation  Children    Comedy     Crime  Documentary  \\\n",
              "0  0.303940   0.170865   0.075160  0.029464  0.034091  0.004147     0.003006   \n",
              "1  0.249033   0.075040   0.023714  0.008969  0.052143  0.012742     0.189909   \n",
              "2  0.000371   0.000557   0.000362  0.000319  0.008084  0.000078     0.962359   \n",
              "3  0.046851   0.076450   0.096233  0.047471  0.058890  0.001128     0.003898   \n",
              "4  0.059372   0.003363   0.000421  0.000739  0.054022  0.278707     0.000960   \n",
              "\n",
              "      Drama   Fantasy     Film-Noir    Horror      IMAX   Musical   Mystery  \\\n",
              "0  0.027387  0.053119  1.176459e-04  0.021796  0.009377  0.001316  0.004451   \n",
              "1  0.157685  0.015774  2.169265e-04  0.003828  0.005781  0.006944  0.003986   \n",
              "2  0.022596  0.000258  4.416469e-07  0.000141  0.000038  0.002380  0.000092   \n",
              "3  0.023676  0.104039  5.013559e-05  0.337939  0.005439  0.001081  0.010169   \n",
              "4  0.215334  0.001670  1.190958e-02  0.020068  0.000109  0.000517  0.052654   \n",
              "\n",
              "    Romance    Sci-Fi  Thriller       War   Western  \n",
              "0  0.005488  0.214212  0.032693  0.003265  0.006104  \n",
              "1  0.007329  0.113913  0.040018  0.023611  0.009365  \n",
              "2  0.000750  0.000193  0.000276  0.001140  0.000007  \n",
              "3  0.005177  0.150504  0.030142  0.000398  0.000464  \n",
              "4  0.011007  0.002513  0.282059  0.000651  0.003924  "
            ]
          },
          "execution_count": 20,
          "metadata": {},
          "output_type": "execute_result"
        }
      ],
      "source": [
        "df_probs_all = pd.DataFrame(y_pred,columns=y_bin.columns)\n",
        "\n",
        "df_probs_all.head()"
      ]
    },
    {
      "cell_type": "code",
      "execution_count": 21,
      "metadata": {
        "id": "9LUEKZY3KYkD"
      },
      "outputs": [],
      "source": [
        "def top_5_predictions(df):\n",
        "    N = 5\n",
        "    cols = df.columns[:-1].tolist()\n",
        "    a = df[cols].to_numpy().argsort()[:, :-N-1:-1]\n",
        "    c = np.array(cols)[a]\n",
        "    d = df[cols].to_numpy()[np.arange(a.shape[0])[:, None], a]\n",
        "    df1 = pd.DataFrame(c).rename(columns=lambda x : f'max_{x+1}_col')\n",
        "\n",
        "    predicted_genres = df1[\"max_1_col\"] + ' ' + df1[\"max_2_col\"]+ ' ' +df1[\"max_3_col\"]+ ' ' + df1[\"max_4_col\"]+ ' '+df1[\"max_5_col\"]\n",
        "    return predicted_genres"
      ]
    },
    {
      "cell_type": "code",
      "execution_count": 22,
      "metadata": {
        "id": "ZeMDdR3yKYkD"
      },
      "outputs": [],
      "source": [
        "pred_gen = top_5_predictions(df_probs_all)"
      ]
    },
    {
      "cell_type": "code",
      "execution_count": 23,
      "metadata": {
        "id": "-gUP_0SUKYkE"
      },
      "outputs": [],
      "source": [
        "submission = pd.DataFrame(data= {'movie_id':test.movie_id,'predicted_genres':pred_gen})"
      ]
    },
    {
      "cell_type": "code",
      "execution_count": 24,
      "metadata": {
        "id": "_CU0dBD6KYkE",
        "outputId": "832acb14-d0e0-48c5-ad61-4b9ac4e271c8"
      },
      "outputs": [
        {
          "data": {
            "text/html": [
              "<div>\n",
              "<style scoped>\n",
              "    .dataframe tbody tr th:only-of-type {\n",
              "        vertical-align: middle;\n",
              "    }\n",
              "\n",
              "    .dataframe tbody tr th {\n",
              "        vertical-align: top;\n",
              "    }\n",
              "\n",
              "    .dataframe thead th {\n",
              "        text-align: right;\n",
              "    }\n",
              "</style>\n",
              "<table border=\"1\" class=\"dataframe\">\n",
              "  <thead>\n",
              "    <tr style=\"text-align: right;\">\n",
              "      <th></th>\n",
              "      <th>movie_id</th>\n",
              "      <th>predicted_genres</th>\n",
              "    </tr>\n",
              "  </thead>\n",
              "  <tbody>\n",
              "    <tr>\n",
              "      <th>0</th>\n",
              "      <td>10827</td>\n",
              "      <td>Action Sci-Fi Adventure Animation Fantasy</td>\n",
              "    </tr>\n",
              "    <tr>\n",
              "      <th>1</th>\n",
              "      <td>51768</td>\n",
              "      <td>Action Documentary Drama Sci-Fi Adventure</td>\n",
              "    </tr>\n",
              "    <tr>\n",
              "      <th>2</th>\n",
              "      <td>36064</td>\n",
              "      <td>Documentary Drama Comedy Musical War</td>\n",
              "    </tr>\n",
              "    <tr>\n",
              "      <th>3</th>\n",
              "      <td>33763</td>\n",
              "      <td>Horror Sci-Fi Fantasy Animation Adventure</td>\n",
              "    </tr>\n",
              "    <tr>\n",
              "      <th>4</th>\n",
              "      <td>1146</td>\n",
              "      <td>Thriller Crime Drama Action Comedy</td>\n",
              "    </tr>\n",
              "  </tbody>\n",
              "</table>\n",
              "</div>"
            ],
            "text/plain": [
              "   movie_id                           predicted_genres\n",
              "0     10827  Action Sci-Fi Adventure Animation Fantasy\n",
              "1     51768  Action Documentary Drama Sci-Fi Adventure\n",
              "2     36064       Documentary Drama Comedy Musical War\n",
              "3     33763  Horror Sci-Fi Fantasy Animation Adventure\n",
              "4      1146         Thriller Crime Drama Action Comedy"
            ]
          },
          "execution_count": 24,
          "metadata": {},
          "output_type": "execute_result"
        }
      ],
      "source": [
        "submission.head()"
      ]
    },
    {
      "cell_type": "code",
      "execution_count": 25,
      "metadata": {
        "id": "1-qDXoryKYkE"
      },
      "outputs": [],
      "source": [
        "submission.to_csv('submission.csv',index=False)"
      ]
    }
  ],
  "metadata": {
    "colab": {
      "include_colab_link": true,
      "name": "radix_challenge.ipynb",
      "provenance": []
    },
    "kernelspec": {
      "display_name": "Python 3",
      "language": "python",
      "name": "python3"
    },
    "language_info": {
      "codemirror_mode": {
        "name": "ipython",
        "version": 3
      },
      "file_extension": ".py",
      "mimetype": "text/x-python",
      "name": "python",
      "nbconvert_exporter": "python",
      "pygments_lexer": "ipython3",
      "version": "3.9.1"
    }
  },
  "nbformat": 4,
  "nbformat_minor": 0
}
