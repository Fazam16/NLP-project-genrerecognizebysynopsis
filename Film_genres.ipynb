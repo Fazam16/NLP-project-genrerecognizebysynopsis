{
 "cells": [
  {
   "cell_type": "markdown",
   "metadata": {},
   "source": [
    "# Automatic assignment of genres from movie synopsis using supervised machine learning"
   ]
  },
  {
   "cell_type": "markdown",
   "metadata": {},
   "source": [
    "## 1. Import libraries and load data"
   ]
  },
  {
   "cell_type": "code",
   "execution_count": 1,
   "metadata": {
    "_cell_guid": "b1076dfc-b9ad-4769-8c92-a6c4dae69d19",
    "_uuid": "8f2839f25d086af736a60e9eeb907d3b93b6e0e5"
   },
   "outputs": [],
   "source": [
    "#packages to load\n",
    "\n",
    "import numpy as np # linear algebra\n",
    "import pandas as pd # data processing, CSV file I/O (e.g. pd.read_csv)\n",
    "import time\n",
    "# Input data files are available in the read-only \"../input/\" directory\n",
    "# For example, running this (by clicking run or pressing Shift+Enter) will list all files under the input directory\n",
    "import json\n",
    "from textblob import TextBlob, Word\n",
    "import nltk\n",
    "import re\n",
    "import csv\n",
    "import matplotlib.pyplot as plt \n",
    "#import seaborn as sns\n",
    "#from tqdm import tqdm\n",
    "from sklearn.preprocessing import MultiLabelBinarizer\n",
    "from sklearn.feature_extraction.text import TfidfVectorizer\n",
    "from sklearn.model_selection import train_test_split"
   ]
  },
  {
   "cell_type": "code",
   "execution_count": 138,
   "metadata": {},
   "outputs": [],
   "source": [
    "from keras.models import Model\n",
    "\n",
    "from keras.preprocessing.sequence import pad_sequences\n",
    "from keras.layers import GlobalAveragePooling1D, concatenate, SpatialDropout1D, Conv1D\n",
    "from keras.layers import Dense, Embedding, Input, LSTM, Bidirectional, GlobalMaxPool1D, Dropout\n",
    "from keras.preprocessing.text import Tokenizer\n",
    "from keras.preprocessing import sequence\n",
    "from keras.callbacks import EarlyStopping, ModelCheckpoint"
   ]
  },
  {
   "cell_type": "code",
   "execution_count": 3,
   "metadata": {},
   "outputs": [],
   "source": [
    "# Binary Relevance\n",
    "from sklearn.multiclass import OneVsRestClassifier\n",
    "from sklearn.multioutput import MultiOutputClassifier\n",
    "# Performance metric\n",
    "from sklearn.metrics import f1_score\n",
    "from sklearn.metrics import hamming_loss\n",
    "from sklearn.metrics import jaccard_score\n",
    "from sklearn.metrics import accuracy_score"
   ]
  },
  {
   "cell_type": "code",
   "execution_count": 4,
   "metadata": {
    "_cell_guid": "79c7e3d0-c299-4dcb-8224-4455121ee9b0",
    "_uuid": "d629ff2d2480ee46fbb7e2d37f6b5fab8052498a"
   },
   "outputs": [],
   "source": [
    "train= pd.read_csv('train.csv')\n",
    "test=pd.read_csv('test.csv')"
   ]
  },
  {
   "cell_type": "markdown",
   "metadata": {},
   "source": [
    "## 2. DATA PREPARATION "
   ]
  },
  {
   "cell_type": "code",
   "execution_count": 5,
   "metadata": {},
   "outputs": [
    {
     "name": "stderr",
     "output_type": "stream",
     "text": [
      "[nltk_data] Downloading package stopwords to /home/marco/nltk_data...\n",
      "[nltk_data]   Package stopwords is already up-to-date!\n"
     ]
    }
   ],
   "source": [
    "nltk.download('stopwords')\n",
    "\n",
    "from nltk.corpus import stopwords\n",
    "stop_words = set(stopwords.words('english'))"
   ]
  },
  {
   "cell_type": "code",
   "execution_count": 6,
   "metadata": {},
   "outputs": [],
   "source": [
    "# function for text cleaning \n",
    "def preprocess_text(text):\n",
    "    text = text.lower() # lowercase\n",
    "    text = re.sub(r\"what's\", \"what is \", text)\n",
    "    text = re.sub(r\"\\'s\", \" \", text)\n",
    "    text = re.sub(r\"\\'ve\", \" have \", text)\n",
    "    text = re.sub(r\"can't\", \"can not \", text)\n",
    "    text = re.sub(r\"n't\", \" not \", text)\n",
    "    text = re.sub(r\"i'm\", \"i am \", text)\n",
    "    text = re.sub(r\"\\'re\", \" are \", text)\n",
    "    text = re.sub(r\"\\'d\", \" would \", text)\n",
    "    text = re.sub(r\"\\'ll\", \" will \", text)\n",
    "    text = re.sub(r\"\\'scuse\", \" excuse \", text)\n",
    "    text = re.sub(r\"\\'\\n\", \" \", text) #line breaks\n",
    "    #text = re.sub(r\"\\'\\xa0\", \" \", text) # xa0 Unicode representing spaces\n",
    "    #text = re.sub('\\s+', ' ', text) # one or more whitespace characters\n",
    "    text = text.strip(' ') # spaces\n",
    "    # remove backslash-apostrophe \n",
    "    text = re.sub(\"\\'\", \"\", text) \n",
    "    # remove everything except alphabets \n",
    "    text = re.sub(\"[^a-zA-Z]\",\" \",text) \n",
    "    #lemmatize and remove stopwords\n",
    "    no_stopword_text = [w for w in text.split() if not w in stop_words]\n",
    "    text = ' '.join(no_stopword_text) \n",
    "        \n",
    "    return text\n",
    "\n",
    "train['clean_plot'] = train['synopsis'].apply(lambda x: preprocess_text(x))\n",
    "test['clean_plot'] = test['synopsis'].apply(lambda x: preprocess_text(x))"
   ]
  },
  {
   "cell_type": "code",
   "execution_count": 7,
   "metadata": {},
   "outputs": [],
   "source": [
    "def lemma(text): # Lemmatization of cleaned body\n",
    "        sent = TextBlob(text)\n",
    "        tag_dict = {\"J\": 'a', \n",
    "                    \"N\": 'n', \n",
    "                    \"V\": 'v', \n",
    "                    \"R\": 'r'}\n",
    "        words_and_tags = [(w, tag_dict.get(pos[0], 'n')) for w, pos in sent.tags]    \n",
    "        lemmatized_list = [wd.lemmatize(tag) for wd, tag in words_and_tags]\n",
    "        seperator=' '\n",
    "        lemma = seperator.join(lemmatized_list) \n",
    "        return lemma"
   ]
  },
  {
   "cell_type": "code",
   "execution_count": 8,
   "metadata": {},
   "outputs": [
    {
     "data": {
      "text/html": [
       "<div>\n",
       "<style scoped>\n",
       "    .dataframe tbody tr th:only-of-type {\n",
       "        vertical-align: middle;\n",
       "    }\n",
       "\n",
       "    .dataframe tbody tr th {\n",
       "        vertical-align: top;\n",
       "    }\n",
       "\n",
       "    .dataframe thead th {\n",
       "        text-align: right;\n",
       "    }\n",
       "</style>\n",
       "<table border=\"1\" class=\"dataframe\">\n",
       "  <thead>\n",
       "    <tr style=\"text-align: right;\">\n",
       "      <th></th>\n",
       "      <th>movie_id</th>\n",
       "      <th>year</th>\n",
       "      <th>synopsis</th>\n",
       "      <th>genres</th>\n",
       "      <th>clean_plot</th>\n",
       "      <th>lemma</th>\n",
       "    </tr>\n",
       "  </thead>\n",
       "  <tbody>\n",
       "    <tr>\n",
       "      <th>0</th>\n",
       "      <td>30924</td>\n",
       "      <td>2005</td>\n",
       "      <td>Cruel But Necessary is the story of Betty Muns...</td>\n",
       "      <td>Drama</td>\n",
       "      <td>cruel necessary story betty munson strange jou...</td>\n",
       "      <td>cruel necessary story betty munson strange jou...</td>\n",
       "    </tr>\n",
       "    <tr>\n",
       "      <th>1</th>\n",
       "      <td>34841</td>\n",
       "      <td>2012</td>\n",
       "      <td>Yorkshire, 1974, the Maynard family moves into...</td>\n",
       "      <td>Drama Horror Thriller</td>\n",
       "      <td>yorkshire maynard family moves dream house dre...</td>\n",
       "      <td>yorkshire maynard family move dream house drea...</td>\n",
       "    </tr>\n",
       "    <tr>\n",
       "      <th>2</th>\n",
       "      <td>23408</td>\n",
       "      <td>2017</td>\n",
       "      <td>When a renowned architecture scholar falls sud...</td>\n",
       "      <td>Drama</td>\n",
       "      <td>renowned architecture scholar falls suddenly i...</td>\n",
       "      <td>renowned architecture scholar fall suddenly il...</td>\n",
       "    </tr>\n",
       "    <tr>\n",
       "      <th>3</th>\n",
       "      <td>39470</td>\n",
       "      <td>1996</td>\n",
       "      <td>The story dealt with Lord Rama and his retalia...</td>\n",
       "      <td>Children Drama</td>\n",
       "      <td>story dealt lord rama retaliation ravana chara...</td>\n",
       "      <td>story dealt lord rama retaliation ravana chara...</td>\n",
       "    </tr>\n",
       "    <tr>\n",
       "      <th>4</th>\n",
       "      <td>7108</td>\n",
       "      <td>2003</td>\n",
       "      <td>A Thai playboy cons a girl into bed and then l...</td>\n",
       "      <td>Comedy Drama Horror Thriller</td>\n",
       "      <td>thai playboy cons girl bed leaves finding preg...</td>\n",
       "      <td>thai playboy con girl bed leave find pregnant ...</td>\n",
       "    </tr>\n",
       "  </tbody>\n",
       "</table>\n",
       "</div>"
      ],
      "text/plain": [
       "   movie_id  year                                           synopsis  \\\n",
       "0     30924  2005  Cruel But Necessary is the story of Betty Muns...   \n",
       "1     34841  2012  Yorkshire, 1974, the Maynard family moves into...   \n",
       "2     23408  2017  When a renowned architecture scholar falls sud...   \n",
       "3     39470  1996  The story dealt with Lord Rama and his retalia...   \n",
       "4      7108  2003  A Thai playboy cons a girl into bed and then l...   \n",
       "\n",
       "                         genres  \\\n",
       "0                         Drama   \n",
       "1         Drama Horror Thriller   \n",
       "2                         Drama   \n",
       "3                Children Drama   \n",
       "4  Comedy Drama Horror Thriller   \n",
       "\n",
       "                                          clean_plot  \\\n",
       "0  cruel necessary story betty munson strange jou...   \n",
       "1  yorkshire maynard family moves dream house dre...   \n",
       "2  renowned architecture scholar falls suddenly i...   \n",
       "3  story dealt lord rama retaliation ravana chara...   \n",
       "4  thai playboy cons girl bed leaves finding preg...   \n",
       "\n",
       "                                               lemma  \n",
       "0  cruel necessary story betty munson strange jou...  \n",
       "1  yorkshire maynard family move dream house drea...  \n",
       "2  renowned architecture scholar fall suddenly il...  \n",
       "3  story dealt lord rama retaliation ravana chara...  \n",
       "4  thai playboy con girl bed leave find pregnant ...  "
      ]
     },
     "execution_count": 8,
     "metadata": {},
     "output_type": "execute_result"
    }
   ],
   "source": [
    "train['lemma'] = train['clean_plot'].apply(lambda x: lemma(x))\n",
    "test['lemma'] = test['clean_plot'].apply(lambda x: lemma(x))\n",
    "train.head()"
   ]
  },
  {
   "cell_type": "markdown",
   "metadata": {},
   "source": [
    "## 3. Variables preparation "
   ]
  },
  {
   "cell_type": "code",
   "execution_count": 9,
   "metadata": {},
   "outputs": [],
   "source": [
    "\n",
    "X = train['lemma']\n",
    "\n",
    "X_test = test['lemma']    "
   ]
  },
  {
   "cell_type": "markdown",
   "metadata": {},
   "source": [
    "### 3.1 Target variable one hot encoding"
   ]
  },
  {
   "cell_type": "code",
   "execution_count": 10,
   "metadata": {},
   "outputs": [],
   "source": [
    "#apply the onehot transformation for the genres vector\n",
    "y = train['genres']\n",
    "one_hot = MultiLabelBinarizer() # encoder for the  tags \n",
    "y_onehot = one_hot.fit_transform(y.str.split(' ')) \n",
    "y_bin = pd.DataFrame(y_onehot, columns=one_hot.classes_ ) # transform it to Pandas object"
   ]
  },
  {
   "cell_type": "code",
   "execution_count": 11,
   "metadata": {},
   "outputs": [
    {
     "name": "stdout",
     "output_type": "stream",
     "text": [
      "(36518,)\n",
      "(36518, 19)\n"
     ]
    },
    {
     "data": {
      "text/html": [
       "<div>\n",
       "<style scoped>\n",
       "    .dataframe tbody tr th:only-of-type {\n",
       "        vertical-align: middle;\n",
       "    }\n",
       "\n",
       "    .dataframe tbody tr th {\n",
       "        vertical-align: top;\n",
       "    }\n",
       "\n",
       "    .dataframe thead th {\n",
       "        text-align: right;\n",
       "    }\n",
       "</style>\n",
       "<table border=\"1\" class=\"dataframe\">\n",
       "  <thead>\n",
       "    <tr style=\"text-align: right;\">\n",
       "      <th></th>\n",
       "      <th>Action</th>\n",
       "      <th>Adventure</th>\n",
       "      <th>Animation</th>\n",
       "      <th>Children</th>\n",
       "      <th>Comedy</th>\n",
       "      <th>Crime</th>\n",
       "      <th>Documentary</th>\n",
       "      <th>Drama</th>\n",
       "      <th>Fantasy</th>\n",
       "      <th>Film-Noir</th>\n",
       "      <th>Horror</th>\n",
       "      <th>IMAX</th>\n",
       "      <th>Musical</th>\n",
       "      <th>Mystery</th>\n",
       "      <th>Romance</th>\n",
       "      <th>Sci-Fi</th>\n",
       "      <th>Thriller</th>\n",
       "      <th>War</th>\n",
       "      <th>Western</th>\n",
       "    </tr>\n",
       "  </thead>\n",
       "  <tbody>\n",
       "    <tr>\n",
       "      <th>0</th>\n",
       "      <td>0</td>\n",
       "      <td>0</td>\n",
       "      <td>0</td>\n",
       "      <td>0</td>\n",
       "      <td>0</td>\n",
       "      <td>0</td>\n",
       "      <td>0</td>\n",
       "      <td>1</td>\n",
       "      <td>0</td>\n",
       "      <td>0</td>\n",
       "      <td>0</td>\n",
       "      <td>0</td>\n",
       "      <td>0</td>\n",
       "      <td>0</td>\n",
       "      <td>0</td>\n",
       "      <td>0</td>\n",
       "      <td>0</td>\n",
       "      <td>0</td>\n",
       "      <td>0</td>\n",
       "    </tr>\n",
       "    <tr>\n",
       "      <th>1</th>\n",
       "      <td>0</td>\n",
       "      <td>0</td>\n",
       "      <td>0</td>\n",
       "      <td>0</td>\n",
       "      <td>0</td>\n",
       "      <td>0</td>\n",
       "      <td>0</td>\n",
       "      <td>1</td>\n",
       "      <td>0</td>\n",
       "      <td>0</td>\n",
       "      <td>1</td>\n",
       "      <td>0</td>\n",
       "      <td>0</td>\n",
       "      <td>0</td>\n",
       "      <td>0</td>\n",
       "      <td>0</td>\n",
       "      <td>1</td>\n",
       "      <td>0</td>\n",
       "      <td>0</td>\n",
       "    </tr>\n",
       "    <tr>\n",
       "      <th>2</th>\n",
       "      <td>0</td>\n",
       "      <td>0</td>\n",
       "      <td>0</td>\n",
       "      <td>0</td>\n",
       "      <td>0</td>\n",
       "      <td>0</td>\n",
       "      <td>0</td>\n",
       "      <td>1</td>\n",
       "      <td>0</td>\n",
       "      <td>0</td>\n",
       "      <td>0</td>\n",
       "      <td>0</td>\n",
       "      <td>0</td>\n",
       "      <td>0</td>\n",
       "      <td>0</td>\n",
       "      <td>0</td>\n",
       "      <td>0</td>\n",
       "      <td>0</td>\n",
       "      <td>0</td>\n",
       "    </tr>\n",
       "    <tr>\n",
       "      <th>3</th>\n",
       "      <td>0</td>\n",
       "      <td>0</td>\n",
       "      <td>0</td>\n",
       "      <td>1</td>\n",
       "      <td>0</td>\n",
       "      <td>0</td>\n",
       "      <td>0</td>\n",
       "      <td>1</td>\n",
       "      <td>0</td>\n",
       "      <td>0</td>\n",
       "      <td>0</td>\n",
       "      <td>0</td>\n",
       "      <td>0</td>\n",
       "      <td>0</td>\n",
       "      <td>0</td>\n",
       "      <td>0</td>\n",
       "      <td>0</td>\n",
       "      <td>0</td>\n",
       "      <td>0</td>\n",
       "    </tr>\n",
       "    <tr>\n",
       "      <th>4</th>\n",
       "      <td>0</td>\n",
       "      <td>0</td>\n",
       "      <td>0</td>\n",
       "      <td>0</td>\n",
       "      <td>1</td>\n",
       "      <td>0</td>\n",
       "      <td>0</td>\n",
       "      <td>1</td>\n",
       "      <td>0</td>\n",
       "      <td>0</td>\n",
       "      <td>1</td>\n",
       "      <td>0</td>\n",
       "      <td>0</td>\n",
       "      <td>0</td>\n",
       "      <td>0</td>\n",
       "      <td>0</td>\n",
       "      <td>1</td>\n",
       "      <td>0</td>\n",
       "      <td>0</td>\n",
       "    </tr>\n",
       "  </tbody>\n",
       "</table>\n",
       "</div>"
      ],
      "text/plain": [
       "   Action  Adventure  Animation  Children  Comedy  Crime  Documentary  Drama  \\\n",
       "0       0          0          0         0       0      0            0      1   \n",
       "1       0          0          0         0       0      0            0      1   \n",
       "2       0          0          0         0       0      0            0      1   \n",
       "3       0          0          0         1       0      0            0      1   \n",
       "4       0          0          0         0       1      0            0      1   \n",
       "\n",
       "   Fantasy  Film-Noir  Horror  IMAX  Musical  Mystery  Romance  Sci-Fi  \\\n",
       "0        0          0       0     0        0        0        0       0   \n",
       "1        0          0       1     0        0        0        0       0   \n",
       "2        0          0       0     0        0        0        0       0   \n",
       "3        0          0       0     0        0        0        0       0   \n",
       "4        0          0       1     0        0        0        0       0   \n",
       "\n",
       "   Thriller  War  Western  \n",
       "0         0    0        0  \n",
       "1         1    0        0  \n",
       "2         0    0        0  \n",
       "3         0    0        0  \n",
       "4         1    0        0  "
      ]
     },
     "execution_count": 11,
     "metadata": {},
     "output_type": "execute_result"
    }
   ],
   "source": [
    "print(X.shape)\n",
    "print(y_bin.shape)\n",
    "y_bin.head()\n"
   ]
  },
  {
   "cell_type": "code",
   "execution_count": 146,
   "metadata": {},
   "outputs": [],
   "source": [
    "# tokenize\n",
    "max_features = 5000\n",
    "tokenizer = Tokenizer(num_words=max_features)\n",
    "tokenizer.fit_on_texts(list(X))\n",
    "list_tokenized_train = tokenizer.texts_to_sequences(X)\n",
    "list_tokenized_test = tokenizer.texts_to_sequences(X_test)"
   ]
  },
  {
   "cell_type": "code",
   "execution_count": 147,
   "metadata": {},
   "outputs": [
    {
     "data": {
      "image/png": "[encoded data removed]",
      "text/plain": [
       "<Figure size 432x288 with 1 Axes>"
      ]
     },
     "metadata": {
      "needs_background": "light"
     },
     "output_type": "display_data"
    }
   ],
   "source": [
    "totalNumWords = [len(synopsis) for synopsis in list_tokenized_train]\n",
    "bins = np.arange(0,210,10)\n",
    "plt.hist(totalNumWords, bins)\n",
    "plt.xlabel('number of words')\n",
    "plt.ylabel('count')\n",
    "plt.show()"
   ]
  },
  {
   "cell_type": "code",
   "execution_count": 208,
   "metadata": {},
   "outputs": [],
   "source": [
    "#fix max comment lenght\n",
    "maxlen = 150\n",
    "X_t = pad_sequences(list_tokenized_train, maxlen=maxlen)\n",
    "X_te = pad_sequences(list_tokenized_test, maxlen=maxlen)"
   ]
  },
  {
   "cell_type": "markdown",
   "metadata": {},
   "source": [
    "## 4.The Model"
   ]
  },
  {
   "cell_type": "code",
   "execution_count": 209,
   "metadata": {
    "colab": {},
    "colab_type": "code",
    "id": "1Nje6HBsIR94"
   },
   "outputs": [],
   "source": [
    "# Define a time counter function to test the algorythms performance \n",
    "_start_time = time.time()\n",
    "\n",
    "def process_time_starts():\n",
    "    global _start_time \n",
    "    _start_time = time.time()\n",
    "\n",
    "def time_elapsed():\n",
    "    t_sec = round(time.time() - _start_time)\n",
    "    (t_min, t_sec) = divmod(t_sec,60)\n",
    "    (t_hour,t_min) = divmod(t_min,60) \n",
    "    print('The process took: {}hour:{}min:{}sec'.format(t_hour,t_min,t_sec))"
   ]
  },
  {
   "cell_type": "code",
   "execution_count": 210,
   "metadata": {
    "colab": {},
    "colab_type": "code",
    "id": "boheaXGPISCm"
   },
   "outputs": [],
   "source": [
    "def print_score(y_pred, clf):\n",
    "    \n",
    "    print(\"Clf: \", clf.__class__.__name__)\n",
    "    print(\"Jaccard score: {}\".format(jaccard_score(y_val_bin, y_pred, average='weighted'))) # measure of similarity for the two sets of data. Average is set to \"samples\" since is between two multilabeled\n",
    "    print(\"Hamming loss: {}\".format((hamming_loss(y_pred, y_val_bin)))) #% of the wrong labels to the total number of labels\n",
    "    print(\"Accuracy score: {}\".format((accuracy_score(y_val_bin, y_pred))))   \n",
    "    print(\"---\")  \n",
    "    "
   ]
  },
  {
   "cell_type": "code",
   "execution_count": 211,
   "metadata": {
    "colab": {},
    "colab_type": "code",
    "id": "boheaXGPISCm"
   },
   "outputs": [],
   "source": [
    "inp = Input(shape=(maxlen, )) #maxlen defined earlier\n",
    "embed_size = 128"
   ]
  },
  {
   "cell_type": "code",
   "execution_count": 212,
   "metadata": {
    "colab": {},
    "colab_type": "code",
    "id": "boheaXGPISCm"
   },
   "outputs": [],
   "source": [
    "# Neural network backbone\n",
    "x = Embedding(max_features, embed_size)(inp)\n",
    "#x = SpatialDropout1D(0.35)(x)\n",
    "\n",
    "#x = Bidirectional(LSTM(128, return_sequences=True, dropout=0.15, recurrent_dropout=0.15))(x)\n",
    "#x = Conv1D(64, kernel_size=3, padding='valid', kernel_initializer='glorot_uniform')(x)\n",
    "x = LSTM(64, return_sequences=True,name='lstm_layer')(x)\n",
    "#avg_pool = GlobalAveragePooling1D()(x)\n",
    "#max_pool = GlobalMaxPooling1D()(x)\n",
    "#x = concatenate([avg_pool, max_pool])\n",
    "x = GlobalMaxPool1D()(x)\n",
    "x = Dropout(0.1)(x)\n",
    "x = Dense(50, activation=\"relu\")(x)\n",
    "x = Dropout(0.1)(x)\n",
    "x = Dense(len(y_bin.columns), activation=\"softmax\")(x)"
   ]
  },
  {
   "cell_type": "code",
   "execution_count": 213,
   "metadata": {
    "colab": {},
    "colab_type": "code",
    "id": "boheaXGPISCm"
   },
   "outputs": [],
   "source": [
    "model = Model(inputs=inp, outputs=x)\n",
    "model.compile(loss='binary_crossentropy',\n",
    "                  optimizer='adam',\n",
    "                  metrics=['accuracy'])"
   ]
  },
  {
   "cell_type": "code",
   "execution_count": 214,
   "metadata": {
    "colab": {},
    "colab_type": "code",
    "id": "boheaXGPISCm"
   },
   "outputs": [
    {
     "name": "stdout",
     "output_type": "stream",
     "text": [
      "Epoch 1/3\n",
      "2055/2055 [==============================] - 92s 45ms/step - loss: 0.2680 - accuracy: 0.3560 - val_loss: 0.2403 - val_accuracy: 0.4280\n",
      "Epoch 2/3\n",
      "2055/2055 [==============================] - 88s 43ms/step - loss: 0.2277 - accuracy: 0.4666 - val_loss: 0.2280 - val_accuracy: 0.4611\n",
      "Epoch 3/3\n",
      "2055/2055 [==============================] - 86s 42ms/step - loss: 0.2134 - accuracy: 0.5033 - val_loss: 0.2287 - val_accuracy: 0.4710\n",
      "The process took: 0hour:4min:28sec\n"
     ]
    }
   ],
   "source": [
    "batch_size = 16\n",
    "epochs = 3\n",
    "process_time_starts()\n",
    "hist = model.fit(X_t,y_onehot, batch_size=batch_size, epochs=epochs, validation_split=0.1)\n",
    "time_elapsed()"
   ]
  },
  {
   "cell_type": "code",
   "execution_count": 215,
   "metadata": {
    "colab": {},
    "colab_type": "code",
    "id": "boheaXGPISCm"
   },
   "outputs": [
    {
     "data": {
      "image/png": "[encoded data removed]",
      "text/plain": [
       "<Figure size 720x216 with 2 Axes>"
      ]
     },
     "metadata": {
      "needs_background": "light"
     },
     "output_type": "display_data"
    }
   ],
   "source": [
    "fig, ax = plt.subplots(1, 2, figsize=(10, 3))\n",
    "ax = ax.ravel()\n",
    "\n",
    "for i, met in enumerate(['accuracy', 'loss']):\n",
    "    ax[i].plot(hist.history[met])\n",
    "    ax[i].plot(hist.history['val_' + met])\n",
    "    ax[i].set_title('Model {}'.format(met))\n",
    "    ax[i].set_xlabel('epochs')\n",
    "    ax[i].set_ylabel(met)\n",
    "    ax[i].legend(['train', 'val'])"
   ]
  },
  {
   "cell_type": "markdown",
   "metadata": {},
   "source": [
    "## 5.The prediction"
   ]
  },
  {
   "cell_type": "code",
   "execution_count": 216,
   "metadata": {},
   "outputs": [
    {
     "name": "stdout",
     "output_type": "stream",
     "text": [
      "329/329 [==============================] - 3s 9ms/step\n",
      "(5250, 19)\n"
     ]
    }
   ],
   "source": [
    "y_pred = model.predict(X_te, batch_size=batch_size, verbose=1)\n",
    "print(y_pred.shape)"
   ]
  },
  {
   "cell_type": "code",
   "execution_count": 217,
   "metadata": {},
   "outputs": [
    {
     "data": {
      "text/html": [
       "<div>\n",
       "<style scoped>\n",
       "    .dataframe tbody tr th:only-of-type {\n",
       "        vertical-align: middle;\n",
       "    }\n",
       "\n",
       "    .dataframe tbody tr th {\n",
       "        vertical-align: top;\n",
       "    }\n",
       "\n",
       "    .dataframe thead th {\n",
       "        text-align: right;\n",
       "    }\n",
       "</style>\n",
       "<table border=\"1\" class=\"dataframe\">\n",
       "  <thead>\n",
       "    <tr style=\"text-align: right;\">\n",
       "      <th></th>\n",
       "      <th>Action</th>\n",
       "      <th>Adventure</th>\n",
       "      <th>Animation</th>\n",
       "      <th>Children</th>\n",
       "      <th>Comedy</th>\n",
       "      <th>Crime</th>\n",
       "      <th>Documentary</th>\n",
       "      <th>Drama</th>\n",
       "      <th>Fantasy</th>\n",
       "      <th>Film-Noir</th>\n",
       "      <th>Horror</th>\n",
       "      <th>IMAX</th>\n",
       "      <th>Musical</th>\n",
       "      <th>Mystery</th>\n",
       "      <th>Romance</th>\n",
       "      <th>Sci-Fi</th>\n",
       "      <th>Thriller</th>\n",
       "      <th>War</th>\n",
       "      <th>Western</th>\n",
       "    </tr>\n",
       "  </thead>\n",
       "  <tbody>\n",
       "    <tr>\n",
       "      <th>0</th>\n",
       "      <td>0.114873</td>\n",
       "      <td>0.158164</td>\n",
       "      <td>0.140285</td>\n",
       "      <td>0.067424</td>\n",
       "      <td>0.094041</td>\n",
       "      <td>0.004465</td>\n",
       "      <td>0.009160</td>\n",
       "      <td>0.032586</td>\n",
       "      <td>0.078088</td>\n",
       "      <td>0.000123</td>\n",
       "      <td>0.031511</td>\n",
       "      <td>0.015459</td>\n",
       "      <td>0.003160</td>\n",
       "      <td>0.007960</td>\n",
       "      <td>0.008493</td>\n",
       "      <td>0.211383</td>\n",
       "      <td>0.019332</td>\n",
       "      <td>0.001447</td>\n",
       "      <td>0.002047</td>\n",
       "    </tr>\n",
       "    <tr>\n",
       "      <th>1</th>\n",
       "      <td>0.129264</td>\n",
       "      <td>0.041022</td>\n",
       "      <td>0.027175</td>\n",
       "      <td>0.005777</td>\n",
       "      <td>0.083318</td>\n",
       "      <td>0.013293</td>\n",
       "      <td>0.164388</td>\n",
       "      <td>0.096088</td>\n",
       "      <td>0.012122</td>\n",
       "      <td>0.000380</td>\n",
       "      <td>0.035194</td>\n",
       "      <td>0.009599</td>\n",
       "      <td>0.002141</td>\n",
       "      <td>0.010760</td>\n",
       "      <td>0.006150</td>\n",
       "      <td>0.272620</td>\n",
       "      <td>0.084472</td>\n",
       "      <td>0.005612</td>\n",
       "      <td>0.000625</td>\n",
       "    </tr>\n",
       "    <tr>\n",
       "      <th>2</th>\n",
       "      <td>0.000938</td>\n",
       "      <td>0.001277</td>\n",
       "      <td>0.001814</td>\n",
       "      <td>0.001991</td>\n",
       "      <td>0.044433</td>\n",
       "      <td>0.000992</td>\n",
       "      <td>0.638206</td>\n",
       "      <td>0.258908</td>\n",
       "      <td>0.001395</td>\n",
       "      <td>0.000042</td>\n",
       "      <td>0.000392</td>\n",
       "      <td>0.000226</td>\n",
       "      <td>0.023122</td>\n",
       "      <td>0.000867</td>\n",
       "      <td>0.017383</td>\n",
       "      <td>0.000918</td>\n",
       "      <td>0.001525</td>\n",
       "      <td>0.005529</td>\n",
       "      <td>0.000041</td>\n",
       "    </tr>\n",
       "    <tr>\n",
       "      <th>3</th>\n",
       "      <td>0.107371</td>\n",
       "      <td>0.070205</td>\n",
       "      <td>0.072808</td>\n",
       "      <td>0.023813</td>\n",
       "      <td>0.076518</td>\n",
       "      <td>0.005107</td>\n",
       "      <td>0.004237</td>\n",
       "      <td>0.026785</td>\n",
       "      <td>0.085280</td>\n",
       "      <td>0.000225</td>\n",
       "      <td>0.195234</td>\n",
       "      <td>0.009785</td>\n",
       "      <td>0.001709</td>\n",
       "      <td>0.019370</td>\n",
       "      <td>0.009480</td>\n",
       "      <td>0.240339</td>\n",
       "      <td>0.050210</td>\n",
       "      <td>0.000514</td>\n",
       "      <td>0.001012</td>\n",
       "    </tr>\n",
       "    <tr>\n",
       "      <th>4</th>\n",
       "      <td>0.089764</td>\n",
       "      <td>0.011996</td>\n",
       "      <td>0.002649</td>\n",
       "      <td>0.002026</td>\n",
       "      <td>0.081619</td>\n",
       "      <td>0.228441</td>\n",
       "      <td>0.002393</td>\n",
       "      <td>0.172377</td>\n",
       "      <td>0.004480</td>\n",
       "      <td>0.021538</td>\n",
       "      <td>0.031429</td>\n",
       "      <td>0.000457</td>\n",
       "      <td>0.001031</td>\n",
       "      <td>0.093788</td>\n",
       "      <td>0.023080</td>\n",
       "      <td>0.006765</td>\n",
       "      <td>0.220937</td>\n",
       "      <td>0.000517</td>\n",
       "      <td>0.004713</td>\n",
       "    </tr>\n",
       "  </tbody>\n",
       "</table>\n",
       "</div>"
      ],
      "text/plain": [
       "     Action  Adventure  Animation  Children    Comedy     Crime  Documentary  \\\n",
       "0  0.114873   0.158164   0.140285  0.067424  0.094041  0.004465     0.009160   \n",
       "1  0.129264   0.041022   0.027175  0.005777  0.083318  0.013293     0.164388   \n",
       "2  0.000938   0.001277   0.001814  0.001991  0.044433  0.000992     0.638206   \n",
       "3  0.107371   0.070205   0.072808  0.023813  0.076518  0.005107     0.004237   \n",
       "4  0.089764   0.011996   0.002649  0.002026  0.081619  0.228441     0.002393   \n",
       "\n",
       "      Drama   Fantasy  Film-Noir    Horror      IMAX   Musical   Mystery  \\\n",
       "0  0.032586  0.078088   0.000123  0.031511  0.015459  0.003160  0.007960   \n",
       "1  0.096088  0.012122   0.000380  0.035194  0.009599  0.002141  0.010760   \n",
       "2  0.258908  0.001395   0.000042  0.000392  0.000226  0.023122  0.000867   \n",
       "3  0.026785  0.085280   0.000225  0.195234  0.009785  0.001709  0.019370   \n",
       "4  0.172377  0.004480   0.021538  0.031429  0.000457  0.001031  0.093788   \n",
       "\n",
       "    Romance    Sci-Fi  Thriller       War   Western  \n",
       "0  0.008493  0.211383  0.019332  0.001447  0.002047  \n",
       "1  0.006150  0.272620  0.084472  0.005612  0.000625  \n",
       "2  0.017383  0.000918  0.001525  0.005529  0.000041  \n",
       "3  0.009480  0.240339  0.050210  0.000514  0.001012  \n",
       "4  0.023080  0.006765  0.220937  0.000517  0.004713  "
      ]
     },
     "execution_count": 217,
     "metadata": {},
     "output_type": "execute_result"
    }
   ],
   "source": [
    "df_probs_all = pd.DataFrame(y_pred,columns=y_bin.columns)\n",
    "#df_probs = pd.DataFrame(index=y_bin.index,columns=y_bin.columns)\n",
    "df_probs_all.head()"
   ]
  },
  {
   "cell_type": "code",
   "execution_count": 218,
   "metadata": {},
   "outputs": [],
   "source": [
    "def top_5_predictions(df):\n",
    "    cols = df.columns[:-1].tolist()\n",
    "    a = df[cols].to_numpy().argsort()[:, :-N-1:-1]\n",
    "    c = np.array(cols)[a]\n",
    "    d = df[cols].to_numpy()[np.arange(a.shape[0])[:, None], a]\n",
    "    df1 = pd.DataFrame(c).rename(columns=lambda x : f'max_{x+1}_col')\n",
    "\n",
    "    predicted_genres = df1[\"max_1_col\"] + ' ' + df1[\"max_2_col\"]+ ' ' +df1[\"max_3_col\"]+ ' ' + df1[\"max_4_col\"]+ ' '+df1[\"max_5_col\"]\n",
    "    return predicted_genres"
   ]
  },
  {
   "cell_type": "code",
   "execution_count": 219,
   "metadata": {},
   "outputs": [],
   "source": [
    "pred_gen = top_5_predictions(df_probs_all)"
   ]
  },
  {
   "cell_type": "code",
   "execution_count": 220,
   "metadata": {},
   "outputs": [],
   "source": [
    "submission = pd.DataFrame(data= {'movie_id':test.movie_id,'predicted_genres':pred_gen})"
   ]
  },
  {
   "cell_type": "code",
   "execution_count": 221,
   "metadata": {},
   "outputs": [
    {
     "data": {
      "text/html": [
       "<div>\n",
       "<style scoped>\n",
       "    .dataframe tbody tr th:only-of-type {\n",
       "        vertical-align: middle;\n",
       "    }\n",
       "\n",
       "    .dataframe tbody tr th {\n",
       "        vertical-align: top;\n",
       "    }\n",
       "\n",
       "    .dataframe thead th {\n",
       "        text-align: right;\n",
       "    }\n",
       "</style>\n",
       "<table border=\"1\" class=\"dataframe\">\n",
       "  <thead>\n",
       "    <tr style=\"text-align: right;\">\n",
       "      <th></th>\n",
       "      <th>movie_id</th>\n",
       "      <th>predicted_genres</th>\n",
       "    </tr>\n",
       "  </thead>\n",
       "  <tbody>\n",
       "    <tr>\n",
       "      <th>0</th>\n",
       "      <td>10827</td>\n",
       "      <td>Sci-Fi Adventure Animation Action Comedy</td>\n",
       "    </tr>\n",
       "    <tr>\n",
       "      <th>1</th>\n",
       "      <td>51768</td>\n",
       "      <td>Sci-Fi Documentary Action Drama Thriller</td>\n",
       "    </tr>\n",
       "    <tr>\n",
       "      <th>2</th>\n",
       "      <td>36064</td>\n",
       "      <td>Documentary Drama Comedy Musical Romance</td>\n",
       "    </tr>\n",
       "    <tr>\n",
       "      <th>3</th>\n",
       "      <td>33763</td>\n",
       "      <td>Sci-Fi Horror Action Fantasy Comedy</td>\n",
       "    </tr>\n",
       "    <tr>\n",
       "      <th>4</th>\n",
       "      <td>1146</td>\n",
       "      <td>Crime Thriller Drama Mystery Action</td>\n",
       "    </tr>\n",
       "  </tbody>\n",
       "</table>\n",
       "</div>"
      ],
      "text/plain": [
       "   movie_id                          predicted_genres\n",
       "0     10827  Sci-Fi Adventure Animation Action Comedy\n",
       "1     51768  Sci-Fi Documentary Action Drama Thriller\n",
       "2     36064  Documentary Drama Comedy Musical Romance\n",
       "3     33763       Sci-Fi Horror Action Fantasy Comedy\n",
       "4      1146       Crime Thriller Drama Mystery Action"
      ]
     },
     "execution_count": 221,
     "metadata": {},
     "output_type": "execute_result"
    }
   ],
   "source": [
    "submission.head()"
   ]
  },
  {
   "cell_type": "code",
   "execution_count": 176,
   "metadata": {},
   "outputs": [],
   "source": [
    "submission.to_csv('submission.csv',index=False)"
   ]
  },
  {
   "cell_type": "code",
   "execution_count": null,
   "metadata": {},
   "outputs": [],
   "source": []
  }
 ],
 "metadata": {
  "kernelspec": {
   "display_name": "Python 3",
   "language": "python",
   "name": "python3"
  },
  "language_info": {
   "codemirror_mode": {
    "name": "ipython",
    "version": 3
   },
   "file_extension": ".py",
   "mimetype": "text/x-python",
   "name": "python",
   "nbconvert_exporter": "python",
   "pygments_lexer": "ipython3",
   "version": "3.8.3"
  }
 },
 "nbformat": 4,
 "nbformat_minor": 4
}
