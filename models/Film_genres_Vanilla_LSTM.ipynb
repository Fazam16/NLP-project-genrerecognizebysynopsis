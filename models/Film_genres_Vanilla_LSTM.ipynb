{
 "cells": [
  {
   "cell_type": "markdown",
   "metadata": {},
   "source": [
    "# Automatic assignment of genres from movie synopsis using supervised machine learning"
   ]
  },
  {
   "cell_type": "markdown",
   "metadata": {},
   "source": [
    "## 1. Import libraries and load data"
   ]
  },
  {
   "cell_type": "code",
   "execution_count": 1,
   "metadata": {
    "_cell_guid": "b1076dfc-b9ad-4769-8c92-a6c4dae69d19",
    "_uuid": "8f2839f25d086af736a60e9eeb907d3b93b6e0e5"
   },
   "outputs": [],
   "source": [
    "#packages to load\n",
    "\n",
    "import numpy as np # linear algebra\n",
    "import pandas as pd # data processing, CSV file I/O (e.g. pd.read_csv)\n",
    "import time\n",
    "# Input data files are available in the read-only \"../input/\" directory\n",
    "# For example, running this (by clicking run or pressing Shift+Enter) will list all files under the input directory\n",
    "import json\n",
    "from textblob import TextBlob, Word\n",
    "import nltk\n",
    "import re\n",
    "import csv\n",
    "import matplotlib.pyplot as plt \n",
    "#import seaborn as sns\n",
    "#from tqdm import tqdm\n",
    "from sklearn.preprocessing import MultiLabelBinarizer\n",
    "from sklearn.feature_extraction.text import TfidfVectorizer\n",
    "from sklearn.model_selection import train_test_split"
   ]
  },
  {
   "cell_type": "code",
   "execution_count": 2,
   "metadata": {},
   "outputs": [],
   "source": [
    "from keras.models import Model\n",
    "\n",
    "from keras.preprocessing.sequence import pad_sequences\n",
    "#from keras.layers import GlobalAveragePooling1D, concatenate, SpatialDropout1D, Conv1D,Bidirectional\n",
    "from keras.layers import Dense, Embedding, Input, LSTM, GlobalMaxPool1D, Dropout\n",
    "from keras.preprocessing.text import Tokenizer\n",
    "#from keras.preprocessing import sequence\n",
    "#from keras.callbacks import EarlyStopping, ModelCheckpoint"
   ]
  },
  {
   "cell_type": "code",
   "execution_count": 3,
   "metadata": {
    "_cell_guid": "79c7e3d0-c299-4dcb-8224-4455121ee9b0",
    "_uuid": "d629ff2d2480ee46fbb7e2d37f6b5fab8052498a"
   },
   "outputs": [],
   "source": [
    "train= pd.read_csv('train.csv')\n",
    "test=pd.read_csv('test.csv')"
   ]
  },
  {
   "cell_type": "markdown",
   "metadata": {},
   "source": [
    "## 2. DATA PREPARATION "
   ]
  },
  {
   "cell_type": "code",
   "execution_count": 4,
   "metadata": {},
   "outputs": [
    {
     "name": "stderr",
     "output_type": "stream",
     "text": [
      "[nltk_data] Downloading package stopwords to /home/marco/nltk_data...\n",
      "[nltk_data]   Package stopwords is already up-to-date!\n"
     ]
    }
   ],
   "source": [
    "nltk.download('stopwords')\n",
    "\n",
    "from nltk.corpus import stopwords\n",
    "stop_words = set(stopwords.words('english'))"
   ]
  },
  {
   "cell_type": "code",
   "execution_count": 5,
   "metadata": {},
   "outputs": [],
   "source": [
    "# function for text cleaning \n",
    "def preprocess_text(text):\n",
    "    text = text.lower() # lowercase\n",
    "    text = re.sub(r\"what's\", \"what is \", text)\n",
    "    text = re.sub(r\"\\'s\", \" \", text)\n",
    "    text = re.sub(r\"\\'ve\", \" have \", text)\n",
    "    text = re.sub(r\"can't\", \"can not \", text)\n",
    "    text = re.sub(r\"n't\", \" not \", text)\n",
    "    text = re.sub(r\"i'm\", \"i am \", text)\n",
    "    text = re.sub(r\"\\'re\", \" are \", text)\n",
    "    text = re.sub(r\"\\'d\", \" would \", text)\n",
    "    text = re.sub(r\"\\'ll\", \" will \", text)\n",
    "    text = re.sub(r\"\\'scuse\", \" excuse \", text)\n",
    "    text = re.sub(r\"\\'\\n\", \" \", text) #line breaks\n",
    "    #text = re.sub(r\"\\'\\xa0\", \" \", text) # xa0 Unicode representing spaces\n",
    "    #text = re.sub('\\s+', ' ', text) # one or more whitespace characters\n",
    "    text = text.strip(' ') # spaces\n",
    "    # remove backslash-apostrophe \n",
    "    text = re.sub(\"\\'\", \"\", text) \n",
    "    # remove everything except alphabets \n",
    "    text = re.sub(\"[^a-zA-Z]\",\" \",text) \n",
    "    #lemmatize and remove stopwords\n",
    "    no_stopword_text = [w for w in text.split() if not w in stop_words]\n",
    "    text = ' '.join(no_stopword_text) \n",
    "        \n",
    "    return text\n",
    "\n",
    "train['clean_plot'] = train['synopsis'].apply(lambda x: preprocess_text(x))\n",
    "test['clean_plot'] = test['synopsis'].apply(lambda x: preprocess_text(x))"
   ]
  },
  {
   "cell_type": "code",
   "execution_count": 6,
   "metadata": {},
   "outputs": [],
   "source": [
    "def lemma(text): # Lemmatization of cleaned body\n",
    "        sent = TextBlob(text)\n",
    "        tag_dict = {\"J\": 'a', \n",
    "                    \"N\": 'n', \n",
    "                    \"V\": 'v', \n",
    "                    \"R\": 'r'}\n",
    "        words_and_tags = [(w, tag_dict.get(pos[0], 'n')) for w, pos in sent.tags]    \n",
    "        lemmatized_list = [wd.lemmatize(tag) for wd, tag in words_and_tags]\n",
    "        seperator=' '\n",
    "        lemma = seperator.join(lemmatized_list) \n",
    "        return lemma"
   ]
  },
  {
   "cell_type": "code",
   "execution_count": 7,
   "metadata": {},
   "outputs": [
    {
     "data": {
      "text/html": [
       "<div>\n",
       "<style scoped>\n",
       "    .dataframe tbody tr th:only-of-type {\n",
       "        vertical-align: middle;\n",
       "    }\n",
       "\n",
       "    .dataframe tbody tr th {\n",
       "        vertical-align: top;\n",
       "    }\n",
       "\n",
       "    .dataframe thead th {\n",
       "        text-align: right;\n",
       "    }\n",
       "</style>\n",
       "<table border=\"1\" class=\"dataframe\">\n",
       "  <thead>\n",
       "    <tr style=\"text-align: right;\">\n",
       "      <th></th>\n",
       "      <th>movie_id</th>\n",
       "      <th>year</th>\n",
       "      <th>synopsis</th>\n",
       "      <th>genres</th>\n",
       "      <th>clean_plot</th>\n",
       "      <th>lemma</th>\n",
       "    </tr>\n",
       "  </thead>\n",
       "  <tbody>\n",
       "    <tr>\n",
       "      <th>0</th>\n",
       "      <td>30924</td>\n",
       "      <td>2005</td>\n",
       "      <td>Cruel But Necessary is the story of Betty Muns...</td>\n",
       "      <td>Drama</td>\n",
       "      <td>cruel necessary story betty munson strange jou...</td>\n",
       "      <td>cruel necessary story betty munson strange jou...</td>\n",
       "    </tr>\n",
       "    <tr>\n",
       "      <th>1</th>\n",
       "      <td>34841</td>\n",
       "      <td>2012</td>\n",
       "      <td>Yorkshire, 1974, the Maynard family moves into...</td>\n",
       "      <td>Drama Horror Thriller</td>\n",
       "      <td>yorkshire maynard family moves dream house dre...</td>\n",
       "      <td>yorkshire maynard family move dream house drea...</td>\n",
       "    </tr>\n",
       "    <tr>\n",
       "      <th>2</th>\n",
       "      <td>23408</td>\n",
       "      <td>2017</td>\n",
       "      <td>When a renowned architecture scholar falls sud...</td>\n",
       "      <td>Drama</td>\n",
       "      <td>renowned architecture scholar falls suddenly i...</td>\n",
       "      <td>renowned architecture scholar fall suddenly il...</td>\n",
       "    </tr>\n",
       "    <tr>\n",
       "      <th>3</th>\n",
       "      <td>39470</td>\n",
       "      <td>1996</td>\n",
       "      <td>The story dealt with Lord Rama and his retalia...</td>\n",
       "      <td>Children Drama</td>\n",
       "      <td>story dealt lord rama retaliation ravana chara...</td>\n",
       "      <td>story dealt lord rama retaliation ravana chara...</td>\n",
       "    </tr>\n",
       "    <tr>\n",
       "      <th>4</th>\n",
       "      <td>7108</td>\n",
       "      <td>2003</td>\n",
       "      <td>A Thai playboy cons a girl into bed and then l...</td>\n",
       "      <td>Comedy Drama Horror Thriller</td>\n",
       "      <td>thai playboy cons girl bed leaves finding preg...</td>\n",
       "      <td>thai playboy con girl bed leave find pregnant ...</td>\n",
       "    </tr>\n",
       "  </tbody>\n",
       "</table>\n",
       "</div>"
      ],
      "text/plain": [
       "   movie_id  year                                           synopsis  \\\n",
       "0     30924  2005  Cruel But Necessary is the story of Betty Muns...   \n",
       "1     34841  2012  Yorkshire, 1974, the Maynard family moves into...   \n",
       "2     23408  2017  When a renowned architecture scholar falls sud...   \n",
       "3     39470  1996  The story dealt with Lord Rama and his retalia...   \n",
       "4      7108  2003  A Thai playboy cons a girl into bed and then l...   \n",
       "\n",
       "                         genres  \\\n",
       "0                         Drama   \n",
       "1         Drama Horror Thriller   \n",
       "2                         Drama   \n",
       "3                Children Drama   \n",
       "4  Comedy Drama Horror Thriller   \n",
       "\n",
       "                                          clean_plot  \\\n",
       "0  cruel necessary story betty munson strange jou...   \n",
       "1  yorkshire maynard family moves dream house dre...   \n",
       "2  renowned architecture scholar falls suddenly i...   \n",
       "3  story dealt lord rama retaliation ravana chara...   \n",
       "4  thai playboy cons girl bed leaves finding preg...   \n",
       "\n",
       "                                               lemma  \n",
       "0  cruel necessary story betty munson strange jou...  \n",
       "1  yorkshire maynard family move dream house drea...  \n",
       "2  renowned architecture scholar fall suddenly il...  \n",
       "3  story dealt lord rama retaliation ravana chara...  \n",
       "4  thai playboy con girl bed leave find pregnant ...  "
      ]
     },
     "execution_count": 7,
     "metadata": {},
     "output_type": "execute_result"
    }
   ],
   "source": [
    "train['lemma'] = train['clean_plot'].apply(lambda x: lemma(x))\n",
    "test['lemma'] = test['clean_plot'].apply(lambda x: lemma(x))\n",
    "train.head()"
   ]
  },
  {
   "cell_type": "markdown",
   "metadata": {},
   "source": [
    "## 3. Variables preparation "
   ]
  },
  {
   "cell_type": "code",
   "execution_count": 8,
   "metadata": {},
   "outputs": [],
   "source": [
    "\n",
    "X = train['lemma']\n",
    "\n",
    "X_test = test['lemma']    "
   ]
  },
  {
   "cell_type": "markdown",
   "metadata": {},
   "source": [
    "### 3.1 Target variable one hot encoding"
   ]
  },
  {
   "cell_type": "code",
   "execution_count": 9,
   "metadata": {},
   "outputs": [],
   "source": [
    "#apply the onehot transformation for the genres vector\n",
    "y = train['genres']\n",
    "one_hot = MultiLabelBinarizer() # encoder for the  tags \n",
    "y_onehot = one_hot.fit_transform(y.str.split(' ')) \n",
    "y_bin = pd.DataFrame(y_onehot, columns=one_hot.classes_ ) # transform it to Pandas object"
   ]
  },
  {
   "cell_type": "code",
   "execution_count": 10,
   "metadata": {},
   "outputs": [
    {
     "name": "stdout",
     "output_type": "stream",
     "text": [
      "(36518,)\n",
      "(36518, 19)\n"
     ]
    },
    {
     "data": {
      "text/html": [
       "<div>\n",
       "<style scoped>\n",
       "    .dataframe tbody tr th:only-of-type {\n",
       "        vertical-align: middle;\n",
       "    }\n",
       "\n",
       "    .dataframe tbody tr th {\n",
       "        vertical-align: top;\n",
       "    }\n",
       "\n",
       "    .dataframe thead th {\n",
       "        text-align: right;\n",
       "    }\n",
       "</style>\n",
       "<table border=\"1\" class=\"dataframe\">\n",
       "  <thead>\n",
       "    <tr style=\"text-align: right;\">\n",
       "      <th></th>\n",
       "      <th>Action</th>\n",
       "      <th>Adventure</th>\n",
       "      <th>Animation</th>\n",
       "      <th>Children</th>\n",
       "      <th>Comedy</th>\n",
       "      <th>Crime</th>\n",
       "      <th>Documentary</th>\n",
       "      <th>Drama</th>\n",
       "      <th>Fantasy</th>\n",
       "      <th>Film-Noir</th>\n",
       "      <th>Horror</th>\n",
       "      <th>IMAX</th>\n",
       "      <th>Musical</th>\n",
       "      <th>Mystery</th>\n",
       "      <th>Romance</th>\n",
       "      <th>Sci-Fi</th>\n",
       "      <th>Thriller</th>\n",
       "      <th>War</th>\n",
       "      <th>Western</th>\n",
       "    </tr>\n",
       "  </thead>\n",
       "  <tbody>\n",
       "    <tr>\n",
       "      <th>0</th>\n",
       "      <td>0</td>\n",
       "      <td>0</td>\n",
       "      <td>0</td>\n",
       "      <td>0</td>\n",
       "      <td>0</td>\n",
       "      <td>0</td>\n",
       "      <td>0</td>\n",
       "      <td>1</td>\n",
       "      <td>0</td>\n",
       "      <td>0</td>\n",
       "      <td>0</td>\n",
       "      <td>0</td>\n",
       "      <td>0</td>\n",
       "      <td>0</td>\n",
       "      <td>0</td>\n",
       "      <td>0</td>\n",
       "      <td>0</td>\n",
       "      <td>0</td>\n",
       "      <td>0</td>\n",
       "    </tr>\n",
       "    <tr>\n",
       "      <th>1</th>\n",
       "      <td>0</td>\n",
       "      <td>0</td>\n",
       "      <td>0</td>\n",
       "      <td>0</td>\n",
       "      <td>0</td>\n",
       "      <td>0</td>\n",
       "      <td>0</td>\n",
       "      <td>1</td>\n",
       "      <td>0</td>\n",
       "      <td>0</td>\n",
       "      <td>1</td>\n",
       "      <td>0</td>\n",
       "      <td>0</td>\n",
       "      <td>0</td>\n",
       "      <td>0</td>\n",
       "      <td>0</td>\n",
       "      <td>1</td>\n",
       "      <td>0</td>\n",
       "      <td>0</td>\n",
       "    </tr>\n",
       "    <tr>\n",
       "      <th>2</th>\n",
       "      <td>0</td>\n",
       "      <td>0</td>\n",
       "      <td>0</td>\n",
       "      <td>0</td>\n",
       "      <td>0</td>\n",
       "      <td>0</td>\n",
       "      <td>0</td>\n",
       "      <td>1</td>\n",
       "      <td>0</td>\n",
       "      <td>0</td>\n",
       "      <td>0</td>\n",
       "      <td>0</td>\n",
       "      <td>0</td>\n",
       "      <td>0</td>\n",
       "      <td>0</td>\n",
       "      <td>0</td>\n",
       "      <td>0</td>\n",
       "      <td>0</td>\n",
       "      <td>0</td>\n",
       "    </tr>\n",
       "    <tr>\n",
       "      <th>3</th>\n",
       "      <td>0</td>\n",
       "      <td>0</td>\n",
       "      <td>0</td>\n",
       "      <td>1</td>\n",
       "      <td>0</td>\n",
       "      <td>0</td>\n",
       "      <td>0</td>\n",
       "      <td>1</td>\n",
       "      <td>0</td>\n",
       "      <td>0</td>\n",
       "      <td>0</td>\n",
       "      <td>0</td>\n",
       "      <td>0</td>\n",
       "      <td>0</td>\n",
       "      <td>0</td>\n",
       "      <td>0</td>\n",
       "      <td>0</td>\n",
       "      <td>0</td>\n",
       "      <td>0</td>\n",
       "    </tr>\n",
       "    <tr>\n",
       "      <th>4</th>\n",
       "      <td>0</td>\n",
       "      <td>0</td>\n",
       "      <td>0</td>\n",
       "      <td>0</td>\n",
       "      <td>1</td>\n",
       "      <td>0</td>\n",
       "      <td>0</td>\n",
       "      <td>1</td>\n",
       "      <td>0</td>\n",
       "      <td>0</td>\n",
       "      <td>1</td>\n",
       "      <td>0</td>\n",
       "      <td>0</td>\n",
       "      <td>0</td>\n",
       "      <td>0</td>\n",
       "      <td>0</td>\n",
       "      <td>1</td>\n",
       "      <td>0</td>\n",
       "      <td>0</td>\n",
       "    </tr>\n",
       "  </tbody>\n",
       "</table>\n",
       "</div>"
      ],
      "text/plain": [
       "   Action  Adventure  Animation  Children  Comedy  Crime  Documentary  Drama  \\\n",
       "0       0          0          0         0       0      0            0      1   \n",
       "1       0          0          0         0       0      0            0      1   \n",
       "2       0          0          0         0       0      0            0      1   \n",
       "3       0          0          0         1       0      0            0      1   \n",
       "4       0          0          0         0       1      0            0      1   \n",
       "\n",
       "   Fantasy  Film-Noir  Horror  IMAX  Musical  Mystery  Romance  Sci-Fi  \\\n",
       "0        0          0       0     0        0        0        0       0   \n",
       "1        0          0       1     0        0        0        0       0   \n",
       "2        0          0       0     0        0        0        0       0   \n",
       "3        0          0       0     0        0        0        0       0   \n",
       "4        0          0       1     0        0        0        0       0   \n",
       "\n",
       "   Thriller  War  Western  \n",
       "0         0    0        0  \n",
       "1         1    0        0  \n",
       "2         0    0        0  \n",
       "3         0    0        0  \n",
       "4         1    0        0  "
      ]
     },
     "execution_count": 10,
     "metadata": {},
     "output_type": "execute_result"
    }
   ],
   "source": [
    "print(X.shape)\n",
    "print(y_bin.shape)\n",
    "y_bin.head()\n"
   ]
  },
  {
   "cell_type": "code",
   "execution_count": 11,
   "metadata": {},
   "outputs": [],
   "source": [
    "# tokenize\n",
    "max_features = 5000\n",
    "tokenizer = Tokenizer(num_words=max_features)\n",
    "tokenizer.fit_on_texts(list(X))\n",
    "list_tokenized_train = tokenizer.texts_to_sequences(X)\n",
    "list_tokenized_test = tokenizer.texts_to_sequences(X_test)"
   ]
  },
  {
   "cell_type": "code",
   "execution_count": 12,
   "metadata": {},
   "outputs": [
    {
     "data": {
      "image/png": "[encoded data removed]",
      "text/plain": [
       "<Figure size 432x288 with 1 Axes>"
      ]
     },
     "metadata": {
      "needs_background": "light"
     },
     "output_type": "display_data"
    }
   ],
   "source": [
    "totalNumWords = [len(synopsis) for synopsis in list_tokenized_train]\n",
    "bins = np.arange(0,210,10)\n",
    "plt.hist(totalNumWords, bins)\n",
    "plt.xlabel('number of words')\n",
    "plt.ylabel('count')\n",
    "plt.show()"
   ]
  },
  {
   "cell_type": "code",
   "execution_count": 13,
   "metadata": {},
   "outputs": [],
   "source": [
    "#fix max comment lenght\n",
    "maxlen = 100\n",
    "X_t = pad_sequences(list_tokenized_train, maxlen=maxlen)\n",
    "X_te = pad_sequences(list_tokenized_test, maxlen=maxlen)"
   ]
  },
  {
   "cell_type": "markdown",
   "metadata": {},
   "source": [
    "## 4.The Model"
   ]
  },
  {
   "cell_type": "code",
   "execution_count": 14,
   "metadata": {
    "colab": {},
    "colab_type": "code",
    "id": "1Nje6HBsIR94"
   },
   "outputs": [],
   "source": [
    "# Define a time counter function to test the algorythms performance \n",
    "_start_time = time.time()\n",
    "\n",
    "def process_time_starts():\n",
    "    global _start_time \n",
    "    _start_time = time.time()\n",
    "\n",
    "def time_elapsed():\n",
    "    t_sec = round(time.time() - _start_time)\n",
    "    (t_min, t_sec) = divmod(t_sec,60)\n",
    "    (t_hour,t_min) = divmod(t_min,60) \n",
    "    print('The process took: {}hour:{}min:{}sec'.format(t_hour,t_min,t_sec))"
   ]
  },
  {
   "cell_type": "code",
   "execution_count": 15,
   "metadata": {
    "colab": {},
    "colab_type": "code",
    "id": "boheaXGPISCm"
   },
   "outputs": [],
   "source": [
    "#initialize parameters\n",
    "inp = Input(shape=(maxlen, )) #maxlen defined earlier\n",
    "embed_size = 128"
   ]
  },
  {
   "cell_type": "code",
   "execution_count": 16,
   "metadata": {
    "colab": {},
    "colab_type": "code",
    "id": "boheaXGPISCm"
   },
   "outputs": [],
   "source": [
    "# Neural network backbone\n",
    "x = Embedding(max_features, embed_size)(inp)\n",
    "\n",
    "x = LSTM(64, return_sequences=True,name='lstm_layer')(x)\n",
    "\n",
    "x = GlobalMaxPool1D()(x)\n",
    "x = Dropout(0.1)(x)\n",
    "x = Dense(50, activation=\"relu\")(x)\n",
    "x = Dropout(0.1)(x)\n",
    "x = Dense(len(y_bin.columns), activation=\"softmax\")(x)"
   ]
  },
  {
   "cell_type": "code",
   "execution_count": 17,
   "metadata": {
    "colab": {},
    "colab_type": "code",
    "id": "boheaXGPISCm"
   },
   "outputs": [],
   "source": [
    "model = Model(inputs=inp, outputs=x)\n",
    "model.compile(loss='binary_crossentropy',\n",
    "                  optimizer='adam',\n",
    "                  metrics=['accuracy'])"
   ]
  },
  {
   "cell_type": "code",
   "execution_count": 18,
   "metadata": {
    "colab": {},
    "colab_type": "code",
    "id": "boheaXGPISCm"
   },
   "outputs": [
    {
     "name": "stdout",
     "output_type": "stream",
     "text": [
      "Epoch 1/3\n",
      "2055/2055 [==============================] - 64s 31ms/step - loss: 0.2629 - accuracy: 0.3603 - val_loss: 0.2348 - val_accuracy: 0.4482\n",
      "Epoch 2/3\n",
      "2055/2055 [==============================] - 62s 30ms/step - loss: 0.2252 - accuracy: 0.4754 - val_loss: 0.2287 - val_accuracy: 0.4685\n",
      "Epoch 3/3\n",
      "2055/2055 [==============================] - 64s 31ms/step - loss: 0.2119 - accuracy: 0.5034 - val_loss: 0.2261 - val_accuracy: 0.4734\n",
      "The process took: 0hour:3min:12sec\n"
     ]
    }
   ],
   "source": [
    "batch_size = 16\n",
    "epochs = 3\n",
    "process_time_starts()\n",
    "hist = model.fit(X_t,y_onehot, batch_size=batch_size, epochs=epochs, validation_split=0.1)\n",
    "time_elapsed()"
   ]
  },
  {
   "cell_type": "code",
   "execution_count": 19,
   "metadata": {
    "colab": {},
    "colab_type": "code",
    "id": "boheaXGPISCm"
   },
   "outputs": [
    {
     "data": {
      "image/png": "[encoded data removed]",
      "text/plain": [
       "<Figure size 720x216 with 2 Axes>"
      ]
     },
     "metadata": {
      "needs_background": "light"
     },
     "output_type": "display_data"
    }
   ],
   "source": [
    "fig, ax = plt.subplots(1, 2, figsize=(10, 3))\n",
    "ax = ax.ravel()\n",
    "\n",
    "for i, met in enumerate(['accuracy', 'loss']):\n",
    "    ax[i].plot(hist.history[met])\n",
    "    ax[i].plot(hist.history['val_' + met])\n",
    "    ax[i].set_title('Model {}'.format(met))\n",
    "    ax[i].set_xlabel('epochs')\n",
    "    ax[i].set_ylabel(met)\n",
    "    ax[i].legend(['train', 'val'])"
   ]
  },
  {
   "cell_type": "markdown",
   "metadata": {},
   "source": [
    "## 5.The prediction"
   ]
  },
  {
   "cell_type": "code",
   "execution_count": 20,
   "metadata": {},
   "outputs": [
    {
     "name": "stdout",
     "output_type": "stream",
     "text": [
      "329/329 [==============================] - 2s 7ms/step\n",
      "(5250, 19)\n"
     ]
    }
   ],
   "source": [
    "y_pred = model.predict(X_te, batch_size=batch_size, verbose=1)\n",
    "print(y_pred.shape)"
   ]
  },
  {
   "cell_type": "code",
   "execution_count": 21,
   "metadata": {},
   "outputs": [
    {
     "data": {
      "text/html": [
       "<div>\n",
       "<style scoped>\n",
       "    .dataframe tbody tr th:only-of-type {\n",
       "        vertical-align: middle;\n",
       "    }\n",
       "\n",
       "    .dataframe tbody tr th {\n",
       "        vertical-align: top;\n",
       "    }\n",
       "\n",
       "    .dataframe thead th {\n",
       "        text-align: right;\n",
       "    }\n",
       "</style>\n",
       "<table border=\"1\" class=\"dataframe\">\n",
       "  <thead>\n",
       "    <tr style=\"text-align: right;\">\n",
       "      <th></th>\n",
       "      <th>Action</th>\n",
       "      <th>Adventure</th>\n",
       "      <th>Animation</th>\n",
       "      <th>Children</th>\n",
       "      <th>Comedy</th>\n",
       "      <th>Crime</th>\n",
       "      <th>Documentary</th>\n",
       "      <th>Drama</th>\n",
       "      <th>Fantasy</th>\n",
       "      <th>Film-Noir</th>\n",
       "      <th>Horror</th>\n",
       "      <th>IMAX</th>\n",
       "      <th>Musical</th>\n",
       "      <th>Mystery</th>\n",
       "      <th>Romance</th>\n",
       "      <th>Sci-Fi</th>\n",
       "      <th>Thriller</th>\n",
       "      <th>War</th>\n",
       "      <th>Western</th>\n",
       "    </tr>\n",
       "  </thead>\n",
       "  <tbody>\n",
       "    <tr>\n",
       "      <th>0</th>\n",
       "      <td>0.157299</td>\n",
       "      <td>0.117781</td>\n",
       "      <td>0.079621</td>\n",
       "      <td>0.023000</td>\n",
       "      <td>0.045494</td>\n",
       "      <td>0.011966</td>\n",
       "      <td>0.043262</td>\n",
       "      <td>0.051942</td>\n",
       "      <td>0.062946</td>\n",
       "      <td>0.000228</td>\n",
       "      <td>0.070086</td>\n",
       "      <td>0.030190</td>\n",
       "      <td>0.002256</td>\n",
       "      <td>0.015243</td>\n",
       "      <td>0.007647</td>\n",
       "      <td>0.214516</td>\n",
       "      <td>0.052082</td>\n",
       "      <td>0.008154</td>\n",
       "      <td>0.006288</td>\n",
       "    </tr>\n",
       "    <tr>\n",
       "      <th>1</th>\n",
       "      <td>0.061930</td>\n",
       "      <td>0.040847</td>\n",
       "      <td>0.046475</td>\n",
       "      <td>0.008978</td>\n",
       "      <td>0.030475</td>\n",
       "      <td>0.014483</td>\n",
       "      <td>0.464477</td>\n",
       "      <td>0.061759</td>\n",
       "      <td>0.015675</td>\n",
       "      <td>0.000049</td>\n",
       "      <td>0.026586</td>\n",
       "      <td>0.038604</td>\n",
       "      <td>0.012879</td>\n",
       "      <td>0.008628</td>\n",
       "      <td>0.006525</td>\n",
       "      <td>0.114653</td>\n",
       "      <td>0.016983</td>\n",
       "      <td>0.027218</td>\n",
       "      <td>0.002776</td>\n",
       "    </tr>\n",
       "    <tr>\n",
       "      <th>2</th>\n",
       "      <td>0.002865</td>\n",
       "      <td>0.003176</td>\n",
       "      <td>0.005433</td>\n",
       "      <td>0.004185</td>\n",
       "      <td>0.049114</td>\n",
       "      <td>0.003200</td>\n",
       "      <td>0.765457</td>\n",
       "      <td>0.131216</td>\n",
       "      <td>0.002590</td>\n",
       "      <td>0.000014</td>\n",
       "      <td>0.003143</td>\n",
       "      <td>0.000469</td>\n",
       "      <td>0.006963</td>\n",
       "      <td>0.001677</td>\n",
       "      <td>0.005679</td>\n",
       "      <td>0.005834</td>\n",
       "      <td>0.003383</td>\n",
       "      <td>0.005548</td>\n",
       "      <td>0.000053</td>\n",
       "    </tr>\n",
       "    <tr>\n",
       "      <th>3</th>\n",
       "      <td>0.078040</td>\n",
       "      <td>0.034343</td>\n",
       "      <td>0.022101</td>\n",
       "      <td>0.008365</td>\n",
       "      <td>0.066100</td>\n",
       "      <td>0.005354</td>\n",
       "      <td>0.005392</td>\n",
       "      <td>0.031520</td>\n",
       "      <td>0.049023</td>\n",
       "      <td>0.000066</td>\n",
       "      <td>0.305218</td>\n",
       "      <td>0.002417</td>\n",
       "      <td>0.000281</td>\n",
       "      <td>0.015306</td>\n",
       "      <td>0.004274</td>\n",
       "      <td>0.268583</td>\n",
       "      <td>0.102890</td>\n",
       "      <td>0.000421</td>\n",
       "      <td>0.000305</td>\n",
       "    </tr>\n",
       "    <tr>\n",
       "      <th>4</th>\n",
       "      <td>0.038160</td>\n",
       "      <td>0.004035</td>\n",
       "      <td>0.001056</td>\n",
       "      <td>0.000984</td>\n",
       "      <td>0.047272</td>\n",
       "      <td>0.251190</td>\n",
       "      <td>0.001238</td>\n",
       "      <td>0.263814</td>\n",
       "      <td>0.001316</td>\n",
       "      <td>0.021342</td>\n",
       "      <td>0.025119</td>\n",
       "      <td>0.000135</td>\n",
       "      <td>0.000712</td>\n",
       "      <td>0.110874</td>\n",
       "      <td>0.018731</td>\n",
       "      <td>0.001988</td>\n",
       "      <td>0.209569</td>\n",
       "      <td>0.000436</td>\n",
       "      <td>0.002029</td>\n",
       "    </tr>\n",
       "  </tbody>\n",
       "</table>\n",
       "</div>"
      ],
      "text/plain": [
       "     Action  Adventure  Animation  Children    Comedy     Crime  Documentary  \\\n",
       "0  0.157299   0.117781   0.079621  0.023000  0.045494  0.011966     0.043262   \n",
       "1  0.061930   0.040847   0.046475  0.008978  0.030475  0.014483     0.464477   \n",
       "2  0.002865   0.003176   0.005433  0.004185  0.049114  0.003200     0.765457   \n",
       "3  0.078040   0.034343   0.022101  0.008365  0.066100  0.005354     0.005392   \n",
       "4  0.038160   0.004035   0.001056  0.000984  0.047272  0.251190     0.001238   \n",
       "\n",
       "      Drama   Fantasy  Film-Noir    Horror      IMAX   Musical   Mystery  \\\n",
       "0  0.051942  0.062946   0.000228  0.070086  0.030190  0.002256  0.015243   \n",
       "1  0.061759  0.015675   0.000049  0.026586  0.038604  0.012879  0.008628   \n",
       "2  0.131216  0.002590   0.000014  0.003143  0.000469  0.006963  0.001677   \n",
       "3  0.031520  0.049023   0.000066  0.305218  0.002417  0.000281  0.015306   \n",
       "4  0.263814  0.001316   0.021342  0.025119  0.000135  0.000712  0.110874   \n",
       "\n",
       "    Romance    Sci-Fi  Thriller       War   Western  \n",
       "0  0.007647  0.214516  0.052082  0.008154  0.006288  \n",
       "1  0.006525  0.114653  0.016983  0.027218  0.002776  \n",
       "2  0.005679  0.005834  0.003383  0.005548  0.000053  \n",
       "3  0.004274  0.268583  0.102890  0.000421  0.000305  \n",
       "4  0.018731  0.001988  0.209569  0.000436  0.002029  "
      ]
     },
     "execution_count": 21,
     "metadata": {},
     "output_type": "execute_result"
    }
   ],
   "source": [
    "df_probs_all = pd.DataFrame(y_pred,columns=y_bin.columns)\n",
    "#df_probs = pd.DataFrame(index=y_bin.index,columns=y_bin.columns)\n",
    "df_probs_all.head()"
   ]
  },
  {
   "cell_type": "code",
   "execution_count": 24,
   "metadata": {},
   "outputs": [],
   "source": [
    "def top_5_predictions(df):\n",
    "    N = 5\n",
    "    cols = df.columns[:-1].tolist()\n",
    "    a = df[cols].to_numpy().argsort()[:, :-N-1:-1]\n",
    "    c = np.array(cols)[a]\n",
    "    d = df[cols].to_numpy()[np.arange(a.shape[0])[:, None], a]\n",
    "    df1 = pd.DataFrame(c).rename(columns=lambda x : f'max_{x+1}_col')\n",
    "\n",
    "    predicted_genres = df1[\"max_1_col\"] + ' ' + df1[\"max_2_col\"]+ ' ' +df1[\"max_3_col\"]+ ' ' + df1[\"max_4_col\"]+ ' '+df1[\"max_5_col\"]\n",
    "    return predicted_genres"
   ]
  },
  {
   "cell_type": "code",
   "execution_count": 25,
   "metadata": {},
   "outputs": [],
   "source": [
    "pred_gen = top_5_predictions(df_probs_all)"
   ]
  },
  {
   "cell_type": "code",
   "execution_count": 26,
   "metadata": {},
   "outputs": [],
   "source": [
    "submission = pd.DataFrame(data= {'movie_id':test.movie_id,'predicted_genres':pred_gen})"
   ]
  },
  {
   "cell_type": "code",
   "execution_count": 27,
   "metadata": {},
   "outputs": [
    {
     "data": {
      "text/html": [
       "<div>\n",
       "<style scoped>\n",
       "    .dataframe tbody tr th:only-of-type {\n",
       "        vertical-align: middle;\n",
       "    }\n",
       "\n",
       "    .dataframe tbody tr th {\n",
       "        vertical-align: top;\n",
       "    }\n",
       "\n",
       "    .dataframe thead th {\n",
       "        text-align: right;\n",
       "    }\n",
       "</style>\n",
       "<table border=\"1\" class=\"dataframe\">\n",
       "  <thead>\n",
       "    <tr style=\"text-align: right;\">\n",
       "      <th></th>\n",
       "      <th>movie_id</th>\n",
       "      <th>predicted_genres</th>\n",
       "    </tr>\n",
       "  </thead>\n",
       "  <tbody>\n",
       "    <tr>\n",
       "      <th>0</th>\n",
       "      <td>10827</td>\n",
       "      <td>Sci-Fi Action Adventure Animation Horror</td>\n",
       "    </tr>\n",
       "    <tr>\n",
       "      <th>1</th>\n",
       "      <td>51768</td>\n",
       "      <td>Documentary Sci-Fi Action Drama Animation</td>\n",
       "    </tr>\n",
       "    <tr>\n",
       "      <th>2</th>\n",
       "      <td>36064</td>\n",
       "      <td>Documentary Drama Comedy Musical Sci-Fi</td>\n",
       "    </tr>\n",
       "    <tr>\n",
       "      <th>3</th>\n",
       "      <td>33763</td>\n",
       "      <td>Horror Sci-Fi Thriller Action Comedy</td>\n",
       "    </tr>\n",
       "    <tr>\n",
       "      <th>4</th>\n",
       "      <td>1146</td>\n",
       "      <td>Drama Crime Thriller Mystery Comedy</td>\n",
       "    </tr>\n",
       "  </tbody>\n",
       "</table>\n",
       "</div>"
      ],
      "text/plain": [
       "   movie_id                           predicted_genres\n",
       "0     10827   Sci-Fi Action Adventure Animation Horror\n",
       "1     51768  Documentary Sci-Fi Action Drama Animation\n",
       "2     36064    Documentary Drama Comedy Musical Sci-Fi\n",
       "3     33763       Horror Sci-Fi Thriller Action Comedy\n",
       "4      1146        Drama Crime Thriller Mystery Comedy"
      ]
     },
     "execution_count": 27,
     "metadata": {},
     "output_type": "execute_result"
    }
   ],
   "source": [
    "submission.head()"
   ]
  },
  {
   "cell_type": "code",
   "execution_count": 28,
   "metadata": {},
   "outputs": [],
   "source": [
    "submission.to_csv('submission.csv',index=False)"
   ]
  },
  {
   "cell_type": "code",
   "execution_count": null,
   "metadata": {},
   "outputs": [],
   "source": []
  }
 ],
 "metadata": {
  "kernelspec": {
   "display_name": "Python 3",
   "language": "python",
   "name": "python3"
  },
  "language_info": {
   "codemirror_mode": {
    "name": "ipython",
    "version": 3
   },
   "file_extension": ".py",
   "mimetype": "text/x-python",
   "name": "python",
   "nbconvert_exporter": "python",
   "pygments_lexer": "ipython3",
   "version": "3.8.3"
  }
 },
 "nbformat": 4,
 "nbformat_minor": 4
}
