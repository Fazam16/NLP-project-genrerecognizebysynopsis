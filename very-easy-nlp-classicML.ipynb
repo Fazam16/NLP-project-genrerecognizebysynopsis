{
 "cells": [
  {
   "cell_type": "markdown",
   "metadata": {},
   "source": [
    "# Automatic assignment of genres from movie synopsis using supervised machine learning"
   ]
  },
  {
   "cell_type": "markdown",
   "metadata": {},
   "source": [
    "## 1. Import libraries and load data"
   ]
  },
  {
   "cell_type": "code",
   "execution_count": 46,
   "metadata": {
    "_cell_guid": "b1076dfc-b9ad-4769-8c92-a6c4dae69d19",
    "_uuid": "8f2839f25d086af736a60e9eeb907d3b93b6e0e5"
   },
   "outputs": [],
   "source": [
    "packages to load\n",
    "\n",
    "import numpy as np # linear algebra\n",
    "import pandas as pd # data processing, CSV file I/O (e.g. pd.read_csv)\n",
    "import time\n",
    "# Input data files are available in the read-only \"../input/\" directory\n",
    "# For example, running this (by clicking run or pressing Shift+Enter) will list all files under the input directory\n",
    "import json\n",
    "from textblob import TextBlob, Word\n",
    "import nltk\n",
    "import re\n",
    "import csv\n",
    "import matplotlib.pyplot as plt \n",
    "#import seaborn as sns\n",
    "#from tqdm import tqdm\n",
    "from sklearn.preprocessing import MultiLabelBinarizer\n",
    "from sklearn.feature_extraction.text import TfidfVectorizer\n",
    "from sklearn.model_selection import train_test_split"
   ]
  },
  {
   "cell_type": "code",
   "execution_count": 64,
   "metadata": {},
   "outputs": [],
   "source": [
    "from sklearn.dummy import DummyClassifier\n",
    "from sklearn.naive_bayes import MultinomialNB\n",
    "from sklearn.linear_model import SGDClassifier\n",
    "from sklearn.linear_model import LogisticRegression\n",
    "from sklearn.multiclass import OneVsRestClassifier\n",
    "from sklearn.svm import LinearSVC\n",
    "from sklearn.linear_model import Perceptron\n",
    "from sklearn.linear_model import PassiveAggressiveClassifier\n",
    "from sklearn.neural_network import MLPClassifier\n",
    "from sklearn.ensemble import RandomForestClassifier\n",
    "\n",
    "from sklearn.neighbors import KNeighborsClassifier\n",
    "\n",
    "from sklearn import model_selection"
   ]
  },
  {
   "cell_type": "code",
   "execution_count": 64,
   "metadata": {},
   "outputs": [],
   "source": []
  },
  {
   "cell_type": "code",
   "execution_count": 64,
   "metadata": {},
   "outputs": [],
   "source": [
    "# Binary Relevance\n",
    "from sklearn.multiclass import OneVsRestClassifier\n",
    "from sklearn.multioutput import MultiOutputClassifier\n",
    "# Performance metric\n",
    "from sklearn.metrics import f1_score\n",
    "from sklearn.metrics import hamming_loss\n",
    "from sklearn.metrics import jaccard_score\n",
    "from sklearn.metrics import accuracy_score"
   ]
  },
  {
   "cell_type": "code",
   "execution_count": 2,
   "metadata": {
    "_cell_guid": "79c7e3d0-c299-4dcb-8224-4455121ee9b0",
    "_uuid": "d629ff2d2480ee46fbb7e2d37f6b5fab8052498a"
   },
   "outputs": [],
   "source": [
    "train= pd.read_csv('train.csv')\n",
    "test=pd.read_csv('test.csv')"
   ]
  },
  {
   "cell_type": "markdown",
   "metadata": {},
   "source": [
    "## 2. DATA PREPARATION "
   ]
  },
  {
   "cell_type": "code",
   "execution_count": 17,
   "metadata": {},
   "outputs": [
    {
     "name": "stderr",
     "output_type": "stream",
     "text": [
      "[nltk_data] Downloading package stopwords to /home/marco/nltk_data...\n",
      "[nltk_data]   Package stopwords is already up-to-date!\n"
     ]
    }
   ],
   "source": [
    "ps =PorterStemmer() # stemmer to lemmatize words\n",
    "#function to remove all the stopwords that may affects the prestation of the model\n",
    "\n",
    "nltk.download('stopwords')\n",
    "\n",
    "from nltk.corpus import stopwords\n",
    "stop_words = set(stopwords.words('english'))"
   ]
  },
  {
   "cell_type": "code",
   "execution_count": 23,
   "metadata": {},
   "outputs": [],
   "source": [
    "# function for text cleaning \n",
    "def preprocess_text(text):\n",
    "    text = text.lower() # lowercase\n",
    "    text = re.sub(r\"what's\", \"what is \", text)\n",
    "    text = re.sub(r\"\\'s\", \" \", text)\n",
    "    text = re.sub(r\"\\'ve\", \" have \", text)\n",
    "    text = re.sub(r\"can't\", \"can not \", text)\n",
    "    text = re.sub(r\"n't\", \" not \", text)\n",
    "    text = re.sub(r\"i'm\", \"i am \", text)\n",
    "    text = re.sub(r\"\\'re\", \" are \", text)\n",
    "    text = re.sub(r\"\\'d\", \" would \", text)\n",
    "    text = re.sub(r\"\\'ll\", \" will \", text)\n",
    "    text = re.sub(r\"\\'scuse\", \" excuse \", text)\n",
    "    text = re.sub(r\"\\'\\n\", \" \", text) #line breaks\n",
    "    #text = re.sub(r\"\\'\\xa0\", \" \", text) # xa0 Unicode representing spaces\n",
    "    #text = re.sub('\\s+', ' ', text) # one or more whitespace characters\n",
    "    text = text.strip(' ') # spaces\n",
    "    # remove backslash-apostrophe \n",
    "    text = re.sub(\"\\'\", \"\", text) \n",
    "    # remove everything except alphabets \n",
    "    text = re.sub(\"[^a-zA-Z]\",\" \",text) \n",
    "    #lemmatize and remove stopwords\n",
    "    no_stopword_text = [w for w in text.split() if not w in stop_words]\n",
    "    text = ' '.join(no_stopword_text) \n",
    "        \n",
    "    return text\n",
    "\n",
    "train['clean_plot'] = train['synopsis'].apply(lambda x: preprocess_text(x))\n",
    "test['clean_plot'] = test['synopsis'].apply(lambda x: preprocess_text(x))"
   ]
  },
  {
   "cell_type": "code",
   "execution_count": 40,
   "metadata": {},
   "outputs": [],
   "source": [
    "def lemma(text): # Lemmatization of cleaned body\n",
    "        sent = TextBlob(text)\n",
    "        tag_dict = {\"J\": 'a', \n",
    "                    \"N\": 'n', \n",
    "                    \"V\": 'v', \n",
    "                    \"R\": 'r'}\n",
    "        words_and_tags = [(w, tag_dict.get(pos[0], 'n')) for w, pos in sent.tags]    \n",
    "        lemmatized_list = [wd.lemmatize(tag) for wd, tag in words_and_tags]\n",
    "        seperator=' '\n",
    "        lemma = seperator.join(lemmatized_list) \n",
    "        return lemma"
   ]
  },
  {
   "cell_type": "code",
   "execution_count": 41,
   "metadata": {},
   "outputs": [
    {
     "data": {
      "text/html": [
       "<div>\n",
       "<style scoped>\n",
       "    .dataframe tbody tr th:only-of-type {\n",
       "        vertical-align: middle;\n",
       "    }\n",
       "\n",
       "    .dataframe tbody tr th {\n",
       "        vertical-align: top;\n",
       "    }\n",
       "\n",
       "    .dataframe thead th {\n",
       "        text-align: right;\n",
       "    }\n",
       "</style>\n",
       "<table border=\"1\" class=\"dataframe\">\n",
       "  <thead>\n",
       "    <tr style=\"text-align: right;\">\n",
       "      <th></th>\n",
       "      <th>movie_id</th>\n",
       "      <th>year</th>\n",
       "      <th>synopsis</th>\n",
       "      <th>genres</th>\n",
       "      <th>clean_plot</th>\n",
       "      <th>lemma</th>\n",
       "      <th>lemmalist</th>\n",
       "    </tr>\n",
       "  </thead>\n",
       "  <tbody>\n",
       "    <tr>\n",
       "      <th>0</th>\n",
       "      <td>30924</td>\n",
       "      <td>2005</td>\n",
       "      <td>Cruel But Necessary is the story of Betty Muns...</td>\n",
       "      <td>Drama</td>\n",
       "      <td>cruel necessary story betty munson strange jou...</td>\n",
       "      <td>cruel necessary story betty munson strange jou...</td>\n",
       "      <td>cruel necessary story betty munson strange jou...</td>\n",
       "    </tr>\n",
       "    <tr>\n",
       "      <th>1</th>\n",
       "      <td>34841</td>\n",
       "      <td>2012</td>\n",
       "      <td>Yorkshire, 1974, the Maynard family moves into...</td>\n",
       "      <td>Drama Horror Thriller</td>\n",
       "      <td>yorkshire maynard family moves dream house dre...</td>\n",
       "      <td>yorkshire maynard family move dream house drea...</td>\n",
       "      <td>yorkshire maynard family move dream house drea...</td>\n",
       "    </tr>\n",
       "    <tr>\n",
       "      <th>2</th>\n",
       "      <td>23408</td>\n",
       "      <td>2017</td>\n",
       "      <td>When a renowned architecture scholar falls sud...</td>\n",
       "      <td>Drama</td>\n",
       "      <td>renowned architecture scholar falls suddenly i...</td>\n",
       "      <td>renowned architecture scholar fall suddenly il...</td>\n",
       "      <td>renowned architecture scholar fall suddenly il...</td>\n",
       "    </tr>\n",
       "    <tr>\n",
       "      <th>3</th>\n",
       "      <td>39470</td>\n",
       "      <td>1996</td>\n",
       "      <td>The story dealt with Lord Rama and his retalia...</td>\n",
       "      <td>Children Drama</td>\n",
       "      <td>story dealt lord rama retaliation ravana chara...</td>\n",
       "      <td>story dealt lord rama retaliation ravana chara...</td>\n",
       "      <td>story dealt lord rama retaliation ravana chara...</td>\n",
       "    </tr>\n",
       "    <tr>\n",
       "      <th>4</th>\n",
       "      <td>7108</td>\n",
       "      <td>2003</td>\n",
       "      <td>A Thai playboy cons a girl into bed and then l...</td>\n",
       "      <td>Comedy Drama Horror Thriller</td>\n",
       "      <td>thai playboy cons girl bed leaves finding preg...</td>\n",
       "      <td>thai playboy con girl bed leave find pregnant ...</td>\n",
       "      <td>thai playboy con girl bed leave find pregnant ...</td>\n",
       "    </tr>\n",
       "  </tbody>\n",
       "</table>\n",
       "</div>"
      ],
      "text/plain": [
       "   movie_id  year                                           synopsis  \\\n",
       "0     30924  2005  Cruel But Necessary is the story of Betty Muns...   \n",
       "1     34841  2012  Yorkshire, 1974, the Maynard family moves into...   \n",
       "2     23408  2017  When a renowned architecture scholar falls sud...   \n",
       "3     39470  1996  The story dealt with Lord Rama and his retalia...   \n",
       "4      7108  2003  A Thai playboy cons a girl into bed and then l...   \n",
       "\n",
       "                         genres  \\\n",
       "0                         Drama   \n",
       "1         Drama Horror Thriller   \n",
       "2                         Drama   \n",
       "3                Children Drama   \n",
       "4  Comedy Drama Horror Thriller   \n",
       "\n",
       "                                          clean_plot  \\\n",
       "0  cruel necessary story betty munson strange jou...   \n",
       "1  yorkshire maynard family moves dream house dre...   \n",
       "2  renowned architecture scholar falls suddenly i...   \n",
       "3  story dealt lord rama retaliation ravana chara...   \n",
       "4  thai playboy cons girl bed leaves finding preg...   \n",
       "\n",
       "                                               lemma  \\\n",
       "0  cruel necessary story betty munson strange jou...   \n",
       "1  yorkshire maynard family move dream house drea...   \n",
       "2  renowned architecture scholar fall suddenly il...   \n",
       "3  story dealt lord rama retaliation ravana chara...   \n",
       "4  thai playboy con girl bed leave find pregnant ...   \n",
       "\n",
       "                                           lemmalist  \n",
       "0  cruel necessary story betty munson strange jou...  \n",
       "1  yorkshire maynard family move dream house drea...  \n",
       "2  renowned architecture scholar fall suddenly il...  \n",
       "3  story dealt lord rama retaliation ravana chara...  \n",
       "4  thai playboy con girl bed leave find pregnant ...  "
      ]
     },
     "execution_count": 41,
     "metadata": {},
     "output_type": "execute_result"
    }
   ],
   "source": [
    "train['lemma'] = train['clean_plot'].apply(lambda x: lemma(x))\n",
    "test['lemma'] = test['clean_plot'].apply(lambda x: lemma(x))\n",
    "train.head()"
   ]
  },
  {
   "cell_type": "markdown",
   "metadata": {},
   "source": [
    "## 3. Variables preparation "
   ]
  },
  {
   "cell_type": "code",
   "execution_count": 42,
   "metadata": {},
   "outputs": [],
   "source": [
    "#estrapolate the genres vector from the train dataset\n",
    "X = train['lemma']\n",
    "y = train['genres']\n",
    "    "
   ]
  },
  {
   "cell_type": "markdown",
   "metadata": {},
   "source": [
    "### 3.1 Target variable one hot encoding"
   ]
  },
  {
   "cell_type": "code",
   "execution_count": 49,
   "metadata": {},
   "outputs": [],
   "source": [
    "#apply the onehot transformation for the genres vector\n",
    "\n",
    "one_hot = MultiLabelBinarizer() # encoder for the  tags \n",
    "y_onehot = one_hot.fit_transform(y.str.split(' ')) \n",
    "y_bin = pd.DataFrame(y_onehot, columns=one_hot.classes_ ) # transform it to Pandas object"
   ]
  },
  {
   "cell_type": "code",
   "execution_count": 50,
   "metadata": {},
   "outputs": [
    {
     "name": "stdout",
     "output_type": "stream",
     "text": [
      "(36518, 19)\n"
     ]
    },
    {
     "data": {
      "text/html": [
       "<div>\n",
       "<style scoped>\n",
       "    .dataframe tbody tr th:only-of-type {\n",
       "        vertical-align: middle;\n",
       "    }\n",
       "\n",
       "    .dataframe tbody tr th {\n",
       "        vertical-align: top;\n",
       "    }\n",
       "\n",
       "    .dataframe thead th {\n",
       "        text-align: right;\n",
       "    }\n",
       "</style>\n",
       "<table border=\"1\" class=\"dataframe\">\n",
       "  <thead>\n",
       "    <tr style=\"text-align: right;\">\n",
       "      <th></th>\n",
       "      <th>Action</th>\n",
       "      <th>Adventure</th>\n",
       "      <th>Animation</th>\n",
       "      <th>Children</th>\n",
       "      <th>Comedy</th>\n",
       "      <th>Crime</th>\n",
       "      <th>Documentary</th>\n",
       "      <th>Drama</th>\n",
       "      <th>Fantasy</th>\n",
       "      <th>Film-Noir</th>\n",
       "      <th>Horror</th>\n",
       "      <th>IMAX</th>\n",
       "      <th>Musical</th>\n",
       "      <th>Mystery</th>\n",
       "      <th>Romance</th>\n",
       "      <th>Sci-Fi</th>\n",
       "      <th>Thriller</th>\n",
       "      <th>War</th>\n",
       "      <th>Western</th>\n",
       "    </tr>\n",
       "  </thead>\n",
       "  <tbody>\n",
       "    <tr>\n",
       "      <th>0</th>\n",
       "      <td>0</td>\n",
       "      <td>0</td>\n",
       "      <td>0</td>\n",
       "      <td>0</td>\n",
       "      <td>0</td>\n",
       "      <td>0</td>\n",
       "      <td>0</td>\n",
       "      <td>1</td>\n",
       "      <td>0</td>\n",
       "      <td>0</td>\n",
       "      <td>0</td>\n",
       "      <td>0</td>\n",
       "      <td>0</td>\n",
       "      <td>0</td>\n",
       "      <td>0</td>\n",
       "      <td>0</td>\n",
       "      <td>0</td>\n",
       "      <td>0</td>\n",
       "      <td>0</td>\n",
       "    </tr>\n",
       "    <tr>\n",
       "      <th>1</th>\n",
       "      <td>0</td>\n",
       "      <td>0</td>\n",
       "      <td>0</td>\n",
       "      <td>0</td>\n",
       "      <td>0</td>\n",
       "      <td>0</td>\n",
       "      <td>0</td>\n",
       "      <td>1</td>\n",
       "      <td>0</td>\n",
       "      <td>0</td>\n",
       "      <td>1</td>\n",
       "      <td>0</td>\n",
       "      <td>0</td>\n",
       "      <td>0</td>\n",
       "      <td>0</td>\n",
       "      <td>0</td>\n",
       "      <td>1</td>\n",
       "      <td>0</td>\n",
       "      <td>0</td>\n",
       "    </tr>\n",
       "    <tr>\n",
       "      <th>2</th>\n",
       "      <td>0</td>\n",
       "      <td>0</td>\n",
       "      <td>0</td>\n",
       "      <td>0</td>\n",
       "      <td>0</td>\n",
       "      <td>0</td>\n",
       "      <td>0</td>\n",
       "      <td>1</td>\n",
       "      <td>0</td>\n",
       "      <td>0</td>\n",
       "      <td>0</td>\n",
       "      <td>0</td>\n",
       "      <td>0</td>\n",
       "      <td>0</td>\n",
       "      <td>0</td>\n",
       "      <td>0</td>\n",
       "      <td>0</td>\n",
       "      <td>0</td>\n",
       "      <td>0</td>\n",
       "    </tr>\n",
       "    <tr>\n",
       "      <th>3</th>\n",
       "      <td>0</td>\n",
       "      <td>0</td>\n",
       "      <td>0</td>\n",
       "      <td>1</td>\n",
       "      <td>0</td>\n",
       "      <td>0</td>\n",
       "      <td>0</td>\n",
       "      <td>1</td>\n",
       "      <td>0</td>\n",
       "      <td>0</td>\n",
       "      <td>0</td>\n",
       "      <td>0</td>\n",
       "      <td>0</td>\n",
       "      <td>0</td>\n",
       "      <td>0</td>\n",
       "      <td>0</td>\n",
       "      <td>0</td>\n",
       "      <td>0</td>\n",
       "      <td>0</td>\n",
       "    </tr>\n",
       "    <tr>\n",
       "      <th>4</th>\n",
       "      <td>0</td>\n",
       "      <td>0</td>\n",
       "      <td>0</td>\n",
       "      <td>0</td>\n",
       "      <td>1</td>\n",
       "      <td>0</td>\n",
       "      <td>0</td>\n",
       "      <td>1</td>\n",
       "      <td>0</td>\n",
       "      <td>0</td>\n",
       "      <td>1</td>\n",
       "      <td>0</td>\n",
       "      <td>0</td>\n",
       "      <td>0</td>\n",
       "      <td>0</td>\n",
       "      <td>0</td>\n",
       "      <td>1</td>\n",
       "      <td>0</td>\n",
       "      <td>0</td>\n",
       "    </tr>\n",
       "  </tbody>\n",
       "</table>\n",
       "</div>"
      ],
      "text/plain": [
       "   Action  Adventure  Animation  Children  Comedy  Crime  Documentary  Drama  \\\n",
       "0       0          0          0         0       0      0            0      1   \n",
       "1       0          0          0         0       0      0            0      1   \n",
       "2       0          0          0         0       0      0            0      1   \n",
       "3       0          0          0         1       0      0            0      1   \n",
       "4       0          0          0         0       1      0            0      1   \n",
       "\n",
       "   Fantasy  Film-Noir  Horror  IMAX  Musical  Mystery  Romance  Sci-Fi  \\\n",
       "0        0          0       0     0        0        0        0       0   \n",
       "1        0          0       1     0        0        0        0       0   \n",
       "2        0          0       0     0        0        0        0       0   \n",
       "3        0          0       0     0        0        0        0       0   \n",
       "4        0          0       1     0        0        0        0       0   \n",
       "\n",
       "   Thriller  War  Western  \n",
       "0         0    0        0  \n",
       "1         1    0        0  \n",
       "2         0    0        0  \n",
       "3         0    0        0  \n",
       "4         1    0        0  "
      ]
     },
     "execution_count": 50,
     "metadata": {},
     "output_type": "execute_result"
    }
   ],
   "source": [
    "print(y_bin.shape)\n",
    "y_bin.head()\n"
   ]
  },
  {
   "cell_type": "code",
   "execution_count": 53,
   "metadata": {
    "colab": {},
    "colab_type": "code",
    "id": "fhd2Xx24IR__"
   },
   "outputs": [],
   "source": [
    "tfidf_vectorizer = TfidfVectorizer(norm=None,analyzer='word',min_df = 5, max_df = 0.8, ngram_range=(1,2),max_features = 10000, use_idf=True)"
   ]
  },
  {
   "cell_type": "code",
   "execution_count": 54,
   "metadata": {},
   "outputs": [],
   "source": [
    "# applying TF-IDF features to the synopsis\n",
    "TF_IDF = tfidf_vectorizer.fit_transform(X)\n",
    "TF_IDF_dense = TF_IDF.todense()"
   ]
  },
  {
   "cell_type": "code",
   "execution_count": 55,
   "metadata": {},
   "outputs": [],
   "source": [
    "# 80/20 split TF-IDF\n",
    "X_tfidf_train, X_tfidf_val, y_train_bin, y_val_bin = train_test_split(TF_IDF_dense, y_bin,  test_size=0.2,train_size=0.8, random_state=0)"
   ]
  },
  {
   "cell_type": "markdown",
   "metadata": {},
   "source": [
    "## 4.The Model"
   ]
  },
  {
   "cell_type": "code",
   "execution_count": 62,
   "metadata": {
    "colab": {},
    "colab_type": "code",
    "id": "1Nje6HBsIR94"
   },
   "outputs": [],
   "source": [
    "# Define a time counter function to test the algorythms performance \n",
    "_start_time = time.time()\n",
    "\n",
    "def process_time_starts():\n",
    "    global _start_time \n",
    "    _start_time = time.time()\n",
    "\n",
    "def time_elapsed():\n",
    "    t_sec = round(time.time() - _start_time)\n",
    "    (t_min, t_sec) = divmod(t_sec,60)\n",
    "    (t_hour,t_min) = divmod(t_min,60) \n",
    "    print('The process took: {}hour:{}min:{}sec'.format(t_hour,t_min,t_sec))"
   ]
  },
  {
   "cell_type": "code",
   "execution_count": 70,
   "metadata": {
    "colab": {},
    "colab_type": "code",
    "id": "boheaXGPISCm"
   },
   "outputs": [],
   "source": [
    "def print_score(y_pred, clf):\n",
    "    \n",
    "    print(\"Clf: \", clf.__class__.__name__)\n",
    "    print(\"Jaccard score: {}\".format(jaccard_score(y_val_bin, y_pred, average='weighted'))) # measure of similarity for the two sets of data. Average is set to \"samples\" since is between two multilabeled\n",
    "    print(\"Hamming loss: {}\".format((hamming_loss(y_pred, y_val_bin)))) #% of the wrong labels to the total number of labels\n",
    "    print(\"Accuracy score: {}\".format((accuracy_score(y_val_bin, y_pred))))   \n",
    "    print(\"---\")    "
   ]
  },
  {
   "cell_type": "code",
   "execution_count": 80,
   "metadata": {
    "colab": {
     "base_uri": "https://localhost:8080/",
     "height": 955
    },
    "colab_type": "code",
    "id": "6AuqFHqyxliE",
    "outputId": "ea96c376-a8df-4011-c6fa-bc30c8f26bda"
   },
   "outputs": [],
   "source": [
    "lr = LogisticRegression(solver='lbfgs', max_iter=350)\n",
    "sgd = SGDClassifier() # stochastic gradient descent (SGD) learning\n",
    "mn = MultinomialNB() # naive Bayes algorithm for multinomially distributed data,\n",
    "svc = LinearSVC()\n",
    "perceptron = Perceptron()\n",
    "pac = PassiveAggressiveClassifier() # Passive: if correct classification, keep the model; Aggressive: if incorrect classification, update to adjust to this misclassified example.\n",
    "dummy_clf = DummyClassifier(random_state=0, strategy=\"most_frequent\")\n",
    "\n",
    "classifiers_list = [dummy_clf,lr, pac, svc, mn, perceptron]\n",
    "classifiers_jaccard_scores = []\n",
    "classifiers_hamming_losses = []\n",
    "classifiers_accuracy_scores = []"
   ]
  },
  {
   "cell_type": "code",
   "execution_count": 81,
   "metadata": {
    "colab": {
     "base_uri": "https://localhost:8080/",
     "height": 955
    },
    "colab_type": "code",
    "id": "6AuqFHqyxliE",
    "outputId": "ea96c376-a8df-4011-c6fa-bc30c8f26bda"
   },
   "outputs": [
    {
     "name": "stdout",
     "output_type": "stream",
     "text": [
      "fit running....\n",
      "time up\n",
      "The process took: 0hour:0min:0sec\n",
      "Clf:  DummyClassifier\n",
      "Jaccard score: 0.0\n",
      "Hamming loss: 0.09881391595088487\n",
      "Accuracy score: 0.0\n",
      "---\n",
      "---\n",
      "fit running....\n"
     ]
    },
    {
     "name": "stderr",
     "output_type": "stream",
     "text": [
      "/home/marco/anaconda3/lib/python3.8/site-packages/sklearn/linear_model/_logistic.py:762: ConvergenceWarning: lbfgs failed to converge (status=1):\n",
      "STOP: TOTAL NO. of ITERATIONS REACHED LIMIT.\n",
      "\n",
      "Increase the number of iterations (max_iter) or scale the data as shown in:\n",
      "    https://scikit-learn.org/stable/modules/preprocessing.html\n",
      "Please also refer to the documentation for alternative solver options:\n",
      "    https://scikit-learn.org/stable/modules/linear_model.html#logistic-regression\n",
      "  n_iter_i = _check_optimize_result(\n"
     ]
    },
    {
     "name": "stdout",
     "output_type": "stream",
     "text": [
      "time up\n",
      "The process took: 0hour:13min:26sec\n",
      "Clf:  LogisticRegression\n",
      "Jaccard score: 0.30729483907363847\n",
      "Hamming loss: 0.10934167291174267\n",
      "Accuracy score: 0.12664293537787513\n",
      "---\n",
      "---\n",
      "fit running....\n",
      "time up\n",
      "The process took: 0hour:5min:50sec\n",
      "Clf:  PassiveAggressiveClassifier\n",
      "Jaccard score: 0.30093517814275883\n",
      "Hamming loss: 0.11656194154608866\n",
      "Accuracy score: 0.10980284775465499\n",
      "---\n",
      "---\n",
      "fit running....\n"
     ]
    },
    {
     "name": "stderr",
     "output_type": "stream",
     "text": [
      "/home/marco/anaconda3/lib/python3.8/site-packages/sklearn/svm/_base.py:976: ConvergenceWarning: Liblinear failed to converge, increase the number of iterations.\n",
      "  warnings.warn(\"Liblinear failed to converge, increase \"\n",
      "/home/marco/anaconda3/lib/python3.8/site-packages/sklearn/svm/_base.py:976: ConvergenceWarning: Liblinear failed to converge, increase the number of iterations.\n",
      "  warnings.warn(\"Liblinear failed to converge, increase \"\n",
      "/home/marco/anaconda3/lib/python3.8/site-packages/sklearn/svm/_base.py:976: ConvergenceWarning: Liblinear failed to converge, increase the number of iterations.\n",
      "  warnings.warn(\"Liblinear failed to converge, increase \"\n",
      "/home/marco/anaconda3/lib/python3.8/site-packages/sklearn/svm/_base.py:976: ConvergenceWarning: Liblinear failed to converge, increase the number of iterations.\n",
      "  warnings.warn(\"Liblinear failed to converge, increase \"\n",
      "/home/marco/anaconda3/lib/python3.8/site-packages/sklearn/svm/_base.py:976: ConvergenceWarning: Liblinear failed to converge, increase the number of iterations.\n",
      "  warnings.warn(\"Liblinear failed to converge, increase \"\n",
      "/home/marco/anaconda3/lib/python3.8/site-packages/sklearn/svm/_base.py:976: ConvergenceWarning: Liblinear failed to converge, increase the number of iterations.\n",
      "  warnings.warn(\"Liblinear failed to converge, increase \"\n",
      "/home/marco/anaconda3/lib/python3.8/site-packages/sklearn/svm/_base.py:976: ConvergenceWarning: Liblinear failed to converge, increase the number of iterations.\n",
      "  warnings.warn(\"Liblinear failed to converge, increase \"\n",
      "/home/marco/anaconda3/lib/python3.8/site-packages/sklearn/svm/_base.py:976: ConvergenceWarning: Liblinear failed to converge, increase the number of iterations.\n",
      "  warnings.warn(\"Liblinear failed to converge, increase \"\n",
      "/home/marco/anaconda3/lib/python3.8/site-packages/sklearn/svm/_base.py:976: ConvergenceWarning: Liblinear failed to converge, increase the number of iterations.\n",
      "  warnings.warn(\"Liblinear failed to converge, increase \"\n",
      "/home/marco/anaconda3/lib/python3.8/site-packages/sklearn/svm/_base.py:976: ConvergenceWarning: Liblinear failed to converge, increase the number of iterations.\n",
      "  warnings.warn(\"Liblinear failed to converge, increase \"\n",
      "/home/marco/anaconda3/lib/python3.8/site-packages/sklearn/svm/_base.py:976: ConvergenceWarning: Liblinear failed to converge, increase the number of iterations.\n",
      "  warnings.warn(\"Liblinear failed to converge, increase \"\n",
      "/home/marco/anaconda3/lib/python3.8/site-packages/sklearn/svm/_base.py:976: ConvergenceWarning: Liblinear failed to converge, increase the number of iterations.\n",
      "  warnings.warn(\"Liblinear failed to converge, increase \"\n",
      "/home/marco/anaconda3/lib/python3.8/site-packages/sklearn/svm/_base.py:976: ConvergenceWarning: Liblinear failed to converge, increase the number of iterations.\n",
      "  warnings.warn(\"Liblinear failed to converge, increase \"\n",
      "/home/marco/anaconda3/lib/python3.8/site-packages/sklearn/svm/_base.py:976: ConvergenceWarning: Liblinear failed to converge, increase the number of iterations.\n",
      "  warnings.warn(\"Liblinear failed to converge, increase \"\n",
      "/home/marco/anaconda3/lib/python3.8/site-packages/sklearn/svm/_base.py:976: ConvergenceWarning: Liblinear failed to converge, increase the number of iterations.\n",
      "  warnings.warn(\"Liblinear failed to converge, increase \"\n",
      "/home/marco/anaconda3/lib/python3.8/site-packages/sklearn/svm/_base.py:976: ConvergenceWarning: Liblinear failed to converge, increase the number of iterations.\n",
      "  warnings.warn(\"Liblinear failed to converge, increase \"\n",
      "/home/marco/anaconda3/lib/python3.8/site-packages/sklearn/svm/_base.py:976: ConvergenceWarning: Liblinear failed to converge, increase the number of iterations.\n",
      "  warnings.warn(\"Liblinear failed to converge, increase \"\n"
     ]
    },
    {
     "name": "stdout",
     "output_type": "stream",
     "text": [
      "time up\n",
      "The process took: 0hour:0min:37sec\n",
      "Clf:  LinearSVC\n",
      "Jaccard score: 0.2917360901426217\n",
      "Hamming loss: 0.12293912492073557\n",
      "Accuracy score: 0.09583789704271632\n",
      "---\n",
      "---\n",
      "fit running....\n",
      "time up\n",
      "The process took: 0hour:0min:10sec\n",
      "Clf:  MultinomialNB\n",
      "Jaccard score: 0.3804237624165627\n",
      "Hamming loss: 0.12825704732806825\n",
      "Accuracy score: 0.10651697699890471\n",
      "---\n",
      "---\n",
      "fit running....\n",
      "time up\n",
      "The process took: 0hour:3min:47sec\n",
      "Clf:  Perceptron\n",
      "Jaccard score: 0.30143141351556996\n",
      "Hamming loss: 0.11440739032685766\n",
      "Accuracy score: 0.11527929901423878\n",
      "---\n",
      "---\n"
     ]
    }
   ],
   "source": [
    "for classifier in classifiers_list:\n",
    "    process_time_starts()\n",
    "    \n",
    "    clf = MultiOutputClassifier(classifier) # check sklearn\n",
    "    print(\"fit running....\")\n",
    "    clf.fit(X_tfidf_train, y_train_bin)\n",
    "    y_pred = clf.predict(X_tfidf_val)\n",
    "    classifiers_jaccard_scores.append(jaccard_score(y_val_bin, y_pred, average='weighted'))\n",
    "    classifiers_hamming_losses.append((hamming_loss(y_pred, y_val_bin)))\n",
    "    classifiers_accuracy_scores.append(accuracy_score(y_val_bin, y_pred))\n",
    "\n",
    "    \n",
    "    print(\"time up\")\n",
    "    time_elapsed()\n",
    "    print_score(y_pred, classifier)\n",
    "    \n",
    "    print(\"---\")"
   ]
  },
  {
   "cell_type": "code",
   "execution_count": 86,
   "metadata": {},
   "outputs": [
    {
     "name": "stdout",
     "output_type": "stream",
     "text": [
      "The best classifier among those tested is:  Logistic Regression\n"
     ]
    },
    {
     "data": {
      "text/html": [
       "<div>\n",
       "<style scoped>\n",
       "    .dataframe tbody tr th:only-of-type {\n",
       "        vertical-align: middle;\n",
       "    }\n",
       "\n",
       "    .dataframe tbody tr th {\n",
       "        vertical-align: top;\n",
       "    }\n",
       "\n",
       "    .dataframe thead th {\n",
       "        text-align: right;\n",
       "    }\n",
       "</style>\n",
       "<table border=\"1\" class=\"dataframe\">\n",
       "  <thead>\n",
       "    <tr style=\"text-align: right;\">\n",
       "      <th></th>\n",
       "      <th>classifiers</th>\n",
       "      <th>Jaccard_score</th>\n",
       "      <th>Hamming_loss</th>\n",
       "      <th>Accuracy</th>\n",
       "    </tr>\n",
       "  </thead>\n",
       "  <tbody>\n",
       "    <tr>\n",
       "      <th>0</th>\n",
       "      <td>Dummy Classifier</td>\n",
       "      <td>0.000000</td>\n",
       "      <td>0.098814</td>\n",
       "      <td>0.000000</td>\n",
       "    </tr>\n",
       "    <tr>\n",
       "      <th>1</th>\n",
       "      <td>Logistic Regression</td>\n",
       "      <td>0.307295</td>\n",
       "      <td>0.109342</td>\n",
       "      <td>0.126643</td>\n",
       "    </tr>\n",
       "    <tr>\n",
       "      <th>5</th>\n",
       "      <td>Perceptron</td>\n",
       "      <td>0.301431</td>\n",
       "      <td>0.114407</td>\n",
       "      <td>0.115279</td>\n",
       "    </tr>\n",
       "    <tr>\n",
       "      <th>2</th>\n",
       "      <td>PassiveAggressiveClassifier</td>\n",
       "      <td>0.300935</td>\n",
       "      <td>0.116562</td>\n",
       "      <td>0.109803</td>\n",
       "    </tr>\n",
       "    <tr>\n",
       "      <th>3</th>\n",
       "      <td>LinearSVC</td>\n",
       "      <td>0.291736</td>\n",
       "      <td>0.122939</td>\n",
       "      <td>0.095838</td>\n",
       "    </tr>\n",
       "    <tr>\n",
       "      <th>4</th>\n",
       "      <td>Multinomial Naive Bayes</td>\n",
       "      <td>0.380424</td>\n",
       "      <td>0.128257</td>\n",
       "      <td>0.106517</td>\n",
       "    </tr>\n",
       "  </tbody>\n",
       "</table>\n",
       "</div>"
      ],
      "text/plain": [
       "                   classifiers  Jaccard_score  Hamming_loss  Accuracy\n",
       "0             Dummy Classifier       0.000000      0.098814  0.000000\n",
       "1          Logistic Regression       0.307295      0.109342  0.126643\n",
       "5                   Perceptron       0.301431      0.114407  0.115279\n",
       "2  PassiveAggressiveClassifier       0.300935      0.116562  0.109803\n",
       "3                    LinearSVC       0.291736      0.122939  0.095838\n",
       "4      Multinomial Naive Bayes       0.380424      0.128257  0.106517"
      ]
     },
     "execution_count": 86,
     "metadata": {},
     "output_type": "execute_result"
    }
   ],
   "source": [
    "#lr = LogisticRegression()\n",
    "#clf = OneVsRestClassifier(lr)\n",
    "\n",
    "classifiers_list =['Dummy Classifier', 'Logistic Regression', 'PassiveAggressiveClassifier','LinearSVC', 'Multinomial Naive Bayes', 'Perceptron']\n",
    "\n",
    "df_clf = pd.DataFrame(classifiers_list, columns = ['classifiers'])\n",
    "df_clf['Jaccard_score'] = classifiers_jaccard_scores\n",
    "df_clf['Hamming_loss'] = classifiers_hamming_losses\n",
    "df_clf['Accuracy'] = classifiers_accuracy_scores\n",
    "df_clf = df_clf.sort_values(by=['Hamming_loss'])\n",
    "best_classifier = df_clf.iloc[df_clf['Accuracy'].argmax(), 0]\n",
    "print('The best classifier among those tested is: ',best_classifier)\n",
    "df_clf"
   ]
  },
  {
   "cell_type": "code",
   "execution_count": 87,
   "metadata": {},
   "outputs": [
    {
     "data": {
      "text/plain": [
       "[]"
      ]
     },
     "execution_count": 87,
     "metadata": {},
     "output_type": "execute_result"
    },
    {
     "data": {
      "image/png": "[encoded data removed]",
      "text/plain": [
       "<Figure size 432x864 with 2 Axes>"
      ]
     },
     "metadata": {
      "needs_background": "light"
     },
     "output_type": "display_data"
    }
   ],
   "source": [
    "plt.figure(figsize=(6, 12))\n",
    "\n",
    "plt.subplot(211)\n",
    "plt.bar(df_clf['classifiers'],df_clf['Jaccard_score'], color = 'k')\n",
    "plt.ylabel('Jaccard_score',fontsize = 14)\n",
    "plt.ylim((0.1, 0.6))   # set the ylim to bottom, top\n",
    "plt.xticks(df_clf['classifiers'],\" \")\n",
    "\n",
    "plt.subplot(212)\n",
    "\n",
    "plt.bar(df_clf['classifiers'],df_clf['Accuracy'], color = 'r') \n",
    "plt.ylabel('Accuracy',fontsize = 14)\n",
    "#plt.ylim((0.1, 0.3))\n",
    "plt.xlabel('Classifier', fontsize = 14)\n",
    "plt.xticks(rotation=90)\n",
    "plt.plot()\n",
    "# fit model on train data\n",
    "#clf.fit(xtrain_tfidf,y)"
   ]
  },
  {
   "cell_type": "markdown",
   "metadata": {},
   "source": [
    "## 5.The prediction"
   ]
  },
  {
   "cell_type": "code",
   "execution_count": null,
   "metadata": {},
   "outputs": [],
   "source": [
    "y_pred = clf.predict(tfidf_vectorizer.transform(X_test))"
   ]
  },
  {
   "cell_type": "code",
   "execution_count": null,
   "metadata": {},
   "outputs": [],
   "source": [
    "y_pred.shape"
   ]
  },
  {
   "cell_type": "code",
   "execution_count": null,
   "metadata": {},
   "outputs": [],
   "source": [
    "print(len(multilabel_binarizer.inverse_transform(y_pred)))\n",
    "pred_gen = multilabel_binarizer.inverse_transform(y_pred)"
   ]
  },
  {
   "cell_type": "code",
   "execution_count": null,
   "metadata": {},
   "outputs": [],
   "source": [
    "submission = pd.DataFrame(data= {'movie_id':x_test.movie_id,'predicted_genres':pred_gen})"
   ]
  },
  {
   "cell_type": "code",
   "execution_count": null,
   "metadata": {},
   "outputs": [],
   "source": [
    "for i in range(0,len(submission.predicted_genres)):\n",
    "   submission.predicted_genres[i] =(','.join((submission.predicted_genres[i])))"
   ]
  },
  {
   "cell_type": "code",
   "execution_count": null,
   "metadata": {},
   "outputs": [],
   "source": [
    "for i in range(0,len(submission.predicted_genres)):\n",
    "    submission.predicted_genres[i] = submission.predicted_genres[i].replace(\",\",\" \")"
   ]
  },
  {
   "cell_type": "code",
   "execution_count": null,
   "metadata": {},
   "outputs": [],
   "source": [
    "submission.to_csv('submission.csv',index=False)"
   ]
  },
  {
   "cell_type": "markdown",
   "metadata": {},
   "source": [
    "the model does not predict the genres for all the movies, maybe should be a good idea implement a multiclass model instead of multilabel, another option could be change the model, using something else instead of Onevstherest classifier."
   ]
  }
 ],
 "metadata": {
  "kernelspec": {
   "display_name": "Python 3",
   "language": "python",
   "name": "python3"
  },
  "language_info": {
   "codemirror_mode": {
    "name": "ipython",
    "version": 3
   },
   "file_extension": ".py",
   "mimetype": "text/x-python",
   "name": "python",
   "nbconvert_exporter": "python",
   "pygments_lexer": "ipython3",
   "version": "3.8.3"
  }
 },
 "nbformat": 4,
 "nbformat_minor": 4
}
