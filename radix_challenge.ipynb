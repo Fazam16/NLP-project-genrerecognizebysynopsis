{
  "cells": [
    {
      "cell_type": "markdown",
      "metadata": {
        "colab_type": "text",
        "id": "view-in-github"
      },
      "source": [
        "<a href=\"https://colab.research.google.com/github/opsabarsec/NLP--film-genres-from-synopsis/blob/main/radix_challenge.ipynb\" target=\"_parent\"><img src=\"https://colab.research.google.com/assets/colab-badge.svg\" alt=\"Open In Colab\"/></a>"
      ]
    },
    {
      "cell_type": "markdown",
      "metadata": {
        "id": "d6kB19cOKYjr"
      },
      "source": [
        "# Automatic assignment of genres from movie synopsis using supervised machine learning"
      ]
    },
    {
      "cell_type": "markdown",
      "metadata": {
        "id": "rEXqk7gVKYjz"
      },
      "source": [
        "## 1. Import libraries and load data"
      ]
    },
    {
      "cell_type": "code",
      "execution_count": 1,
      "metadata": {
        "_cell_guid": "b1076dfc-b9ad-4769-8c92-a6c4dae69d19",
        "_uuid": "8f2839f25d086af736a60e9eeb907d3b93b6e0e5",
        "id": "ca4CabSbKYj1"
      },
      "outputs": [],
      "source": [
        "#packages to load\n",
        "import numpy as np # linear algebra\n",
        "import pandas as pd # data processing, CSV file I/O (e.g. pd.read_csv)\n",
        "\n",
        "# NLP libraries\n",
        "\n",
        "from textblob import TextBlob, Word\n",
        "import nltk\n",
        "import re\n",
        "import csv\n",
        "from sklearn.preprocessing import MultiLabelBinarizer\n",
        "from sklearn.model_selection import train_test_split\n",
        "\n",
        "# Deep learning libraries\n",
        "\n",
        "from keras.models import Model\n",
        "from keras_preprocessing.sequence import pad_sequences\n",
        "from keras.layers import Dense, Embedding, Input, LSTM, GlobalMaxPool1D, Dropout\n",
        "from keras.preprocessing.text import Tokenizer\n",
        "from keras.models import Sequential\n",
        "from sklearn.metrics import classification_report, precision_score, recall_score, f1_score, accuracy_score"
      ]
    },
    {
      "cell_type": "code",
      "execution_count": 2,
      "metadata": {
        "_cell_guid": "79c7e3d0-c299-4dcb-8224-4455121ee9b0",
        "_uuid": "d629ff2d2480ee46fbb7e2d37f6b5fab8052498a",
        "id": "7bBgajuqKYj2"
      },
      "outputs": [],
      "source": [
        "# load data\n",
        "train= pd.read_csv('./data/train.csv')\n",
        "test=pd.read_csv('./data/test.csv')"
      ]
    },
    {
      "cell_type": "markdown",
      "metadata": {
        "id": "LhjxQG-XKYj3"
      },
      "source": [
        "## 2. DATA PREPARATION "
      ]
    },
    {
      "cell_type": "code",
      "execution_count": 3,
      "metadata": {
        "id": "6VR0giutKYj4",
        "outputId": "eb98338a-d354-4362-8ad3-18ab6984eeaf"
      },
      "outputs": [
        {
          "name": "stderr",
          "output_type": "stream",
          "text": [
            "[nltk_data] Downloading package stopwords to\n",
            "[nltk_data]     C:\\Users\\ASUS\\AppData\\Roaming\\nltk_data...\n",
            "[nltk_data]   Package stopwords is already up-to-date!\n"
          ]
        }
      ],
      "source": [
        "nltk.download('stopwords')\n",
        "\n",
        "from nltk.corpus import stopwords\n",
        "stop_words = set(stopwords.words('english'))"
      ]
    },
    {
      "cell_type": "code",
      "execution_count": 4,
      "metadata": {
        "id": "gyCVQY5vKYj6"
      },
      "outputs": [],
      "source": [
        "# function for text cleaning \n",
        "def preprocess_text(text): #funsi yang berguna untuk  melakukan cleaning terhadap dataset\n",
        "    text = text.lower() # lowercase\n",
        "    text = re.sub(r\"what's\", \"what is \", text)\n",
        "    text = re.sub(r\"\\'s\", \" \", text)\n",
        "    text = re.sub(r\"\\'ve\", \" have \", text)\n",
        "    text = re.sub(r\"can't\", \"can not \", text)\n",
        "    text = re.sub(r\"n't\", \" not \", text)\n",
        "    text = re.sub(r\"i'm\", \"i am \", text)\n",
        "    text = re.sub(r\"\\'re\", \" are \", text)\n",
        "    text = re.sub(r\"\\'d\", \" would \", text)\n",
        "    text = re.sub(r\"\\'ll\", \" will \", text)\n",
        "    text = re.sub(r\"\\'scuse\", \" excuse \", text)\n",
        "    text = re.sub(r\"\\'\\n\", \" \", text) #line breaks\n",
        "    #text = re.sub(r\"\\'\\xa0\", \" \", text) # xa0 Unicode representing spaces\n",
        "    #text = re.sub('\\s+', ' ', text) # one or more whitespace characters\n",
        "    text = text.strip(' ') # spaces\n",
        "    # remove backslash-apostrophe \n",
        "    text = re.sub(\"\\'\", \"\", text) \n",
        "    # remove everything except alphabets \n",
        "    text = re.sub(\"[^a-zA-Z]\",\" \",text) \n",
        "    #lemmatize and remove stopwords\n",
        "    no_stopword_text = [w for w in text.split() if not w in stop_words]\n",
        "    text = ' '.join(no_stopword_text) \n",
        "        \n",
        "    return text\n",
        "\n",
        "train['clean_plot'] = train['synopsis'].apply(lambda x: preprocess_text(x))\n",
        "test['clean_plot'] = test['synopsis'].apply(lambda x: preprocess_text(x))"
      ]
    },
    {
      "cell_type": "code",
      "execution_count": 5,
      "metadata": {
        "id": "bVZgxGSvKYj7"
      },
      "outputs": [],
      "source": [
        "def lemma(text): # Lemmatization of cleaned body (avoid redundancy and improve the accuracy of analysis.)\n",
        "        sent = TextBlob(text)\n",
        "        tag_dict = {\"J\": 'a', \n",
        "                    \"N\": 'n', \n",
        "                    \"V\": 'v', \n",
        "                    \"R\": 'r'}\n",
        "        words_and_tags = [(w, tag_dict.get(pos[0], 'n')) for w, pos in sent.tags]    \n",
        "        lemmatized_list = [wd.lemmatize(tag) for wd, tag in words_and_tags]\n",
        "        seperator=' '\n",
        "        lemma = seperator.join(lemmatized_list) \n",
        "        return lemma"
      ]
    },
    {
      "cell_type": "code",
      "execution_count": 6,
      "metadata": {
        "id": "1WH56R_3KYj8"
      },
      "outputs": [],
      "source": [
        "train['lemma'] = train['clean_plot'].apply(lambda x: lemma(x))\n",
        "test['lemma'] = test['clean_plot'].apply(lambda x: lemma(x))"
      ]
    },
    {
      "cell_type": "markdown",
      "metadata": {
        "id": "xuQ9oPsdKYj8"
      },
      "source": [
        "## 3. Variables preparation "
      ]
    },
    {
      "cell_type": "code",
      "execution_count": 7,
      "metadata": {
        "id": "Gr7fpzedKYj-"
      },
      "outputs": [],
      "source": [
        "\n",
        "X_train = train['lemma']\n",
        "X_test = test['lemma']    "
      ]
    },
    {
      "cell_type": "markdown",
      "metadata": {
        "id": "D4CZNNpAKYj_"
      },
      "source": [
        "### 3.1 Target variable one hot encoding"
      ]
    },
    {
      "cell_type": "code",
      "execution_count": 8,
      "metadata": {
        "id": "dWWX0lWkKYj_"
      },
      "outputs": [],
      "source": [
        "#apply the onehot transformation for the genres vector\n",
        "y_train = train['genres']\n",
        "one_hot = MultiLabelBinarizer() # encoder for the  tags \n",
        "y_onehot = one_hot.fit_transform(y_train.str.split(' ')) \n",
        "y_bin = pd.DataFrame(y_onehot, columns=one_hot.classes_ ) # transform it to Pandas object"
      ]
    },
    {
      "cell_type": "code",
      "execution_count": 9,
      "metadata": {
        "id": "GXnL0mu5KYkA"
      },
      "outputs": [],
      "source": [
        "# tokenize\n",
        "max_features = 5000\n",
        "tokenizer = Tokenizer(num_words=max_features)\n",
        "tokenizer.fit_on_texts(list(X_train))\n",
        "list_tokenized_train = tokenizer.texts_to_sequences(X_train)\n",
        "list_tokenized_test = tokenizer.texts_to_sequences(X_test)\n",
        "vocab_size = len(tokenizer.word_index) + 1 # Tambahan vocab_size"
      ]
    },
    {
      "cell_type": "code",
      "execution_count": 10,
      "metadata": {
        "id": "O2DFBo8tKYkA"
      },
      "outputs": [],
      "source": [
        "#fix max comment lenght \n",
        "maxlen = 200 # Diubah dari 100 jadi 500\n",
        "X_t = pad_sequences(list_tokenized_train, maxlen=maxlen, padding='post') # Ditambah padding post\n",
        "X_te = pad_sequences(list_tokenized_test, maxlen=maxlen, padding='post') # Ditambah padding post"
      ]
    },
    {
      "cell_type": "markdown",
      "metadata": {
        "id": "dIJrNQ9dKYkA"
      },
      "source": [
        "## 4.The Model"
      ]
    },
    {
      "cell_type": "code",
      "execution_count": 11,
      "metadata": {
        "id": "boheaXGPISCm"
      },
      "outputs": [],
      "source": [
        "#initialize parameters\n",
        "inp = Input(shape=(maxlen, )) #maxlen defined earlier\n",
        "embed_size = 128"
      ]
    },
    {
      "cell_type": "code",
      "execution_count": 12,
      "metadata": {
        "id": "BGz6T6XPKYkB"
      },
      "outputs": [],
      "source": [
        "# Neural network backbone\n",
        "model = Sequential()\n",
        "model.add(Embedding(vocab_size, 64, input_length=maxlen)) \n",
        "model.add(LSTM(64, return_sequences=True,name='lstm_layer'))\n",
        "model.add(GlobalMaxPool1D())\n",
        "model.add(Dropout(0.1))\n",
        "model.add(Dense(50, activation=\"relu\"))\n",
        "model.add(Dense(len(y_bin.columns), activation=\"softmax\"))"
      ]
    },
    {
      "cell_type": "code",
      "execution_count": 13,
      "metadata": {
        "id": "BhHDmhNTKYkB"
      },
      "outputs": [],
      "source": [
        "# build the model\n",
        "\n",
        "model.compile(loss='binary_crossentropy',\n",
        "                  optimizer='adam',\n",
        "                  metrics=['accuracy'])"
      ]
    },
    {
      "cell_type": "code",
      "execution_count": 14,
      "metadata": {
        "id": "MImoilb7KYkB",
        "outputId": "48f5c3fd-6a8a-4c8d-8883-39a4875cb390"
      },
      "outputs": [
        {
          "name": "stdout",
          "output_type": "stream",
          "text": [
            "Epoch 1/10\n",
            "514/514 [==============================] - 119s 223ms/step - loss: 0.2904 - accuracy: 0.2564 - val_loss: 0.2541 - val_accuracy: 0.3201\n",
            "Epoch 2/10\n",
            "514/514 [==============================] - 104s 203ms/step - loss: 0.2400 - accuracy: 0.3560 - val_loss: 0.2357 - val_accuracy: 0.3535\n",
            "Epoch 3/10\n",
            "514/514 [==============================] - 108s 211ms/step - loss: 0.2172 - accuracy: 0.4144 - val_loss: 0.2177 - val_accuracy: 0.4209\n",
            "Epoch 4/10\n",
            "514/514 [==============================] - 147s 285ms/step - loss: 0.1987 - accuracy: 0.4798 - val_loss: 0.2096 - val_accuracy: 0.4737\n",
            "Epoch 5/10\n",
            "514/514 [==============================] - 108s 210ms/step - loss: 0.1861 - accuracy: 0.5236 - val_loss: 0.2080 - val_accuracy: 0.4759\n",
            "Epoch 6/10\n",
            "514/514 [==============================] - 108s 211ms/step - loss: 0.1779 - accuracy: 0.5395 - val_loss: 0.2090 - val_accuracy: 0.4740\n",
            "Epoch 7/10\n",
            "514/514 [==============================] - 102s 199ms/step - loss: 0.1731 - accuracy: 0.5444 - val_loss: 0.2123 - val_accuracy: 0.4633\n",
            "Epoch 8/10\n",
            "514/514 [==============================] - 95s 186ms/step - loss: 0.1667 - accuracy: 0.5572 - val_loss: 0.2146 - val_accuracy: 0.4655\n",
            "Epoch 9/10\n",
            "514/514 [==============================] - 110s 214ms/step - loss: 0.1600 - accuracy: 0.5688 - val_loss: 0.2143 - val_accuracy: 0.4622\n",
            "Epoch 10/10\n",
            "514/514 [==============================] - 109s 211ms/step - loss: 0.1549 - accuracy: 0.5766 - val_loss: 0.2197 - val_accuracy: 0.4496\n"
          ]
        },
        {
          "data": {
            "text/plain": [
              "<keras.callbacks.History at 0x1a4095b5940>"
            ]
          },
          "execution_count": 14,
          "metadata": {},
          "output_type": "execute_result"
        }
      ],
      "source": [
        "from keras.callbacks import ModelCheckpoint, TensorBoard, EarlyStopping\n",
        "tensorboard = TensorBoard(log_dir=\"logs\")\n",
        "early_stopping = EarlyStopping(mode=\"min\", patience=5, restore_best_weights=True)\n",
        "\n",
        "# train the model\n",
        "batch_size = 64 # Diubah dari 16 ke 32\n",
        "epochs = 10 # Diubah dari 3 ke 100\n",
        "model.fit(X_t,y_onehot, batch_size=batch_size, epochs=epochs, validation_split=0.1, callbacks=[tensorboard, early_stopping])\n"
      ]
    },
    {
      "cell_type": "markdown",
      "metadata": {
        "id": "b08G7DVcKYkB"
      },
      "source": [
        "## 5.The prediction"
      ]
    },
    {
      "cell_type": "code",
      "execution_count": 15,
      "metadata": {},
      "outputs": [],
      "source": [
        "filename = f'model-{epochs}-{batch_size}.h5'\n",
        "model.save(filename)"
      ]
    },
    {
      "cell_type": "code",
      "execution_count": 16,
      "metadata": {
        "id": "zNSUxqseKYkC",
        "outputId": "77627d9a-4bcf-4021-ff8b-53dea0daaba0"
      },
      "outputs": [
        {
          "name": "stdout",
          "output_type": "stream",
          "text": [
            "83/83 [==============================] - 4s 45ms/step\n",
            "(5250, 19)\n"
          ]
        }
      ],
      "source": [
        "from keras.models import load_model\n",
        "model = load_model(filename)\n",
        "y_pred = model.predict(X_te, batch_size=batch_size, verbose=1)\n",
        "print(y_pred.shape)"
      ]
    },
    {
      "cell_type": "code",
      "execution_count": 17,
      "metadata": {
        "id": "iv-d9wLIKYkC",
        "outputId": "7778c371-89ba-4740-8de7-8ea52db24572"
      },
      "outputs": [
        {
          "data": {
            "text/html": [
              "<div>\n",
              "<style scoped>\n",
              "    .dataframe tbody tr th:only-of-type {\n",
              "        vertical-align: middle;\n",
              "    }\n",
              "\n",
              "    .dataframe tbody tr th {\n",
              "        vertical-align: top;\n",
              "    }\n",
              "\n",
              "    .dataframe thead th {\n",
              "        text-align: right;\n",
              "    }\n",
              "</style>\n",
              "<table border=\"1\" class=\"dataframe\">\n",
              "  <thead>\n",
              "    <tr style=\"text-align: right;\">\n",
              "      <th></th>\n",
              "      <th>Action</th>\n",
              "      <th>Adventure</th>\n",
              "      <th>Animation</th>\n",
              "      <th>Children</th>\n",
              "      <th>Comedy</th>\n",
              "      <th>Crime</th>\n",
              "      <th>Documentary</th>\n",
              "      <th>Drama</th>\n",
              "      <th>Fantasy</th>\n",
              "      <th>Film-Noir</th>\n",
              "      <th>Horror</th>\n",
              "      <th>IMAX</th>\n",
              "      <th>Musical</th>\n",
              "      <th>Mystery</th>\n",
              "      <th>Romance</th>\n",
              "      <th>Sci-Fi</th>\n",
              "      <th>Thriller</th>\n",
              "      <th>War</th>\n",
              "      <th>Western</th>\n",
              "    </tr>\n",
              "  </thead>\n",
              "  <tbody>\n",
              "    <tr>\n",
              "      <th>0</th>\n",
              "      <td>0.211077</td>\n",
              "      <td>0.133561</td>\n",
              "      <td>0.047795</td>\n",
              "      <td>0.019449</td>\n",
              "      <td>0.041602</td>\n",
              "      <td>0.002951</td>\n",
              "      <td>0.002324</td>\n",
              "      <td>0.021603</td>\n",
              "      <td>0.049286</td>\n",
              "      <td>1.432115e-04</td>\n",
              "      <td>0.072223</td>\n",
              "      <td>0.005128</td>\n",
              "      <td>0.001460</td>\n",
              "      <td>0.007576</td>\n",
              "      <td>0.004811</td>\n",
              "      <td>0.339617</td>\n",
              "      <td>0.033342</td>\n",
              "      <td>0.001598</td>\n",
              "      <td>0.004452</td>\n",
              "    </tr>\n",
              "    <tr>\n",
              "      <th>1</th>\n",
              "      <td>0.262626</td>\n",
              "      <td>0.083559</td>\n",
              "      <td>0.021862</td>\n",
              "      <td>0.006284</td>\n",
              "      <td>0.020881</td>\n",
              "      <td>0.006270</td>\n",
              "      <td>0.017098</td>\n",
              "      <td>0.074003</td>\n",
              "      <td>0.025360</td>\n",
              "      <td>1.495468e-04</td>\n",
              "      <td>0.051692</td>\n",
              "      <td>0.002842</td>\n",
              "      <td>0.001333</td>\n",
              "      <td>0.010032</td>\n",
              "      <td>0.003333</td>\n",
              "      <td>0.317029</td>\n",
              "      <td>0.085774</td>\n",
              "      <td>0.006564</td>\n",
              "      <td>0.003309</td>\n",
              "    </tr>\n",
              "    <tr>\n",
              "      <th>2</th>\n",
              "      <td>0.000200</td>\n",
              "      <td>0.000073</td>\n",
              "      <td>0.000258</td>\n",
              "      <td>0.000053</td>\n",
              "      <td>0.001117</td>\n",
              "      <td>0.000058</td>\n",
              "      <td>0.987758</td>\n",
              "      <td>0.007289</td>\n",
              "      <td>0.000051</td>\n",
              "      <td>8.898140e-08</td>\n",
              "      <td>0.000091</td>\n",
              "      <td>0.000043</td>\n",
              "      <td>0.001225</td>\n",
              "      <td>0.000034</td>\n",
              "      <td>0.000125</td>\n",
              "      <td>0.000134</td>\n",
              "      <td>0.000103</td>\n",
              "      <td>0.001379</td>\n",
              "      <td>0.000008</td>\n",
              "    </tr>\n",
              "    <tr>\n",
              "      <th>3</th>\n",
              "      <td>0.024230</td>\n",
              "      <td>0.015417</td>\n",
              "      <td>0.015358</td>\n",
              "      <td>0.006250</td>\n",
              "      <td>0.030112</td>\n",
              "      <td>0.001915</td>\n",
              "      <td>0.000272</td>\n",
              "      <td>0.023624</td>\n",
              "      <td>0.033597</td>\n",
              "      <td>9.234443e-05</td>\n",
              "      <td>0.702886</td>\n",
              "      <td>0.000595</td>\n",
              "      <td>0.000709</td>\n",
              "      <td>0.016366</td>\n",
              "      <td>0.003642</td>\n",
              "      <td>0.076614</td>\n",
              "      <td>0.047482</td>\n",
              "      <td>0.000059</td>\n",
              "      <td>0.000780</td>\n",
              "    </tr>\n",
              "    <tr>\n",
              "      <th>4</th>\n",
              "      <td>0.035631</td>\n",
              "      <td>0.002863</td>\n",
              "      <td>0.000097</td>\n",
              "      <td>0.000188</td>\n",
              "      <td>0.029882</td>\n",
              "      <td>0.271074</td>\n",
              "      <td>0.000209</td>\n",
              "      <td>0.219279</td>\n",
              "      <td>0.001514</td>\n",
              "      <td>9.810552e-03</td>\n",
              "      <td>0.024140</td>\n",
              "      <td>0.000100</td>\n",
              "      <td>0.000141</td>\n",
              "      <td>0.073860</td>\n",
              "      <td>0.012481</td>\n",
              "      <td>0.003131</td>\n",
              "      <td>0.309481</td>\n",
              "      <td>0.000497</td>\n",
              "      <td>0.005619</td>\n",
              "    </tr>\n",
              "  </tbody>\n",
              "</table>\n",
              "</div>"
            ],
            "text/plain": [
              "     Action  Adventure  Animation  Children    Comedy     Crime  Documentary  \\\n",
              "0  0.211077   0.133561   0.047795  0.019449  0.041602  0.002951     0.002324   \n",
              "1  0.262626   0.083559   0.021862  0.006284  0.020881  0.006270     0.017098   \n",
              "2  0.000200   0.000073   0.000258  0.000053  0.001117  0.000058     0.987758   \n",
              "3  0.024230   0.015417   0.015358  0.006250  0.030112  0.001915     0.000272   \n",
              "4  0.035631   0.002863   0.000097  0.000188  0.029882  0.271074     0.000209   \n",
              "\n",
              "      Drama   Fantasy     Film-Noir    Horror      IMAX   Musical   Mystery  \\\n",
              "0  0.021603  0.049286  1.432115e-04  0.072223  0.005128  0.001460  0.007576   \n",
              "1  0.074003  0.025360  1.495468e-04  0.051692  0.002842  0.001333  0.010032   \n",
              "2  0.007289  0.000051  8.898140e-08  0.000091  0.000043  0.001225  0.000034   \n",
              "3  0.023624  0.033597  9.234443e-05  0.702886  0.000595  0.000709  0.016366   \n",
              "4  0.219279  0.001514  9.810552e-03  0.024140  0.000100  0.000141  0.073860   \n",
              "\n",
              "    Romance    Sci-Fi  Thriller       War   Western  \n",
              "0  0.004811  0.339617  0.033342  0.001598  0.004452  \n",
              "1  0.003333  0.317029  0.085774  0.006564  0.003309  \n",
              "2  0.000125  0.000134  0.000103  0.001379  0.000008  \n",
              "3  0.003642  0.076614  0.047482  0.000059  0.000780  \n",
              "4  0.012481  0.003131  0.309481  0.000497  0.005619  "
            ]
          },
          "execution_count": 17,
          "metadata": {},
          "output_type": "execute_result"
        }
      ],
      "source": [
        "df_probs_all = pd.DataFrame(y_pred,columns=y_bin.columns)\n",
        "df_probs_all.head()"
      ]
    },
    {
      "cell_type": "code",
      "execution_count": 18,
      "metadata": {
        "id": "9LUEKZY3KYkD"
      },
      "outputs": [],
      "source": [
        "def top_5_predictions(df):\n",
        "    N = 5\n",
        "    cols = df.columns[:-1].tolist()\n",
        "    a = df[cols].to_numpy().argsort()[:, :-N-1:-1]\n",
        "    c = np.array(cols)[a]\n",
        "    d = df[cols].to_numpy()[np.arange(a.shape[0])[:, None], a]\n",
        "    df1 = pd.DataFrame(c).rename(columns=lambda x : f'max_{x+1}_col')\n",
        "\n",
        "    predicted_genres = df1[\"max_1_col\"] + ', ' + df1[\"max_2_col\"]+ ', ' +df1[\"max_3_col\"]+ ', ' + df1[\"max_4_col\"]+ ', '+df1[\"max_5_col\"]\n",
        "    return predicted_genres"
      ]
    },
    {
      "cell_type": "code",
      "execution_count": 19,
      "metadata": {
        "id": "ZeMDdR3yKYkD"
      },
      "outputs": [],
      "source": [
        "pred_gen = top_5_predictions(df_probs_all)"
      ]
    },
    {
      "cell_type": "code",
      "execution_count": 20,
      "metadata": {
        "id": "-gUP_0SUKYkE"
      },
      "outputs": [],
      "source": [
        "submission = pd.DataFrame(data= {'movie_id':test.movie_id,'predicted_genres':pred_gen})"
      ]
    },
    {
      "cell_type": "code",
      "execution_count": 21,
      "metadata": {
        "id": "_CU0dBD6KYkE",
        "outputId": "832acb14-d0e0-48c5-ad61-4b9ac4e271c8"
      },
      "outputs": [
        {
          "data": {
            "text/html": [
              "<div>\n",
              "<style scoped>\n",
              "    .dataframe tbody tr th:only-of-type {\n",
              "        vertical-align: middle;\n",
              "    }\n",
              "\n",
              "    .dataframe tbody tr th {\n",
              "        vertical-align: top;\n",
              "    }\n",
              "\n",
              "    .dataframe thead th {\n",
              "        text-align: right;\n",
              "    }\n",
              "</style>\n",
              "<table border=\"1\" class=\"dataframe\">\n",
              "  <thead>\n",
              "    <tr style=\"text-align: right;\">\n",
              "      <th></th>\n",
              "      <th>movie_id</th>\n",
              "      <th>predicted_genres</th>\n",
              "    </tr>\n",
              "  </thead>\n",
              "  <tbody>\n",
              "    <tr>\n",
              "      <th>0</th>\n",
              "      <td>10827</td>\n",
              "      <td>Sci-Fi, Action, Adventure, Horror, Fantasy</td>\n",
              "    </tr>\n",
              "    <tr>\n",
              "      <th>1</th>\n",
              "      <td>51768</td>\n",
              "      <td>Sci-Fi, Action, Thriller, Adventure, Drama</td>\n",
              "    </tr>\n",
              "    <tr>\n",
              "      <th>2</th>\n",
              "      <td>36064</td>\n",
              "      <td>Documentary, Drama, War, Musical, Comedy</td>\n",
              "    </tr>\n",
              "    <tr>\n",
              "      <th>3</th>\n",
              "      <td>33763</td>\n",
              "      <td>Horror, Sci-Fi, Thriller, Fantasy, Comedy</td>\n",
              "    </tr>\n",
              "    <tr>\n",
              "      <th>4</th>\n",
              "      <td>1146</td>\n",
              "      <td>Thriller, Crime, Drama, Mystery, Action</td>\n",
              "    </tr>\n",
              "  </tbody>\n",
              "</table>\n",
              "</div>"
            ],
            "text/plain": [
              "   movie_id                            predicted_genres\n",
              "0     10827  Sci-Fi, Action, Adventure, Horror, Fantasy\n",
              "1     51768  Sci-Fi, Action, Thriller, Adventure, Drama\n",
              "2     36064    Documentary, Drama, War, Musical, Comedy\n",
              "3     33763   Horror, Sci-Fi, Thriller, Fantasy, Comedy\n",
              "4      1146     Thriller, Crime, Drama, Mystery, Action"
            ]
          },
          "execution_count": 21,
          "metadata": {},
          "output_type": "execute_result"
        }
      ],
      "source": [
        "submission.head()"
      ]
    },
    {
      "cell_type": "code",
      "execution_count": 22,
      "metadata": {
        "id": "1-qDXoryKYkE"
      },
      "outputs": [],
      "source": [
        "submission.to_csv('submission.csv',index=False)"
      ]
    },
    {
      "cell_type": "code",
      "execution_count": 23,
      "metadata": {},
      "outputs": [
        {
          "name": "stdout",
          "output_type": "stream",
          "text": [
            "1/1 [==============================] - 0s 29ms/step\n",
            "(1, 19)\n",
            "The synopsis you entered is :\n",
            " ['']\n",
            "Genres :  0    Drama, Comedy, Adventure, Action, Romance\n",
            "dtype: object\n"
          ]
        }
      ],
      "source": [
        "new_synopsis_input = [input(\"Input the synopsis\")]\n",
        "synopsis = new_synopsis_input\n",
        "new_synopsis_input = tokenizer.texts_to_sequences(new_synopsis_input)\n",
        "new_synopsis_input = pad_sequences(new_synopsis_input, padding='post', maxlen=maxlen)\n",
        "predict = model.predict(new_synopsis_input, batch_size=batch_size, verbose=1)\n",
        "print(predict.shape)\n",
        "\n",
        "result = pd.DataFrame(predict,columns=y_bin.columns)\n",
        "print(\"The synopsis you entered is :\\n\", synopsis)\n",
        "print(\"Genres : \", top_5_predictions(result))"
      ]
    }
  ],
  "metadata": {
    "colab": {
      "include_colab_link": true,
      "name": "radix_challenge.ipynb",
      "provenance": []
    },
    "kernelspec": {
      "display_name": "Python 3",
      "language": "python",
      "name": "python3"
    },
    "language_info": {
      "codemirror_mode": {
        "name": "ipython",
        "version": 3
      },
      "file_extension": ".py",
      "mimetype": "text/x-python",
      "name": "python",
      "nbconvert_exporter": "python",
      "pygments_lexer": "ipython3",
      "version": "3.9.1"
    }
  },
  "nbformat": 4,
  "nbformat_minor": 0
}
