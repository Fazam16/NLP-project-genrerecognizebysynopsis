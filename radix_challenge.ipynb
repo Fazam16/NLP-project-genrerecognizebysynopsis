{
  "cells": [
    {
      "cell_type": "markdown",
      "metadata": {
        "colab_type": "text",
        "id": "view-in-github"
      },
      "source": [
        "<a href=\"https://colab.research.google.com/github/opsabarsec/NLP--film-genres-from-synopsis/blob/main/radix_challenge.ipynb\" target=\"_parent\"><img src=\"https://colab.research.google.com/assets/colab-badge.svg\" alt=\"Open In Colab\"/></a>"
      ]
    },
    {
      "cell_type": "markdown",
      "metadata": {
        "id": "d6kB19cOKYjr"
      },
      "source": [
        "# Automatic assignment of genres from movie synopsis using supervised machine learning"
      ]
    },
    {
      "cell_type": "markdown",
      "metadata": {
        "id": "rEXqk7gVKYjz"
      },
      "source": [
        "## 1. Import libraries and load data"
      ]
    },
    {
      "cell_type": "code",
      "execution_count": 24,
      "metadata": {
        "_cell_guid": "b1076dfc-b9ad-4769-8c92-a6c4dae69d19",
        "_uuid": "8f2839f25d086af736a60e9eeb907d3b93b6e0e5",
        "id": "ca4CabSbKYj1"
      },
      "outputs": [],
      "source": [
        "#packages to load\n",
        "import numpy as np # linear algebra\n",
        "import pandas as pd # data processing, CSV file I/O (e.g. pd.read_csv)\n",
        "\n",
        "# NLP libraries\n",
        "\n",
        "from textblob import TextBlob, Word\n",
        "import nltk\n",
        "import re\n",
        "import csv\n",
        "from sklearn.preprocessing import MultiLabelBinarizer\n",
        "from sklearn.model_selection import train_test_split\n",
        "\n",
        "# Deep learning libraries\n",
        "\n",
        "from keras.models import Model\n",
        "from keras_preprocessing.sequence import pad_sequences\n",
        "from keras.layers import Dense, Embedding, Input, LSTM, GlobalMaxPool1D, Dropout\n",
        "from keras.preprocessing.text import Tokenizer\n",
        "from keras.models import Sequential\n",
        "from sklearn.metrics import classification_report, precision_score, recall_score, f1_score, accuracy_score"
      ]
    },
    {
      "cell_type": "code",
      "execution_count": 25,
      "metadata": {
        "_cell_guid": "79c7e3d0-c299-4dcb-8224-4455121ee9b0",
        "_uuid": "d629ff2d2480ee46fbb7e2d37f6b5fab8052498a",
        "id": "7bBgajuqKYj2"
      },
      "outputs": [],
      "source": [
        "# load data\n",
        "train= pd.read_csv('./data/train.csv')\n",
        "test=pd.read_csv('./data/test.csv')"
      ]
    },
    {
      "cell_type": "markdown",
      "metadata": {
        "id": "LhjxQG-XKYj3"
      },
      "source": [
        "## 2. DATA PREPARATION "
      ]
    },
    {
      "cell_type": "code",
      "execution_count": 26,
      "metadata": {
        "id": "6VR0giutKYj4",
        "outputId": "eb98338a-d354-4362-8ad3-18ab6984eeaf"
      },
      "outputs": [
        {
          "name": "stderr",
          "output_type": "stream",
          "text": [
            "[nltk_data] Downloading package stopwords to\n",
            "[nltk_data]     C:\\Users\\ASUS\\AppData\\Roaming\\nltk_data...\n",
            "[nltk_data]   Package stopwords is already up-to-date!\n"
          ]
        }
      ],
      "source": [
        "nltk.download('stopwords')\n",
        "\n",
        "from nltk.corpus import stopwords\n",
        "stop_words = set(stopwords.words('english'))"
      ]
    },
    {
      "cell_type": "code",
      "execution_count": 27,
      "metadata": {
        "id": "gyCVQY5vKYj6"
      },
      "outputs": [],
      "source": [
        "# function for text cleaning \n",
        "def preprocess_text(text): #funsi yang berguna untuk  melakukan cleaning terhadap dataset\n",
        "    text = text.lower() # lowercase\n",
        "    text = re.sub(r\"what's\", \"what is \", text)\n",
        "    text = re.sub(r\"\\'s\", \" \", text)\n",
        "    text = re.sub(r\"\\'ve\", \" have \", text)\n",
        "    text = re.sub(r\"can't\", \"can not \", text)\n",
        "    text = re.sub(r\"n't\", \" not \", text)\n",
        "    text = re.sub(r\"i'm\", \"i am \", text)\n",
        "    text = re.sub(r\"\\'re\", \" are \", text)\n",
        "    text = re.sub(r\"\\'d\", \" would \", text)\n",
        "    text = re.sub(r\"\\'ll\", \" will \", text)\n",
        "    text = re.sub(r\"\\'scuse\", \" excuse \", text)\n",
        "    text = re.sub(r\"\\'\\n\", \" \", text) #line breaks\n",
        "    #text = re.sub(r\"\\'\\xa0\", \" \", text) # xa0 Unicode representing spaces\n",
        "    #text = re.sub('\\s+', ' ', text) # one or more whitespace characters\n",
        "    text = text.strip(' ') # spaces\n",
        "    # remove backslash-apostrophe \n",
        "    text = re.sub(\"\\'\", \"\", text) \n",
        "    # remove everything except alphabets \n",
        "    text = re.sub(\"[^a-zA-Z]\",\" \",text) \n",
        "    #lemmatize and remove stopwords\n",
        "    no_stopword_text = [w for w in text.split() if not w in stop_words]\n",
        "    text = ' '.join(no_stopword_text) \n",
        "        \n",
        "    return text\n",
        "\n",
        "train['clean_plot'] = train['synopsis'].apply(lambda x: preprocess_text(x))\n",
        "test['clean_plot'] = test['synopsis'].apply(lambda x: preprocess_text(x))"
      ]
    },
    {
      "cell_type": "code",
      "execution_count": 28,
      "metadata": {
        "id": "bVZgxGSvKYj7"
      },
      "outputs": [],
      "source": [
        "def lemma(text): # Lemmatization of cleaned body (avoid redundancy and improve the accuracy of analysis.)\n",
        "        sent = TextBlob(text)\n",
        "        tag_dict = {\"J\": 'a', \n",
        "                    \"N\": 'n', \n",
        "                    \"V\": 'v', \n",
        "                    \"R\": 'r'}\n",
        "        words_and_tags = [(w, tag_dict.get(pos[0], 'n')) for w, pos in sent.tags]    \n",
        "        lemmatized_list = [wd.lemmatize(tag) for wd, tag in words_and_tags]\n",
        "        seperator=' '\n",
        "        lemma = seperator.join(lemmatized_list) \n",
        "        return lemma"
      ]
    },
    {
      "cell_type": "code",
      "execution_count": 29,
      "metadata": {
        "id": "1WH56R_3KYj8"
      },
      "outputs": [],
      "source": [
        "train['lemma'] = train['clean_plot'].apply(lambda x: lemma(x))\n",
        "test['lemma'] = test['clean_plot'].apply(lambda x: lemma(x))"
      ]
    },
    {
      "cell_type": "markdown",
      "metadata": {
        "id": "xuQ9oPsdKYj8"
      },
      "source": [
        "## 3. Variables preparation "
      ]
    },
    {
      "cell_type": "code",
      "execution_count": 30,
      "metadata": {
        "id": "Gr7fpzedKYj-"
      },
      "outputs": [],
      "source": [
        "\n",
        "X_train = train['lemma']\n",
        "X_test = test['lemma']    "
      ]
    },
    {
      "cell_type": "markdown",
      "metadata": {
        "id": "D4CZNNpAKYj_"
      },
      "source": [
        "### 3.1 Target variable one hot encoding"
      ]
    },
    {
      "cell_type": "code",
      "execution_count": 31,
      "metadata": {
        "id": "dWWX0lWkKYj_"
      },
      "outputs": [],
      "source": [
        "#apply the onehot transformation for the genres vector\n",
        "y_train = train['genres']\n",
        "one_hot = MultiLabelBinarizer() # encoder for the  tags \n",
        "y_onehot = one_hot.fit_transform(y_train.str.split(' ')) \n",
        "y_bin = pd.DataFrame(y_onehot, columns=one_hot.classes_ ) # transform it to Pandas object"
      ]
    },
    {
      "cell_type": "code",
      "execution_count": 32,
      "metadata": {
        "id": "GXnL0mu5KYkA"
      },
      "outputs": [],
      "source": [
        "# tokenize\n",
        "max_features = 6000\n",
        "tokenizer = Tokenizer(num_words=max_features)\n",
        "tokenizer.fit_on_texts(list(X_train))\n",
        "list_tokenized_train = tokenizer.texts_to_sequences(X_train)\n",
        "list_tokenized_test = tokenizer.texts_to_sequences(X_test)\n",
        "vocab_size = len(tokenizer.word_index) + 1 # Tambahan vocab_size"
      ]
    },
    {
      "cell_type": "code",
      "execution_count": 33,
      "metadata": {
        "id": "O2DFBo8tKYkA"
      },
      "outputs": [],
      "source": [
        "#fix max comment lenght \n",
        "maxlen = 300 # Diubah dari 100 jadi 500\n",
        "X_t = pad_sequences(list_tokenized_train, maxlen=maxlen, padding='post') # Ditambah padding post\n",
        "X_te = pad_sequences(list_tokenized_test, maxlen=maxlen, padding='post') # Ditambah padding post"
      ]
    },
    {
      "cell_type": "markdown",
      "metadata": {
        "id": "dIJrNQ9dKYkA"
      },
      "source": [
        "## 4.The Model"
      ]
    },
    {
      "cell_type": "code",
      "execution_count": 34,
      "metadata": {
        "id": "boheaXGPISCm"
      },
      "outputs": [],
      "source": [
        "#initialize parameters\n",
        "inp = Input(shape=(maxlen, )) #maxlen defined earlier\n",
        "embed_size = 64"
      ]
    },
    {
      "cell_type": "code",
      "execution_count": 35,
      "metadata": {
        "id": "BGz6T6XPKYkB"
      },
      "outputs": [],
      "source": [
        "# Neural network backbone\n",
        "model = Sequential()\n",
        "model.add(Embedding(vocab_size, 128, input_length=maxlen)) \n",
        "model.add(LSTM(64, return_sequences=True,name='lstm_layer'))\n",
        "model.add(GlobalMaxPool1D())\n",
        "model.add(Dropout(0.5))\n",
        "model.add(Dense(50, activation=\"relu\"))\n",
        "model.add(Dense(len(y_bin.columns), activation=\"softmax\"))"
      ]
    },
    {
      "cell_type": "code",
      "execution_count": 36,
      "metadata": {
        "id": "BhHDmhNTKYkB"
      },
      "outputs": [],
      "source": [
        "# build the model\n",
        "\n",
        "model.compile(loss='binary_crossentropy',\n",
        "                  optimizer='adam',\n",
        "                  metrics=['accuracy'])"
      ]
    },
    {
      "cell_type": "code",
      "execution_count": 37,
      "metadata": {
        "id": "MImoilb7KYkB",
        "outputId": "48f5c3fd-6a8a-4c8d-8883-39a4875cb390"
      },
      "outputs": [
        {
          "name": "stdout",
          "output_type": "stream",
          "text": [
            "Epoch 1/5\n",
            "1515/2055 [=====================>........] - ETA: 2:56 - loss: 0.2719 - accuracy: 0.3105"
          ]
        },
        {
          "ename": "KeyboardInterrupt",
          "evalue": "",
          "output_type": "error",
          "traceback": [
            "\u001b[1;31m---------------------------------------------------------------------------\u001b[0m",
            "\u001b[1;31mKeyboardInterrupt\u001b[0m                         Traceback (most recent call last)",
            "\u001b[1;32md:\\Tugas Kuliah\\Tugas kuliah semester 6\\NLP\\tugas besar\\NLP--film-genres-from-synopsis\\radix_challenge.ipynb Cell 21\u001b[0m in \u001b[0;36m<cell line: 8>\u001b[1;34m()\u001b[0m\n\u001b[0;32m      <a href='vscode-notebook-cell:/d%3A/Tugas%20Kuliah/Tugas%20kuliah%20semester%206/NLP/tugas%20besar/NLP--film-genres-from-synopsis/radix_challenge.ipynb#X26sZmlsZQ%3D%3D?line=5'>6</a>\u001b[0m batch_size \u001b[39m=\u001b[39m \u001b[39m16\u001b[39m \u001b[39m# Diubah dari 16 ke 32\u001b[39;00m\n\u001b[0;32m      <a href='vscode-notebook-cell:/d%3A/Tugas%20Kuliah/Tugas%20kuliah%20semester%206/NLP/tugas%20besar/NLP--film-genres-from-synopsis/radix_challenge.ipynb#X26sZmlsZQ%3D%3D?line=6'>7</a>\u001b[0m epochs \u001b[39m=\u001b[39m \u001b[39m5\u001b[39m \u001b[39m# Diubah dari 3 ke 100\u001b[39;00m\n\u001b[1;32m----> <a href='vscode-notebook-cell:/d%3A/Tugas%20Kuliah/Tugas%20kuliah%20semester%206/NLP/tugas%20besar/NLP--film-genres-from-synopsis/radix_challenge.ipynb#X26sZmlsZQ%3D%3D?line=7'>8</a>\u001b[0m model\u001b[39m.\u001b[39;49mfit(X_t,y_onehot, batch_size\u001b[39m=\u001b[39;49mbatch_size, epochs\u001b[39m=\u001b[39;49mepochs, validation_split\u001b[39m=\u001b[39;49m\u001b[39m0.1\u001b[39;49m, callbacks\u001b[39m=\u001b[39;49m[tensorboard, early_stopping])\n",
            "File \u001b[1;32mc:\\Users\\ASUS\\AppData\\Local\\Programs\\Python\\Python39\\lib\\site-packages\\keras\\utils\\traceback_utils.py:65\u001b[0m, in \u001b[0;36mfilter_traceback.<locals>.error_handler\u001b[1;34m(*args, **kwargs)\u001b[0m\n\u001b[0;32m     63\u001b[0m filtered_tb \u001b[39m=\u001b[39m \u001b[39mNone\u001b[39;00m\n\u001b[0;32m     64\u001b[0m \u001b[39mtry\u001b[39;00m:\n\u001b[1;32m---> 65\u001b[0m     \u001b[39mreturn\u001b[39;00m fn(\u001b[39m*\u001b[39margs, \u001b[39m*\u001b[39m\u001b[39m*\u001b[39mkwargs)\n\u001b[0;32m     66\u001b[0m \u001b[39mexcept\u001b[39;00m \u001b[39mException\u001b[39;00m \u001b[39mas\u001b[39;00m e:\n\u001b[0;32m     67\u001b[0m     filtered_tb \u001b[39m=\u001b[39m _process_traceback_frames(e\u001b[39m.\u001b[39m__traceback__)\n",
            "File \u001b[1;32mc:\\Users\\ASUS\\AppData\\Local\\Programs\\Python\\Python39\\lib\\site-packages\\keras\\engine\\training.py:1656\u001b[0m, in \u001b[0;36mModel.fit\u001b[1;34m(self, x, y, batch_size, epochs, verbose, callbacks, validation_split, validation_data, shuffle, class_weight, sample_weight, initial_epoch, steps_per_epoch, validation_steps, validation_batch_size, validation_freq, max_queue_size, workers, use_multiprocessing)\u001b[0m\n\u001b[0;32m   1654\u001b[0m logs \u001b[39m=\u001b[39m tmp_logs\n\u001b[0;32m   1655\u001b[0m end_step \u001b[39m=\u001b[39m step \u001b[39m+\u001b[39m data_handler\u001b[39m.\u001b[39mstep_increment\n\u001b[1;32m-> 1656\u001b[0m callbacks\u001b[39m.\u001b[39;49mon_train_batch_end(end_step, logs)\n\u001b[0;32m   1657\u001b[0m \u001b[39mif\u001b[39;00m \u001b[39mself\u001b[39m\u001b[39m.\u001b[39mstop_training:\n\u001b[0;32m   1658\u001b[0m     \u001b[39mbreak\u001b[39;00m\n",
            "File \u001b[1;32mc:\\Users\\ASUS\\AppData\\Local\\Programs\\Python\\Python39\\lib\\site-packages\\keras\\callbacks.py:476\u001b[0m, in \u001b[0;36mCallbackList.on_train_batch_end\u001b[1;34m(self, batch, logs)\u001b[0m\n\u001b[0;32m    469\u001b[0m \u001b[39m\u001b[39m\u001b[39m\"\"\"Calls the `on_train_batch_end` methods of its callbacks.\u001b[39;00m\n\u001b[0;32m    470\u001b[0m \n\u001b[0;32m    471\u001b[0m \u001b[39mArgs:\u001b[39;00m\n\u001b[0;32m    472\u001b[0m \u001b[39m    batch: Integer, index of batch within the current epoch.\u001b[39;00m\n\u001b[0;32m    473\u001b[0m \u001b[39m    logs: Dict. Aggregated metric results up until this batch.\u001b[39;00m\n\u001b[0;32m    474\u001b[0m \u001b[39m\"\"\"\u001b[39;00m\n\u001b[0;32m    475\u001b[0m \u001b[39mif\u001b[39;00m \u001b[39mself\u001b[39m\u001b[39m.\u001b[39m_should_call_train_batch_hooks:\n\u001b[1;32m--> 476\u001b[0m     \u001b[39mself\u001b[39;49m\u001b[39m.\u001b[39;49m_call_batch_hook(ModeKeys\u001b[39m.\u001b[39;49mTRAIN, \u001b[39m\"\u001b[39;49m\u001b[39mend\u001b[39;49m\u001b[39m\"\u001b[39;49m, batch, logs\u001b[39m=\u001b[39;49mlogs)\n",
            "File \u001b[1;32mc:\\Users\\ASUS\\AppData\\Local\\Programs\\Python\\Python39\\lib\\site-packages\\keras\\callbacks.py:323\u001b[0m, in \u001b[0;36mCallbackList._call_batch_hook\u001b[1;34m(self, mode, hook, batch, logs)\u001b[0m\n\u001b[0;32m    321\u001b[0m     \u001b[39mself\u001b[39m\u001b[39m.\u001b[39m_call_batch_begin_hook(mode, batch, logs)\n\u001b[0;32m    322\u001b[0m \u001b[39melif\u001b[39;00m hook \u001b[39m==\u001b[39m \u001b[39m\"\u001b[39m\u001b[39mend\u001b[39m\u001b[39m\"\u001b[39m:\n\u001b[1;32m--> 323\u001b[0m     \u001b[39mself\u001b[39;49m\u001b[39m.\u001b[39;49m_call_batch_end_hook(mode, batch, logs)\n\u001b[0;32m    324\u001b[0m \u001b[39melse\u001b[39;00m:\n\u001b[0;32m    325\u001b[0m     \u001b[39mraise\u001b[39;00m \u001b[39mValueError\u001b[39;00m(\n\u001b[0;32m    326\u001b[0m         \u001b[39mf\u001b[39m\u001b[39m\"\u001b[39m\u001b[39mUnrecognized hook: \u001b[39m\u001b[39m{\u001b[39;00mhook\u001b[39m}\u001b[39;00m\u001b[39m. \u001b[39m\u001b[39m\"\u001b[39m\n\u001b[0;32m    327\u001b[0m         \u001b[39m'\u001b[39m\u001b[39mExpected values are [\u001b[39m\u001b[39m\"\u001b[39m\u001b[39mbegin\u001b[39m\u001b[39m\"\u001b[39m\u001b[39m, \u001b[39m\u001b[39m\"\u001b[39m\u001b[39mend\u001b[39m\u001b[39m\"\u001b[39m\u001b[39m]\u001b[39m\u001b[39m'\u001b[39m\n\u001b[0;32m    328\u001b[0m     )\n",
            "File \u001b[1;32mc:\\Users\\ASUS\\AppData\\Local\\Programs\\Python\\Python39\\lib\\site-packages\\keras\\callbacks.py:346\u001b[0m, in \u001b[0;36mCallbackList._call_batch_end_hook\u001b[1;34m(self, mode, batch, logs)\u001b[0m\n\u001b[0;32m    343\u001b[0m     batch_time \u001b[39m=\u001b[39m time\u001b[39m.\u001b[39mtime() \u001b[39m-\u001b[39m \u001b[39mself\u001b[39m\u001b[39m.\u001b[39m_batch_start_time\n\u001b[0;32m    344\u001b[0m     \u001b[39mself\u001b[39m\u001b[39m.\u001b[39m_batch_times\u001b[39m.\u001b[39mappend(batch_time)\n\u001b[1;32m--> 346\u001b[0m \u001b[39mself\u001b[39;49m\u001b[39m.\u001b[39;49m_call_batch_hook_helper(hook_name, batch, logs)\n\u001b[0;32m    348\u001b[0m \u001b[39mif\u001b[39;00m \u001b[39mlen\u001b[39m(\u001b[39mself\u001b[39m\u001b[39m.\u001b[39m_batch_times) \u001b[39m>\u001b[39m\u001b[39m=\u001b[39m \u001b[39mself\u001b[39m\u001b[39m.\u001b[39m_num_batches_for_timing_check:\n\u001b[0;32m    349\u001b[0m     end_hook_name \u001b[39m=\u001b[39m hook_name\n",
            "File \u001b[1;32mc:\\Users\\ASUS\\AppData\\Local\\Programs\\Python\\Python39\\lib\\site-packages\\keras\\callbacks.py:394\u001b[0m, in \u001b[0;36mCallbackList._call_batch_hook_helper\u001b[1;34m(self, hook_name, batch, logs)\u001b[0m\n\u001b[0;32m    392\u001b[0m \u001b[39mfor\u001b[39;00m callback \u001b[39min\u001b[39;00m \u001b[39mself\u001b[39m\u001b[39m.\u001b[39mcallbacks:\n\u001b[0;32m    393\u001b[0m     hook \u001b[39m=\u001b[39m \u001b[39mgetattr\u001b[39m(callback, hook_name)\n\u001b[1;32m--> 394\u001b[0m     hook(batch, logs)\n\u001b[0;32m    396\u001b[0m \u001b[39mif\u001b[39;00m \u001b[39mself\u001b[39m\u001b[39m.\u001b[39m_check_timing:\n\u001b[0;32m    397\u001b[0m     \u001b[39mif\u001b[39;00m hook_name \u001b[39mnot\u001b[39;00m \u001b[39min\u001b[39;00m \u001b[39mself\u001b[39m\u001b[39m.\u001b[39m_hook_times:\n",
            "File \u001b[1;32mc:\\Users\\ASUS\\AppData\\Local\\Programs\\Python\\Python39\\lib\\site-packages\\keras\\callbacks.py:1094\u001b[0m, in \u001b[0;36mProgbarLogger.on_train_batch_end\u001b[1;34m(self, batch, logs)\u001b[0m\n\u001b[0;32m   1093\u001b[0m \u001b[39mdef\u001b[39;00m \u001b[39mon_train_batch_end\u001b[39m(\u001b[39mself\u001b[39m, batch, logs\u001b[39m=\u001b[39m\u001b[39mNone\u001b[39;00m):\n\u001b[1;32m-> 1094\u001b[0m     \u001b[39mself\u001b[39;49m\u001b[39m.\u001b[39;49m_batch_update_progbar(batch, logs)\n",
            "File \u001b[1;32mc:\\Users\\ASUS\\AppData\\Local\\Programs\\Python\\Python39\\lib\\site-packages\\keras\\callbacks.py:1170\u001b[0m, in \u001b[0;36mProgbarLogger._batch_update_progbar\u001b[1;34m(self, batch, logs)\u001b[0m\n\u001b[0;32m   1166\u001b[0m     \u001b[39mself\u001b[39m\u001b[39m.\u001b[39mseen \u001b[39m+\u001b[39m\u001b[39m=\u001b[39m add_seen\n\u001b[0;32m   1168\u001b[0m \u001b[39mif\u001b[39;00m \u001b[39mself\u001b[39m\u001b[39m.\u001b[39mverbose \u001b[39m==\u001b[39m \u001b[39m1\u001b[39m:\n\u001b[0;32m   1169\u001b[0m     \u001b[39m# Only block async when verbose = 1.\u001b[39;00m\n\u001b[1;32m-> 1170\u001b[0m     logs \u001b[39m=\u001b[39m tf_utils\u001b[39m.\u001b[39;49msync_to_numpy_or_python_type(logs)\n\u001b[0;32m   1171\u001b[0m     \u001b[39mself\u001b[39m\u001b[39m.\u001b[39mprogbar\u001b[39m.\u001b[39mupdate(\u001b[39mself\u001b[39m\u001b[39m.\u001b[39mseen, \u001b[39mlist\u001b[39m(logs\u001b[39m.\u001b[39mitems()), finalize\u001b[39m=\u001b[39m\u001b[39mFalse\u001b[39;00m)\n",
            "File \u001b[1;32mc:\\Users\\ASUS\\AppData\\Local\\Programs\\Python\\Python39\\lib\\site-packages\\keras\\utils\\tf_utils.py:665\u001b[0m, in \u001b[0;36msync_to_numpy_or_python_type\u001b[1;34m(tensors)\u001b[0m\n\u001b[0;32m    662\u001b[0m         \u001b[39mreturn\u001b[39;00m t\n\u001b[0;32m    663\u001b[0m     \u001b[39mreturn\u001b[39;00m t\u001b[39m.\u001b[39mitem() \u001b[39mif\u001b[39;00m np\u001b[39m.\u001b[39mndim(t) \u001b[39m==\u001b[39m \u001b[39m0\u001b[39m \u001b[39melse\u001b[39;00m t\n\u001b[1;32m--> 665\u001b[0m \u001b[39mreturn\u001b[39;00m tf\u001b[39m.\u001b[39;49mnest\u001b[39m.\u001b[39;49mmap_structure(_to_single_numpy_or_python_type, tensors)\n",
            "File \u001b[1;32mc:\\Users\\ASUS\\AppData\\Local\\Programs\\Python\\Python39\\lib\\site-packages\\tensorflow\\python\\util\\nest.py:917\u001b[0m, in \u001b[0;36mmap_structure\u001b[1;34m(func, *structure, **kwargs)\u001b[0m\n\u001b[0;32m    913\u001b[0m flat_structure \u001b[39m=\u001b[39m (flatten(s, expand_composites) \u001b[39mfor\u001b[39;00m s \u001b[39min\u001b[39;00m structure)\n\u001b[0;32m    914\u001b[0m entries \u001b[39m=\u001b[39m \u001b[39mzip\u001b[39m(\u001b[39m*\u001b[39mflat_structure)\n\u001b[0;32m    916\u001b[0m \u001b[39mreturn\u001b[39;00m pack_sequence_as(\n\u001b[1;32m--> 917\u001b[0m     structure[\u001b[39m0\u001b[39m], [func(\u001b[39m*\u001b[39mx) \u001b[39mfor\u001b[39;00m x \u001b[39min\u001b[39;00m entries],\n\u001b[0;32m    918\u001b[0m     expand_composites\u001b[39m=\u001b[39mexpand_composites)\n",
            "File \u001b[1;32mc:\\Users\\ASUS\\AppData\\Local\\Programs\\Python\\Python39\\lib\\site-packages\\tensorflow\\python\\util\\nest.py:917\u001b[0m, in \u001b[0;36m<listcomp>\u001b[1;34m(.0)\u001b[0m\n\u001b[0;32m    913\u001b[0m flat_structure \u001b[39m=\u001b[39m (flatten(s, expand_composites) \u001b[39mfor\u001b[39;00m s \u001b[39min\u001b[39;00m structure)\n\u001b[0;32m    914\u001b[0m entries \u001b[39m=\u001b[39m \u001b[39mzip\u001b[39m(\u001b[39m*\u001b[39mflat_structure)\n\u001b[0;32m    916\u001b[0m \u001b[39mreturn\u001b[39;00m pack_sequence_as(\n\u001b[1;32m--> 917\u001b[0m     structure[\u001b[39m0\u001b[39m], [func(\u001b[39m*\u001b[39;49mx) \u001b[39mfor\u001b[39;00m x \u001b[39min\u001b[39;00m entries],\n\u001b[0;32m    918\u001b[0m     expand_composites\u001b[39m=\u001b[39mexpand_composites)\n",
            "File \u001b[1;32mc:\\Users\\ASUS\\AppData\\Local\\Programs\\Python\\Python39\\lib\\site-packages\\keras\\utils\\tf_utils.py:658\u001b[0m, in \u001b[0;36msync_to_numpy_or_python_type.<locals>._to_single_numpy_or_python_type\u001b[1;34m(t)\u001b[0m\n\u001b[0;32m    655\u001b[0m \u001b[39mdef\u001b[39;00m \u001b[39m_to_single_numpy_or_python_type\u001b[39m(t):\n\u001b[0;32m    656\u001b[0m     \u001b[39m# Don't turn ragged or sparse tensors to NumPy.\u001b[39;00m\n\u001b[0;32m    657\u001b[0m     \u001b[39mif\u001b[39;00m \u001b[39misinstance\u001b[39m(t, tf\u001b[39m.\u001b[39mTensor):\n\u001b[1;32m--> 658\u001b[0m         t \u001b[39m=\u001b[39m t\u001b[39m.\u001b[39;49mnumpy()\n\u001b[0;32m    659\u001b[0m     \u001b[39m# Strings, ragged and sparse tensors don't have .item(). Return them\u001b[39;00m\n\u001b[0;32m    660\u001b[0m     \u001b[39m# as-is.\u001b[39;00m\n\u001b[0;32m    661\u001b[0m     \u001b[39mif\u001b[39;00m \u001b[39mnot\u001b[39;00m \u001b[39misinstance\u001b[39m(t, (np\u001b[39m.\u001b[39mndarray, np\u001b[39m.\u001b[39mgeneric)):\n",
            "File \u001b[1;32mc:\\Users\\ASUS\\AppData\\Local\\Programs\\Python\\Python39\\lib\\site-packages\\tensorflow\\python\\framework\\ops.py:1155\u001b[0m, in \u001b[0;36m_EagerTensorBase.numpy\u001b[1;34m(self)\u001b[0m\n\u001b[0;32m   1132\u001b[0m \u001b[39m\u001b[39m\u001b[39m\"\"\"Copy of the contents of this Tensor into a NumPy array or scalar.\u001b[39;00m\n\u001b[0;32m   1133\u001b[0m \n\u001b[0;32m   1134\u001b[0m \u001b[39mUnlike NumPy arrays, Tensors are immutable, so this method has to copy\u001b[39;00m\n\u001b[1;32m   (...)\u001b[0m\n\u001b[0;32m   1152\u001b[0m \u001b[39m    NumPy dtype.\u001b[39;00m\n\u001b[0;32m   1153\u001b[0m \u001b[39m\"\"\"\u001b[39;00m\n\u001b[0;32m   1154\u001b[0m \u001b[39m# TODO(slebedev): Consider avoiding a copy for non-CPU or remote tensors.\u001b[39;00m\n\u001b[1;32m-> 1155\u001b[0m maybe_arr \u001b[39m=\u001b[39m \u001b[39mself\u001b[39;49m\u001b[39m.\u001b[39;49m_numpy()  \u001b[39m# pylint: disable=protected-access\u001b[39;00m\n\u001b[0;32m   1156\u001b[0m \u001b[39mreturn\u001b[39;00m maybe_arr\u001b[39m.\u001b[39mcopy() \u001b[39mif\u001b[39;00m \u001b[39misinstance\u001b[39m(maybe_arr, np\u001b[39m.\u001b[39mndarray) \u001b[39melse\u001b[39;00m maybe_arr\n",
            "File \u001b[1;32mc:\\Users\\ASUS\\AppData\\Local\\Programs\\Python\\Python39\\lib\\site-packages\\tensorflow\\python\\framework\\ops.py:1121\u001b[0m, in \u001b[0;36m_EagerTensorBase._numpy\u001b[1;34m(self)\u001b[0m\n\u001b[0;32m   1119\u001b[0m \u001b[39mdef\u001b[39;00m \u001b[39m_numpy\u001b[39m(\u001b[39mself\u001b[39m):\n\u001b[0;32m   1120\u001b[0m   \u001b[39mtry\u001b[39;00m:\n\u001b[1;32m-> 1121\u001b[0m     \u001b[39mreturn\u001b[39;00m \u001b[39mself\u001b[39;49m\u001b[39m.\u001b[39;49m_numpy_internal()\n\u001b[0;32m   1122\u001b[0m   \u001b[39mexcept\u001b[39;00m core\u001b[39m.\u001b[39m_NotOkStatusException \u001b[39mas\u001b[39;00m e:  \u001b[39m# pylint: disable=protected-access\u001b[39;00m\n\u001b[0;32m   1123\u001b[0m     \u001b[39mraise\u001b[39;00m core\u001b[39m.\u001b[39m_status_to_exception(e) \u001b[39mfrom\u001b[39;00m \u001b[39mNone\u001b[39m\n",
            "\u001b[1;31mKeyboardInterrupt\u001b[0m: "
          ]
        }
      ],
      "source": [
        "from keras.callbacks import ModelCheckpoint, TensorBoard, EarlyStopping\n",
        "tensorboard = TensorBoard(log_dir=\"logs\")\n",
        "early_stopping = EarlyStopping(mode=\"min\", patience=5, restore_best_weights=True)\n",
        "\n",
        "# train the model\n",
        "batch_size = 16 # Diubah dari 16 ke 32\n",
        "epochs = 5 # Diubah dari 3 ke 100\n",
        "model.fit(X_t,y_onehot, batch_size=batch_size, epochs=epochs, validation_split=0.1, callbacks=[tensorboard, early_stopping])\n"
      ]
    },
    {
      "cell_type": "code",
      "execution_count": null,
      "metadata": {},
      "outputs": [],
      "source": [
        "filename = f'model-{epochs}-{batch_size}.h5'\n",
        "model.save(filename)"
      ]
    },
    {
      "cell_type": "code",
      "execution_count": null,
      "metadata": {
        "id": "zNSUxqseKYkC",
        "outputId": "77627d9a-4bcf-4021-ff8b-53dea0daaba0"
      },
      "outputs": [
        {
          "name": "stdout",
          "output_type": "stream",
          "text": [
            "329/329 [==============================] - 14s 38ms/step\n",
            "(5250, 19)\n"
          ]
        }
      ],
      "source": [
        "from keras.models import load_model\n",
        "model = load_model(filename)\n",
        "y_pred = model.predict(X_te, batch_size=batch_size, verbose=1)\n",
        "print(y_pred.shape)"
      ]
    },
    {
      "cell_type": "code",
      "execution_count": null,
      "metadata": {
        "id": "iv-d9wLIKYkC",
        "outputId": "7778c371-89ba-4740-8de7-8ea52db24572"
      },
      "outputs": [
        {
          "data": {
            "text/html": [
              "<div>\n",
              "<style scoped>\n",
              "    .dataframe tbody tr th:only-of-type {\n",
              "        vertical-align: middle;\n",
              "    }\n",
              "\n",
              "    .dataframe tbody tr th {\n",
              "        vertical-align: top;\n",
              "    }\n",
              "\n",
              "    .dataframe thead th {\n",
              "        text-align: right;\n",
              "    }\n",
              "</style>\n",
              "<table border=\"1\" class=\"dataframe\">\n",
              "  <thead>\n",
              "    <tr style=\"text-align: right;\">\n",
              "      <th></th>\n",
              "      <th>Action</th>\n",
              "      <th>Adventure</th>\n",
              "      <th>Animation</th>\n",
              "      <th>Children</th>\n",
              "      <th>Comedy</th>\n",
              "      <th>Crime</th>\n",
              "      <th>Documentary</th>\n",
              "      <th>Drama</th>\n",
              "      <th>Fantasy</th>\n",
              "      <th>Film-Noir</th>\n",
              "      <th>Horror</th>\n",
              "      <th>IMAX</th>\n",
              "      <th>Musical</th>\n",
              "      <th>Mystery</th>\n",
              "      <th>Romance</th>\n",
              "      <th>Sci-Fi</th>\n",
              "      <th>Thriller</th>\n",
              "      <th>War</th>\n",
              "      <th>Western</th>\n",
              "    </tr>\n",
              "  </thead>\n",
              "  <tbody>\n",
              "    <tr>\n",
              "      <th>0</th>\n",
              "      <td>0.173877</td>\n",
              "      <td>0.086269</td>\n",
              "      <td>0.040136</td>\n",
              "      <td>0.012943</td>\n",
              "      <td>0.045592</td>\n",
              "      <td>0.006468</td>\n",
              "      <td>0.010886</td>\n",
              "      <td>0.029080</td>\n",
              "      <td>0.040721</td>\n",
              "      <td>2.395882e-04</td>\n",
              "      <td>0.111999</td>\n",
              "      <td>0.009078</td>\n",
              "      <td>0.002045</td>\n",
              "      <td>0.014095</td>\n",
              "      <td>0.006675</td>\n",
              "      <td>0.327119</td>\n",
              "      <td>0.078986</td>\n",
              "      <td>0.002135</td>\n",
              "      <td>1.656964e-03</td>\n",
              "    </tr>\n",
              "    <tr>\n",
              "      <th>1</th>\n",
              "      <td>0.014322</td>\n",
              "      <td>0.007620</td>\n",
              "      <td>0.004599</td>\n",
              "      <td>0.001479</td>\n",
              "      <td>0.019459</td>\n",
              "      <td>0.001785</td>\n",
              "      <td>0.867856</td>\n",
              "      <td>0.048125</td>\n",
              "      <td>0.002308</td>\n",
              "      <td>8.672404e-06</td>\n",
              "      <td>0.001847</td>\n",
              "      <td>0.001029</td>\n",
              "      <td>0.005988</td>\n",
              "      <td>0.001245</td>\n",
              "      <td>0.002069</td>\n",
              "      <td>0.006542</td>\n",
              "      <td>0.004928</td>\n",
              "      <td>0.008778</td>\n",
              "      <td>1.338008e-05</td>\n",
              "    </tr>\n",
              "    <tr>\n",
              "      <th>2</th>\n",
              "      <td>0.000300</td>\n",
              "      <td>0.000342</td>\n",
              "      <td>0.000645</td>\n",
              "      <td>0.000384</td>\n",
              "      <td>0.006362</td>\n",
              "      <td>0.000429</td>\n",
              "      <td>0.950058</td>\n",
              "      <td>0.030969</td>\n",
              "      <td>0.000203</td>\n",
              "      <td>5.587655e-07</td>\n",
              "      <td>0.000129</td>\n",
              "      <td>0.000030</td>\n",
              "      <td>0.006805</td>\n",
              "      <td>0.000306</td>\n",
              "      <td>0.000714</td>\n",
              "      <td>0.000096</td>\n",
              "      <td>0.000508</td>\n",
              "      <td>0.001719</td>\n",
              "      <td>3.288493e-07</td>\n",
              "    </tr>\n",
              "    <tr>\n",
              "      <th>3</th>\n",
              "      <td>0.058851</td>\n",
              "      <td>0.027527</td>\n",
              "      <td>0.014035</td>\n",
              "      <td>0.005299</td>\n",
              "      <td>0.037687</td>\n",
              "      <td>0.004130</td>\n",
              "      <td>0.008341</td>\n",
              "      <td>0.050772</td>\n",
              "      <td>0.035187</td>\n",
              "      <td>2.270772e-04</td>\n",
              "      <td>0.456656</td>\n",
              "      <td>0.003594</td>\n",
              "      <td>0.000636</td>\n",
              "      <td>0.017664</td>\n",
              "      <td>0.004505</td>\n",
              "      <td>0.160325</td>\n",
              "      <td>0.112036</td>\n",
              "      <td>0.002240</td>\n",
              "      <td>2.884379e-04</td>\n",
              "    </tr>\n",
              "    <tr>\n",
              "      <th>4</th>\n",
              "      <td>0.062202</td>\n",
              "      <td>0.005357</td>\n",
              "      <td>0.000544</td>\n",
              "      <td>0.000788</td>\n",
              "      <td>0.049451</td>\n",
              "      <td>0.374309</td>\n",
              "      <td>0.000619</td>\n",
              "      <td>0.169526</td>\n",
              "      <td>0.001205</td>\n",
              "      <td>1.865563e-02</td>\n",
              "      <td>0.008799</td>\n",
              "      <td>0.000111</td>\n",
              "      <td>0.000778</td>\n",
              "      <td>0.060811</td>\n",
              "      <td>0.017564</td>\n",
              "      <td>0.000952</td>\n",
              "      <td>0.225037</td>\n",
              "      <td>0.000269</td>\n",
              "      <td>3.023763e-03</td>\n",
              "    </tr>\n",
              "  </tbody>\n",
              "</table>\n",
              "</div>"
            ],
            "text/plain": [
              "     Action  Adventure  Animation  Children    Comedy     Crime  Documentary  \\\n",
              "0  0.173877   0.086269   0.040136  0.012943  0.045592  0.006468     0.010886   \n",
              "1  0.014322   0.007620   0.004599  0.001479  0.019459  0.001785     0.867856   \n",
              "2  0.000300   0.000342   0.000645  0.000384  0.006362  0.000429     0.950058   \n",
              "3  0.058851   0.027527   0.014035  0.005299  0.037687  0.004130     0.008341   \n",
              "4  0.062202   0.005357   0.000544  0.000788  0.049451  0.374309     0.000619   \n",
              "\n",
              "      Drama   Fantasy     Film-Noir    Horror      IMAX   Musical   Mystery  \\\n",
              "0  0.029080  0.040721  2.395882e-04  0.111999  0.009078  0.002045  0.014095   \n",
              "1  0.048125  0.002308  8.672404e-06  0.001847  0.001029  0.005988  0.001245   \n",
              "2  0.030969  0.000203  5.587655e-07  0.000129  0.000030  0.006805  0.000306   \n",
              "3  0.050772  0.035187  2.270772e-04  0.456656  0.003594  0.000636  0.017664   \n",
              "4  0.169526  0.001205  1.865563e-02  0.008799  0.000111  0.000778  0.060811   \n",
              "\n",
              "    Romance    Sci-Fi  Thriller       War       Western  \n",
              "0  0.006675  0.327119  0.078986  0.002135  1.656964e-03  \n",
              "1  0.002069  0.006542  0.004928  0.008778  1.338008e-05  \n",
              "2  0.000714  0.000096  0.000508  0.001719  3.288493e-07  \n",
              "3  0.004505  0.160325  0.112036  0.002240  2.884379e-04  \n",
              "4  0.017564  0.000952  0.225037  0.000269  3.023763e-03  "
            ]
          },
          "execution_count": 17,
          "metadata": {},
          "output_type": "execute_result"
        }
      ],
      "source": [
        "df_probs_all = pd.DataFrame(y_pred,columns=y_bin.columns)\n",
        "df_probs_all.head()"
      ]
    },
    {
      "cell_type": "code",
      "execution_count": null,
      "metadata": {
        "id": "9LUEKZY3KYkD"
      },
      "outputs": [],
      "source": [
        "def top_5_predictions(df):\n",
        "    N = 5\n",
        "    cols = df.columns[:-1].tolist()\n",
        "    a = df[cols].to_numpy().argsort()[:, :-N-1:-1]\n",
        "    c = np.array(cols)[a]\n",
        "    d = df[cols].to_numpy()[np.arange(a.shape[0])[:, None], a]\n",
        "    df1 = pd.DataFrame(c).rename(columns=lambda x : f'max_{x+1}_col')\n",
        "\n",
        "    predicted_genres = df1[\"max_1_col\"] + ', ' + df1[\"max_2_col\"]+ ', ' +df1[\"max_3_col\"]+ ', ' + df1[\"max_4_col\"]+ ', '+df1[\"max_5_col\"]\n",
        "    return predicted_genres"
      ]
    },
    {
      "cell_type": "code",
      "execution_count": null,
      "metadata": {
        "id": "ZeMDdR3yKYkD"
      },
      "outputs": [],
      "source": [
        "pred_gen = top_5_predictions(df_probs_all)"
      ]
    },
    {
      "cell_type": "code",
      "execution_count": null,
      "metadata": {
        "id": "-gUP_0SUKYkE"
      },
      "outputs": [],
      "source": [
        "submission = pd.DataFrame(data= {'movie_id':test.movie_id,'predicted_genres':pred_gen})"
      ]
    },
    {
      "cell_type": "code",
      "execution_count": null,
      "metadata": {
        "id": "_CU0dBD6KYkE",
        "outputId": "832acb14-d0e0-48c5-ad61-4b9ac4e271c8"
      },
      "outputs": [
        {
          "data": {
            "text/html": [
              "<div>\n",
              "<style scoped>\n",
              "    .dataframe tbody tr th:only-of-type {\n",
              "        vertical-align: middle;\n",
              "    }\n",
              "\n",
              "    .dataframe tbody tr th {\n",
              "        vertical-align: top;\n",
              "    }\n",
              "\n",
              "    .dataframe thead th {\n",
              "        text-align: right;\n",
              "    }\n",
              "</style>\n",
              "<table border=\"1\" class=\"dataframe\">\n",
              "  <thead>\n",
              "    <tr style=\"text-align: right;\">\n",
              "      <th></th>\n",
              "      <th>movie_id</th>\n",
              "      <th>predicted_genres</th>\n",
              "    </tr>\n",
              "  </thead>\n",
              "  <tbody>\n",
              "    <tr>\n",
              "      <th>0</th>\n",
              "      <td>10827</td>\n",
              "      <td>Sci-Fi, Action, Horror, Adventure, Thriller</td>\n",
              "    </tr>\n",
              "    <tr>\n",
              "      <th>1</th>\n",
              "      <td>51768</td>\n",
              "      <td>Documentary, Drama, Comedy, Action, War</td>\n",
              "    </tr>\n",
              "    <tr>\n",
              "      <th>2</th>\n",
              "      <td>36064</td>\n",
              "      <td>Documentary, Drama, Musical, Comedy, War</td>\n",
              "    </tr>\n",
              "    <tr>\n",
              "      <th>3</th>\n",
              "      <td>33763</td>\n",
              "      <td>Horror, Sci-Fi, Thriller, Action, Drama</td>\n",
              "    </tr>\n",
              "    <tr>\n",
              "      <th>4</th>\n",
              "      <td>1146</td>\n",
              "      <td>Crime, Thriller, Drama, Action, Mystery</td>\n",
              "    </tr>\n",
              "  </tbody>\n",
              "</table>\n",
              "</div>"
            ],
            "text/plain": [
              "   movie_id                             predicted_genres\n",
              "0     10827  Sci-Fi, Action, Horror, Adventure, Thriller\n",
              "1     51768      Documentary, Drama, Comedy, Action, War\n",
              "2     36064     Documentary, Drama, Musical, Comedy, War\n",
              "3     33763      Horror, Sci-Fi, Thriller, Action, Drama\n",
              "4      1146      Crime, Thriller, Drama, Action, Mystery"
            ]
          },
          "execution_count": 21,
          "metadata": {},
          "output_type": "execute_result"
        }
      ],
      "source": [
        "submission.head()"
      ]
    },
    {
      "cell_type": "code",
      "execution_count": null,
      "metadata": {
        "id": "1-qDXoryKYkE"
      },
      "outputs": [],
      "source": [
        "submission.to_csv('submission.csv',index=False)"
      ]
    },
    {
      "cell_type": "code",
      "execution_count": null,
      "metadata": {},
      "outputs": [
        {
          "name": "stdout",
          "output_type": "stream",
          "text": [
            "1/1 [==============================] - 0s 47ms/step\n",
            "(1, 19)\n",
            "The synopsis you entered is :\n",
            " ['asdf']\n",
            "Genres :  0    Drama, Comedy, Romance, Thriller, Crime\n",
            "dtype: object\n"
          ]
        }
      ],
      "source": [
        "new_synopsis_input = [input(\"Input the synopsis\")]\n",
        "synopsis = new_synopsis_input\n",
        "new_synopsis_input = tokenizer.texts_to_sequences(new_synopsis_input)\n",
        "new_synopsis_input = pad_sequences(new_synopsis_input, padding='post', maxlen=maxlen)\n",
        "predict = model.predict(new_synopsis_input, batch_size=batch_size, verbose=1)\n",
        "print(predict.shape)\n",
        "\n",
        "result = pd.DataFrame(predict,columns=y_bin.columns)\n",
        "print(\"The synopsis you entered is :\\n\", synopsis)\n",
        "print(\"Genres : \", top_5_predictions(result))"
      ]
    }
  ],
  "metadata": {
    "colab": {
      "include_colab_link": true,
      "name": "radix_challenge.ipynb",
      "provenance": []
    },
    "kernelspec": {
      "display_name": "Python 3",
      "language": "python",
      "name": "python3"
    },
    "language_info": {
      "codemirror_mode": {
        "name": "ipython",
        "version": 3
      },
      "file_extension": ".py",
      "mimetype": "text/x-python",
      "name": "python",
      "nbconvert_exporter": "python",
      "pygments_lexer": "ipython3",
      "version": "3.9.1"
    }
  },
  "nbformat": 4,
  "nbformat_minor": 0
}
