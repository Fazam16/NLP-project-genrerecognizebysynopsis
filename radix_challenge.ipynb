{
  "cells": [
    {
      "cell_type": "markdown",
      "metadata": {
        "colab_type": "text",
        "id": "view-in-github"
      },
      "source": [
        "<a href=\"https://colab.research.google.com/github/opsabarsec/NLP--film-genres-from-synopsis/blob/main/radix_challenge.ipynb\" target=\"_parent\"><img src=\"https://colab.research.google.com/assets/colab-badge.svg\" alt=\"Open In Colab\"/></a>"
      ]
    },
    {
      "cell_type": "markdown",
      "metadata": {
        "id": "d6kB19cOKYjr"
      },
      "source": [
        "# Automatic assignment of genres from movie synopsis using supervised machine learning"
      ]
    },
    {
      "cell_type": "markdown",
      "metadata": {
        "id": "rEXqk7gVKYjz"
      },
      "source": [
        "## 1. Import libraries and load data"
      ]
    },
    {
      "cell_type": "code",
      "execution_count": 165,
      "metadata": {
        "_cell_guid": "b1076dfc-b9ad-4769-8c92-a6c4dae69d19",
        "_uuid": "8f2839f25d086af736a60e9eeb907d3b93b6e0e5",
        "id": "ca4CabSbKYj1"
      },
      "outputs": [],
      "source": [
        "#packages to load\n",
        "\n",
        "import numpy as np # linear algebra\n",
        "import pandas as pd # data processing, CSV file I/O (e.g. pd.read_csv)\n",
        "\n",
        "# NLP libraries\n",
        "\n",
        "from textblob import TextBlob, Word\n",
        "import nltk\n",
        "import re\n",
        "import csv\n",
        "from sklearn.preprocessing import MultiLabelBinarizer\n",
        "from sklearn.model_selection import train_test_split\n",
        "\n",
        "# Deep learning libraries\n",
        "\n",
        "from keras.models import Model\n",
        "from keras_preprocessing.sequence import pad_sequences\n",
        "from keras.layers import Dense, Embedding, Input, LSTM, GlobalMaxPool1D, Dropout\n",
        "from keras.preprocessing.text import Tokenizer\n",
        "from keras.models import Sequential\n",
        "from sklearn.metrics import classification_report, precision_score, recall_score, f1_score, accuracy_score"
      ]
    },
    {
      "cell_type": "code",
      "execution_count": 166,
      "metadata": {
        "_cell_guid": "79c7e3d0-c299-4dcb-8224-4455121ee9b0",
        "_uuid": "d629ff2d2480ee46fbb7e2d37f6b5fab8052498a",
        "id": "7bBgajuqKYj2"
      },
      "outputs": [],
      "source": [
        "# load data\n",
        "train= pd.read_csv('./data/train.csv')\n",
        "test=pd.read_csv('./data/test.csv')"
      ]
    },
    {
      "cell_type": "markdown",
      "metadata": {
        "id": "LhjxQG-XKYj3"
      },
      "source": [
        "## 2. DATA PREPARATION "
      ]
    },
    {
      "cell_type": "code",
      "execution_count": 167,
      "metadata": {
        "id": "6VR0giutKYj4",
        "outputId": "eb98338a-d354-4362-8ad3-18ab6984eeaf"
      },
      "outputs": [
        {
          "name": "stderr",
          "output_type": "stream",
          "text": [
            "[nltk_data] Downloading package stopwords to\n",
            "[nltk_data]     C:\\Users\\ASUS\\AppData\\Roaming\\nltk_data...\n",
            "[nltk_data]   Package stopwords is already up-to-date!\n"
          ]
        }
      ],
      "source": [
        "nltk.download('stopwords')\n",
        "\n",
        "from nltk.corpus import stopwords\n",
        "stop_words = set(stopwords.words('english'))"
      ]
    },
    {
      "cell_type": "code",
      "execution_count": 168,
      "metadata": {
        "id": "gyCVQY5vKYj6"
      },
      "outputs": [],
      "source": [
        "# function for text cleaning \n",
        "def preprocess_text(text): #funsi yang berguna untuk  melakukan cleaning terhadap dataset\n",
        "    text = text.lower() # lowercase\n",
        "    text = re.sub(r\"what's\", \"what is \", text)\n",
        "    text = re.sub(r\"\\'s\", \" \", text)\n",
        "    text = re.sub(r\"\\'ve\", \" have \", text)\n",
        "    text = re.sub(r\"can't\", \"can not \", text)\n",
        "    text = re.sub(r\"n't\", \" not \", text)\n",
        "    text = re.sub(r\"i'm\", \"i am \", text)\n",
        "    text = re.sub(r\"\\'re\", \" are \", text)\n",
        "    text = re.sub(r\"\\'d\", \" would \", text)\n",
        "    text = re.sub(r\"\\'ll\", \" will \", text)\n",
        "    text = re.sub(r\"\\'scuse\", \" excuse \", text)\n",
        "    text = re.sub(r\"\\'\\n\", \" \", text) #line breaks\n",
        "    #text = re.sub(r\"\\'\\xa0\", \" \", text) # xa0 Unicode representing spaces\n",
        "    #text = re.sub('\\s+', ' ', text) # one or more whitespace characters\n",
        "    text = text.strip(' ') # spaces\n",
        "    # remove backslash-apostrophe \n",
        "    text = re.sub(\"\\'\", \"\", text) \n",
        "    # remove everything except alphabets \n",
        "    text = re.sub(\"[^a-zA-Z]\",\" \",text) \n",
        "    #lemmatize and remove stopwords\n",
        "    no_stopword_text = [w for w in text.split() if not w in stop_words]\n",
        "    text = ' '.join(no_stopword_text) \n",
        "        \n",
        "    return text\n",
        "\n",
        "train['clean_plot'] = train['synopsis'].apply(lambda x: preprocess_text(x))\n",
        "test['clean_plot'] = test['synopsis'].apply(lambda x: preprocess_text(x))"
      ]
    },
    {
      "cell_type": "code",
      "execution_count": 169,
      "metadata": {
        "id": "bVZgxGSvKYj7"
      },
      "outputs": [],
      "source": [
        "def lemma(text): # Lemmatization of cleaned body (avoid redundancy and improve the accuracy of analysis.)\n",
        "        sent = TextBlob(text)\n",
        "        tag_dict = {\"J\": 'a', \n",
        "                    \"N\": 'n', \n",
        "                    \"V\": 'v', \n",
        "                    \"R\": 'r'}\n",
        "        words_and_tags = [(w, tag_dict.get(pos[0], 'n')) for w, pos in sent.tags]    \n",
        "        lemmatized_list = [wd.lemmatize(tag) for wd, tag in words_and_tags]\n",
        "        seperator=' '\n",
        "        lemma = seperator.join(lemmatized_list) \n",
        "        return lemma"
      ]
    },
    {
      "cell_type": "code",
      "execution_count": 170,
      "metadata": {
        "id": "1WH56R_3KYj8"
      },
      "outputs": [],
      "source": [
        "train['lemma'] = train['clean_plot'].apply(lambda x: lemma(x))\n",
        "test['lemma'] = test['clean_plot'].apply(lambda x: lemma(x))"
      ]
    },
    {
      "cell_type": "markdown",
      "metadata": {
        "id": "xuQ9oPsdKYj8"
      },
      "source": [
        "## 3. Variables preparation "
      ]
    },
    {
      "cell_type": "code",
      "execution_count": 171,
      "metadata": {
        "id": "Gr7fpzedKYj-"
      },
      "outputs": [],
      "source": [
        "\n",
        "X_train = train['lemma']\n",
        "X_test = test['lemma']    "
      ]
    },
    {
      "cell_type": "markdown",
      "metadata": {
        "id": "D4CZNNpAKYj_"
      },
      "source": [
        "### 3.1 Target variable one hot encoding"
      ]
    },
    {
      "cell_type": "code",
      "execution_count": 172,
      "metadata": {
        "id": "dWWX0lWkKYj_"
      },
      "outputs": [],
      "source": [
        "#apply the onehot transformation for the genres vector\n",
        "y_train = train['genres']\n",
        "one_hot = MultiLabelBinarizer() # encoder for the  tags \n",
        "y_onehot = one_hot.fit_transform(y_train.str.split(' ')) \n",
        "y_bin = pd.DataFrame(y_onehot, columns=one_hot.classes_ ) # transform it to Pandas object"
      ]
    },
    {
      "cell_type": "code",
      "execution_count": 173,
      "metadata": {
        "id": "GXnL0mu5KYkA"
      },
      "outputs": [],
      "source": [
        "# tokenize\n",
        "max_features = 5000\n",
        "tokenizer = Tokenizer(num_words=max_features)\n",
        "tokenizer.fit_on_texts(list(X_train))\n",
        "list_tokenized_train = tokenizer.texts_to_sequences(X_train)\n",
        "list_tokenized_test = tokenizer.texts_to_sequences(X_test)\n",
        "vocab_size = len(tokenizer.word_index) + 1 # Tambahan vocab_size"
      ]
    },
    {
      "cell_type": "code",
      "execution_count": 174,
      "metadata": {
        "id": "O2DFBo8tKYkA"
      },
      "outputs": [],
      "source": [
        "#fix max comment lenght \n",
        "maxlen = 200 # Diubah dari 100 jadi 200\n",
        "X_t = pad_sequences(list_tokenized_train, maxlen=maxlen, padding='post') # Ditambah padding post\n",
        "X_te = pad_sequences(list_tokenized_test, maxlen=maxlen, padding='post') # Ditambah padding post"
      ]
    },
    {
      "cell_type": "markdown",
      "metadata": {
        "id": "dIJrNQ9dKYkA"
      },
      "source": [
        "## 4.The Model"
      ]
    },
    {
      "cell_type": "code",
      "execution_count": 175,
      "metadata": {
        "id": "boheaXGPISCm"
      },
      "outputs": [],
      "source": [
        "#initialize parameters\n",
        "inp = Input(shape=(maxlen, )) #maxlen defined earlier\n",
        "embed_size = 128"
      ]
    },
    {
      "cell_type": "code",
      "execution_count": 176,
      "metadata": {
        "id": "BGz6T6XPKYkB"
      },
      "outputs": [],
      "source": [
        "# Full dirubah\n",
        "# Neural network backbone\n",
        "model = Sequential()\n",
        "model.add(Embedding(vocab_size, 64, input_length=maxlen)) \n",
        "model.add(LSTM(64, return_sequences=True,name='lstm_layer'))\n",
        "model.add(GlobalMaxPool1D())\n",
        "model.add(Dropout(0.1))\n",
        "model.add(Dense(50, activation=\"relu\"))\n",
        "model.add(Dense(len(y_bin.columns), activation=\"softmax\"))"
      ]
    },
    {
      "cell_type": "code",
      "execution_count": 177,
      "metadata": {
        "id": "BhHDmhNTKYkB"
      },
      "outputs": [],
      "source": [
        "# build the model\n",
        "\n",
        "model.compile(loss='binary_crossentropy',\n",
        "                  optimizer='adam',\n",
        "                  metrics=['accuracy'])"
      ]
    },
    {
      "cell_type": "code",
      "execution_count": 178,
      "metadata": {
        "id": "MImoilb7KYkB",
        "outputId": "48f5c3fd-6a8a-4c8d-8883-39a4875cb390"
      },
      "outputs": [
        {
          "name": "stdout",
          "output_type": "stream",
          "text": [
            "Epoch 1/20\n",
            "1028/1028 [==============================] - 160s 153ms/step - loss: 0.2724 - accuracy: 0.2964 - val_loss: 0.2441 - val_accuracy: 0.3050\n",
            "Epoch 2/20\n",
            "1028/1028 [==============================] - 129s 125ms/step - loss: 0.2255 - accuracy: 0.4087 - val_loss: 0.2174 - val_accuracy: 0.4367\n",
            "Epoch 3/20\n",
            "1028/1028 [==============================] - 147s 143ms/step - loss: 0.2000 - accuracy: 0.4843 - val_loss: 0.2065 - val_accuracy: 0.4907\n",
            "Epoch 4/20\n",
            "1028/1028 [==============================] - 146s 142ms/step - loss: 0.1866 - accuracy: 0.5123 - val_loss: 0.2059 - val_accuracy: 0.4669\n",
            "Epoch 5/20\n",
            "1028/1028 [==============================] - 134s 130ms/step - loss: 0.1779 - accuracy: 0.5322 - val_loss: 0.2062 - val_accuracy: 0.4696\n",
            "Epoch 6/20\n",
            "1028/1028 [==============================] - 143s 139ms/step - loss: 0.1708 - accuracy: 0.5464 - val_loss: 0.2079 - val_accuracy: 0.4633\n",
            "Epoch 7/20\n",
            "1028/1028 [==============================] - 136s 133ms/step - loss: 0.1635 - accuracy: 0.5597 - val_loss: 0.2134 - val_accuracy: 0.4625\n",
            "Epoch 8/20\n",
            "1028/1028 [==============================] - 135s 131ms/step - loss: 0.1569 - accuracy: 0.5724 - val_loss: 0.2134 - val_accuracy: 0.4485\n",
            "Epoch 9/20\n",
            "1028/1028 [==============================] - 143s 139ms/step - loss: 0.1507 - accuracy: 0.5822 - val_loss: 0.2209 - val_accuracy: 0.4482\n",
            "Epoch 10/20\n",
            "1028/1028 [==============================] - 144s 140ms/step - loss: 0.1447 - accuracy: 0.5937 - val_loss: 0.2266 - val_accuracy: 0.4513\n",
            "Epoch 11/20\n",
            "1028/1028 [==============================] - 135s 132ms/step - loss: 0.1389 - accuracy: 0.6005 - val_loss: 0.2321 - val_accuracy: 0.4466\n",
            "Epoch 12/20\n",
            "1028/1028 [==============================] - 135s 132ms/step - loss: 0.1333 - accuracy: 0.6105 - val_loss: 0.2388 - val_accuracy: 0.4502\n",
            "Epoch 13/20\n",
            "1028/1028 [==============================] - 135s 132ms/step - loss: 0.1287 - accuracy: 0.6199 - val_loss: 0.2470 - val_accuracy: 0.4384\n",
            "Epoch 14/20\n",
            "1028/1028 [==============================] - 139s 136ms/step - loss: 0.1230 - accuracy: 0.6329 - val_loss: 0.2526 - val_accuracy: 0.4376\n",
            "Epoch 15/20\n",
            "1028/1028 [==============================] - 135s 131ms/step - loss: 0.1180 - accuracy: 0.6382 - val_loss: 0.2646 - val_accuracy: 0.4406\n",
            "Epoch 16/20\n",
            "1028/1028 [==============================] - 137s 133ms/step - loss: 0.1147 - accuracy: 0.6432 - val_loss: 0.2698 - val_accuracy: 0.4294\n",
            "Epoch 17/20\n",
            "1028/1028 [==============================] - 146s 142ms/step - loss: 0.1088 - accuracy: 0.6509 - val_loss: 0.2824 - val_accuracy: 0.4365\n",
            "Epoch 18/20\n",
            "1028/1028 [==============================] - 142s 138ms/step - loss: 0.1040 - accuracy: 0.6551 - val_loss: 0.2873 - val_accuracy: 0.4242\n",
            "Epoch 19/20\n",
            "1028/1028 [==============================] - 129s 125ms/step - loss: 0.1005 - accuracy: 0.6598 - val_loss: 0.3015 - val_accuracy: 0.4206\n",
            "Epoch 20/20\n",
            "1028/1028 [==============================] - 156s 151ms/step - loss: 0.0964 - accuracy: 0.6619 - val_loss: 0.3171 - val_accuracy: 0.4315\n"
          ]
        },
        {
          "data": {
            "text/plain": [
              "<keras.callbacks.History at 0x1eb92ff1460>"
            ]
          },
          "execution_count": 178,
          "metadata": {},
          "output_type": "execute_result"
        }
      ],
      "source": [
        "# train the model\n",
        "batch_size = 32 # Diubah dari 16 ke 32\n",
        "epochs = 10 # Diubah dari 3 ke 10\n",
        "model.fit(X_t,y_onehot, batch_size=batch_size, epochs=epochs, validation_split=0.1)\n"
      ]
    },
    {
      "cell_type": "markdown",
      "metadata": {
        "id": "b08G7DVcKYkB"
      },
      "source": [
        "## 5.The prediction"
      ]
    },
    {
      "cell_type": "code",
      "execution_count": 230,
      "metadata": {},
      "outputs": [],
      "source": [
        "filename = f'model-{epochs}-{batch_size}.h5'\n",
        "model.save(filename)"
      ]
    },
    {
      "cell_type": "code",
      "execution_count": 251,
      "metadata": {
        "id": "zNSUxqseKYkC",
        "outputId": "77627d9a-4bcf-4021-ff8b-53dea0daaba0"
      },
      "outputs": [
        {
          "name": "stdout",
          "output_type": "stream",
          "text": [
            "165/165 [==============================] - 6s 35ms/step\n",
            "(5250, 19)\n"
          ]
        }
      ],
      "source": [
        "from keras.models import load_model\n",
        "model = load_model(filename)\n",
        "y_pred = model.predict(X_te, batch_size=batch_size, verbose=1)\n",
        "print(y_pred.shape)"
      ]
    },
    {
      "cell_type": "code",
      "execution_count": 252,
      "metadata": {
        "id": "iv-d9wLIKYkC",
        "outputId": "7778c371-89ba-4740-8de7-8ea52db24572"
      },
      "outputs": [
        {
          "data": {
            "text/html": [
              "<div>\n",
              "<style scoped>\n",
              "    .dataframe tbody tr th:only-of-type {\n",
              "        vertical-align: middle;\n",
              "    }\n",
              "\n",
              "    .dataframe tbody tr th {\n",
              "        vertical-align: top;\n",
              "    }\n",
              "\n",
              "    .dataframe thead th {\n",
              "        text-align: right;\n",
              "    }\n",
              "</style>\n",
              "<table border=\"1\" class=\"dataframe\">\n",
              "  <thead>\n",
              "    <tr style=\"text-align: right;\">\n",
              "      <th></th>\n",
              "      <th>Action</th>\n",
              "      <th>Adventure</th>\n",
              "      <th>Animation</th>\n",
              "      <th>Children</th>\n",
              "      <th>Comedy</th>\n",
              "      <th>Crime</th>\n",
              "      <th>Documentary</th>\n",
              "      <th>Drama</th>\n",
              "      <th>Fantasy</th>\n",
              "      <th>Film-Noir</th>\n",
              "      <th>Horror</th>\n",
              "      <th>IMAX</th>\n",
              "      <th>Musical</th>\n",
              "      <th>Mystery</th>\n",
              "      <th>Romance</th>\n",
              "      <th>Sci-Fi</th>\n",
              "      <th>Thriller</th>\n",
              "      <th>War</th>\n",
              "      <th>Western</th>\n",
              "    </tr>\n",
              "  </thead>\n",
              "  <tbody>\n",
              "    <tr>\n",
              "      <th>0</th>\n",
              "      <td>0.146796</td>\n",
              "      <td>0.092593</td>\n",
              "      <td>0.031915</td>\n",
              "      <td>0.004001</td>\n",
              "      <td>0.032126</td>\n",
              "      <td>0.012677</td>\n",
              "      <td>0.019039</td>\n",
              "      <td>0.111241</td>\n",
              "      <td>0.037293</td>\n",
              "      <td>3.587175e-04</td>\n",
              "      <td>0.046427</td>\n",
              "      <td>0.007879</td>\n",
              "      <td>0.002079</td>\n",
              "      <td>0.033372</td>\n",
              "      <td>0.009807</td>\n",
              "      <td>0.284483</td>\n",
              "      <td>0.121613</td>\n",
              "      <td>0.005030</td>\n",
              "      <td>1.269605e-03</td>\n",
              "    </tr>\n",
              "    <tr>\n",
              "      <th>1</th>\n",
              "      <td>0.116461</td>\n",
              "      <td>0.017779</td>\n",
              "      <td>0.006620</td>\n",
              "      <td>0.000689</td>\n",
              "      <td>0.026571</td>\n",
              "      <td>0.035989</td>\n",
              "      <td>0.069362</td>\n",
              "      <td>0.093029</td>\n",
              "      <td>0.006255</td>\n",
              "      <td>1.405759e-04</td>\n",
              "      <td>0.034881</td>\n",
              "      <td>0.003609</td>\n",
              "      <td>0.000981</td>\n",
              "      <td>0.037603</td>\n",
              "      <td>0.002486</td>\n",
              "      <td>0.392034</td>\n",
              "      <td>0.154000</td>\n",
              "      <td>0.001432</td>\n",
              "      <td>7.904846e-05</td>\n",
              "    </tr>\n",
              "    <tr>\n",
              "      <th>2</th>\n",
              "      <td>0.000004</td>\n",
              "      <td>0.000006</td>\n",
              "      <td>0.000021</td>\n",
              "      <td>0.000001</td>\n",
              "      <td>0.000021</td>\n",
              "      <td>0.000009</td>\n",
              "      <td>0.999741</td>\n",
              "      <td>0.000069</td>\n",
              "      <td>0.000002</td>\n",
              "      <td>1.168255e-10</td>\n",
              "      <td>0.000004</td>\n",
              "      <td>0.000008</td>\n",
              "      <td>0.000080</td>\n",
              "      <td>0.000002</td>\n",
              "      <td>0.000004</td>\n",
              "      <td>0.000002</td>\n",
              "      <td>0.000001</td>\n",
              "      <td>0.000025</td>\n",
              "      <td>1.533174e-08</td>\n",
              "    </tr>\n",
              "    <tr>\n",
              "      <th>3</th>\n",
              "      <td>0.012232</td>\n",
              "      <td>0.002466</td>\n",
              "      <td>0.001057</td>\n",
              "      <td>0.000210</td>\n",
              "      <td>0.004618</td>\n",
              "      <td>0.000467</td>\n",
              "      <td>0.000079</td>\n",
              "      <td>0.002055</td>\n",
              "      <td>0.004178</td>\n",
              "      <td>2.106850e-06</td>\n",
              "      <td>0.883959</td>\n",
              "      <td>0.000142</td>\n",
              "      <td>0.000011</td>\n",
              "      <td>0.001706</td>\n",
              "      <td>0.000142</td>\n",
              "      <td>0.058418</td>\n",
              "      <td>0.028169</td>\n",
              "      <td>0.000024</td>\n",
              "      <td>6.521006e-05</td>\n",
              "    </tr>\n",
              "    <tr>\n",
              "      <th>4</th>\n",
              "      <td>0.016626</td>\n",
              "      <td>0.002418</td>\n",
              "      <td>0.000841</td>\n",
              "      <td>0.000345</td>\n",
              "      <td>0.035209</td>\n",
              "      <td>0.299958</td>\n",
              "      <td>0.000834</td>\n",
              "      <td>0.255778</td>\n",
              "      <td>0.000966</td>\n",
              "      <td>1.421195e-02</td>\n",
              "      <td>0.013310</td>\n",
              "      <td>0.000096</td>\n",
              "      <td>0.000384</td>\n",
              "      <td>0.080258</td>\n",
              "      <td>0.009480</td>\n",
              "      <td>0.006386</td>\n",
              "      <td>0.261924</td>\n",
              "      <td>0.000172</td>\n",
              "      <td>8.007935e-04</td>\n",
              "    </tr>\n",
              "  </tbody>\n",
              "</table>\n",
              "</div>"
            ],
            "text/plain": [
              "     Action  Adventure  Animation  Children    Comedy     Crime  Documentary  \\\n",
              "0  0.146796   0.092593   0.031915  0.004001  0.032126  0.012677     0.019039   \n",
              "1  0.116461   0.017779   0.006620  0.000689  0.026571  0.035989     0.069362   \n",
              "2  0.000004   0.000006   0.000021  0.000001  0.000021  0.000009     0.999741   \n",
              "3  0.012232   0.002466   0.001057  0.000210  0.004618  0.000467     0.000079   \n",
              "4  0.016626   0.002418   0.000841  0.000345  0.035209  0.299958     0.000834   \n",
              "\n",
              "      Drama   Fantasy     Film-Noir    Horror      IMAX   Musical   Mystery  \\\n",
              "0  0.111241  0.037293  3.587175e-04  0.046427  0.007879  0.002079  0.033372   \n",
              "1  0.093029  0.006255  1.405759e-04  0.034881  0.003609  0.000981  0.037603   \n",
              "2  0.000069  0.000002  1.168255e-10  0.000004  0.000008  0.000080  0.000002   \n",
              "3  0.002055  0.004178  2.106850e-06  0.883959  0.000142  0.000011  0.001706   \n",
              "4  0.255778  0.000966  1.421195e-02  0.013310  0.000096  0.000384  0.080258   \n",
              "\n",
              "    Romance    Sci-Fi  Thriller       War       Western  \n",
              "0  0.009807  0.284483  0.121613  0.005030  1.269605e-03  \n",
              "1  0.002486  0.392034  0.154000  0.001432  7.904846e-05  \n",
              "2  0.000004  0.000002  0.000001  0.000025  1.533174e-08  \n",
              "3  0.000142  0.058418  0.028169  0.000024  6.521006e-05  \n",
              "4  0.009480  0.006386  0.261924  0.000172  8.007935e-04  "
            ]
          },
          "execution_count": 252,
          "metadata": {},
          "output_type": "execute_result"
        }
      ],
      "source": [
        "df_probs_all = pd.DataFrame(y_pred,columns=y_bin.columns)\n",
        "df_probs_all.head()"
      ]
    },
    {
      "cell_type": "code",
      "execution_count": 195,
      "metadata": {
        "id": "9LUEKZY3KYkD"
      },
      "outputs": [],
      "source": [
        "def top_5_predictions(df):\n",
        "    N = 5\n",
        "    cols = df.columns[:-1].tolist()\n",
        "    a = df[cols].to_numpy().argsort()[:, :-N-1:-1]\n",
        "    c = np.array(cols)[a]\n",
        "    d = df[cols].to_numpy()[np.arange(a.shape[0])[:, None], a]\n",
        "    df1 = pd.DataFrame(c).rename(columns=lambda x : f'max_{x+1}_col')\n",
        "\n",
        "    predicted_genres = df1[\"max_1_col\"] + ', ' + df1[\"max_2_col\"]+ ', ' +df1[\"max_3_col\"]+ ', ' + df1[\"max_4_col\"]+ ', '+df1[\"max_5_col\"]\n",
        "    return predicted_genres"
      ]
    },
    {
      "cell_type": "code",
      "execution_count": 183,
      "metadata": {
        "id": "ZeMDdR3yKYkD"
      },
      "outputs": [],
      "source": [
        "pred_gen = top_5_predictions(df_probs_all)"
      ]
    },
    {
      "cell_type": "code",
      "execution_count": 184,
      "metadata": {
        "id": "-gUP_0SUKYkE"
      },
      "outputs": [],
      "source": [
        "submission = pd.DataFrame(data= {'movie_id':test.movie_id,'predicted_genres':pred_gen})"
      ]
    },
    {
      "cell_type": "code",
      "execution_count": 185,
      "metadata": {
        "id": "_CU0dBD6KYkE",
        "outputId": "832acb14-d0e0-48c5-ad61-4b9ac4e271c8"
      },
      "outputs": [
        {
          "data": {
            "text/html": [
              "<div>\n",
              "<style scoped>\n",
              "    .dataframe tbody tr th:only-of-type {\n",
              "        vertical-align: middle;\n",
              "    }\n",
              "\n",
              "    .dataframe tbody tr th {\n",
              "        vertical-align: top;\n",
              "    }\n",
              "\n",
              "    .dataframe thead th {\n",
              "        text-align: right;\n",
              "    }\n",
              "</style>\n",
              "<table border=\"1\" class=\"dataframe\">\n",
              "  <thead>\n",
              "    <tr style=\"text-align: right;\">\n",
              "      <th></th>\n",
              "      <th>movie_id</th>\n",
              "      <th>predicted_genres</th>\n",
              "    </tr>\n",
              "  </thead>\n",
              "  <tbody>\n",
              "    <tr>\n",
              "      <th>0</th>\n",
              "      <td>10827</td>\n",
              "      <td>Drama, Comedy, Thriller, Crime, War</td>\n",
              "    </tr>\n",
              "    <tr>\n",
              "      <th>1</th>\n",
              "      <td>51768</td>\n",
              "      <td>Sci-Fi, Action, Animation, Thriller, Mystery</td>\n",
              "    </tr>\n",
              "    <tr>\n",
              "      <th>2</th>\n",
              "      <td>36064</td>\n",
              "      <td>Documentary, Musical, Drama, IMAX, Comedy</td>\n",
              "    </tr>\n",
              "    <tr>\n",
              "      <th>3</th>\n",
              "      <td>33763</td>\n",
              "      <td>Horror, Fantasy, Thriller, Action, Drama</td>\n",
              "    </tr>\n",
              "    <tr>\n",
              "      <th>4</th>\n",
              "      <td>1146</td>\n",
              "      <td>Crime, Thriller, Drama, Mystery, Horror</td>\n",
              "    </tr>\n",
              "  </tbody>\n",
              "</table>\n",
              "</div>"
            ],
            "text/plain": [
              "   movie_id                              predicted_genres\n",
              "0     10827           Drama, Comedy, Thriller, Crime, War\n",
              "1     51768  Sci-Fi, Action, Animation, Thriller, Mystery\n",
              "2     36064     Documentary, Musical, Drama, IMAX, Comedy\n",
              "3     33763      Horror, Fantasy, Thriller, Action, Drama\n",
              "4      1146       Crime, Thriller, Drama, Mystery, Horror"
            ]
          },
          "execution_count": 185,
          "metadata": {},
          "output_type": "execute_result"
        }
      ],
      "source": [
        "submission.head()"
      ]
    },
    {
      "cell_type": "code",
      "execution_count": 186,
      "metadata": {
        "id": "1-qDXoryKYkE"
      },
      "outputs": [],
      "source": [
        "submission.to_csv('submission.csv',index=False)"
      ]
    },
    {
      "cell_type": "code",
      "execution_count": 253,
      "metadata": {},
      "outputs": [
        {
          "name": "stdout",
          "output_type": "stream",
          "text": [
            "1/1 [==============================] - 0s 40ms/step\n",
            "(1, 19)\n",
            "The synopsis you entered is :\n",
            " ['An Indian soldier is assigned to eliminate his former mentor and he must keep his wits about him if he is to be successful in his mission; when the two men collide, it results in a barrage of battles and bullets.']\n",
            "Genres :  0    Action, Drama, Adventure, Thriller, Crime\n",
            "dtype: object\n"
          ]
        }
      ],
      "source": [
        "new_synopsis_input = [input(\"Input the synopsis\")]\n",
        "synopsis = new_synopsis_input\n",
        "new_synopsis_input = tokenizer.texts_to_sequences(new_synopsis_input)\n",
        "new_synopsis_input = pad_sequences(new_synopsis_input, padding='post', maxlen=maxlen)\n",
        "predict = model.predict(new_synopsis_input, batch_size=batch_size, verbose=1)\n",
        "print(predict.shape)\n",
        "\n",
        "result = pd.DataFrame(predict,columns=y_bin.columns)\n",
        "print(\"The synopsis you entered is :\\n\", synopsis)\n",
        "print(\"Genres : \", top_5_predictions(result))"
      ]
    }
  ],
  "metadata": {
    "colab": {
      "include_colab_link": true,
      "name": "radix_challenge.ipynb",
      "provenance": []
    },
    "kernelspec": {
      "display_name": "Python 3",
      "language": "python",
      "name": "python3"
    },
    "language_info": {
      "codemirror_mode": {
        "name": "ipython",
        "version": 3
      },
      "file_extension": ".py",
      "mimetype": "text/x-python",
      "name": "python",
      "nbconvert_exporter": "python",
      "pygments_lexer": "ipython3",
      "version": "3.9.1"
    }
  },
  "nbformat": 4,
  "nbformat_minor": 0
}
